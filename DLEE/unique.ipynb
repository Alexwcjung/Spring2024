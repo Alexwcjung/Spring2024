{
  "nbformat": 4,
  "nbformat_minor": 0,
  "metadata": {
    "colab": {
      "private_outputs": true,
      "provenance": [],
      "authorship_tag": "ABX9TyMuwfHadb8PztiZUEZ7dO4A",
      "include_colab_link": true
    },
    "kernelspec": {
      "name": "python3",
      "display_name": "Python 3"
    },
    "language_info": {
      "name": "python"
    }
  },
  "cells": [
    {
      "cell_type": "markdown",
      "metadata": {
        "id": "view-in-github",
        "colab_type": "text"
      },
      "source": [
        "<a href=\"https://colab.research.google.com/github/MK316/Spring2024/blob/main/DLEE/unique.ipynb\" target=\"_parent\"><img src=\"https://colab.research.google.com/assets/colab-badge.svg\" alt=\"Open In Colab\"/></a>"
      ]
    },
    {
      "cell_type": "code",
      "execution_count": null,
      "metadata": {
        "id": "PMEqqzHswqG9"
      },
      "outputs": [],
      "source": [
        "import pandas as pd\n",
        "\n",
        "# Replace 'your_file.csv' with the path to your CSV file\n",
        "file_path = '/content/TExam_new.csv'\n",
        "data = pd.read_csv(file_path)\n",
        "\n",
        "# Display the first few rows of the dataframe\n",
        "print(data.head())\n"
      ]
    },
    {
      "cell_type": "code",
      "source": [
        "# Assuming 'KEYWORDS' is the column name containing strings separated by commas\n",
        "keywords = data['KEYWORDS'].str.split(',').explode().unique()\n",
        "\n",
        "# Display unique keywords\n",
        "print(keywords)\n"
      ],
      "metadata": {
        "id": "-TUw5zjmxebD"
      },
      "execution_count": null,
      "outputs": []
    },
    {
      "cell_type": "code",
      "source": [
        "# Convert unique keywords to a list\n",
        "unique_keywords_list = list(keywords)\n",
        "\n",
        "# Display the list of unique keywords\n",
        "print(unique_keywords_list)\n"
      ],
      "metadata": {
        "id": "1vOXAecSxoju"
      },
      "execution_count": null,
      "outputs": []
    },
    {
      "cell_type": "code",
      "source": [
        "# Sort the list of unique keywords alphabetically\n",
        "sorted_unique_keywords_list = sorted(unique_keywords_list)\n",
        "\n",
        "# Display the sorted list of unique keywords\n",
        "print(sorted_unique_keywords_list)\n"
      ],
      "metadata": {
        "id": "P72rTOThxpsm"
      },
      "execution_count": null,
      "outputs": []
    },
    {
      "cell_type": "code",
      "source": [
        "import pandas as pd\n",
        "\n",
        "# Replace 'your_file.csv' with the path to your CSV file\n",
        "file_path = '/content/TExam_new.csv'\n",
        "data = pd.read_csv(file_path)\n",
        "\n",
        "# Assuming 'KEYWORDS' is the column name\n",
        "keywords = data['KEYWORDS'].str.split(',').explode().unique()\n",
        "unique_keywords_list = list(keywords)\n",
        "\n",
        "# Custom sorting function that treats '/j/' as 'j'\n",
        "def custom_sort_keyword(keyword):\n",
        "    return keyword.replace('/j/', 'j')\n",
        "\n",
        "# Sort the list of unique keywords with the custom sorting function\n",
        "sorted_unique_keywords_list = sorted(unique_keywords_list, key=custom_sort_keyword)\n",
        "\n",
        "# Display the sorted list\n",
        "print(sorted_unique_keywords_list)\n"
      ],
      "metadata": {
        "id": "wULl2h8xx91f"
      },
      "execution_count": null,
      "outputs": []
    },
    {
      "cell_type": "code",
      "source": [
        "d1 = pd.DataFrame()\n",
        "d1['Keywords'] = sorted_unique_keywords_list\n",
        "d1.head()"
      ],
      "metadata": {
        "id": "cRt8uwu1yP6t"
      },
      "execution_count": null,
      "outputs": []
    },
    {
      "cell_type": "code",
      "source": [
        "d1.to_csv('keywordlist2.csv', encoding=\"utf-8\")"
      ],
      "metadata": {
        "id": "Mf3k4S9Iybf8"
      },
      "execution_count": null,
      "outputs": []
    }
  ]
}