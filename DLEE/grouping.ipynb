{
  "nbformat": 4,
  "nbformat_minor": 0,
  "metadata": {
    "colab": {
      "private_outputs": true,
      "provenance": [],
      "authorship_tag": "ABX9TyPYmqiVtn4mPeZr1i6KXoDO",
      "include_colab_link": true
    },
    "kernelspec": {
      "name": "python3",
      "display_name": "Python 3"
    },
    "language_info": {
      "name": "python"
    }
  },
  "cells": [
    {
      "cell_type": "markdown",
      "metadata": {
        "id": "view-in-github",
        "colab_type": "text"
      },
      "source": [
        "<a href=\"https://colab.research.google.com/github/MK316/Spring2024/blob/main/DLEE/grouping.ipynb\" target=\"_parent\"><img src=\"https://colab.research.google.com/assets/colab-badge.svg\" alt=\"Open In Colab\"/></a>"
      ]
    },
    {
      "cell_type": "markdown",
      "source": [
        "# Random grouping"
      ],
      "metadata": {
        "id": "MdY3Rhv3CTPo"
      }
    },
    {
      "cell_type": "code",
      "source": [
        "import pandas as pd\n",
        "import random\n",
        "\n",
        "# Sample list of names\n",
        "sample_names = [\"Emma\", \"Liam\", \"Olivia\", \"Noah\", \"Ava\", \"윌리엄\", \"Isabella\", \"James\", \"Sophia\", \"Oliver\",\n",
        "                \"Charlotte\", \"Benjamin\", \"Mia\", \"Elijah\", \"Amelia\", \"Lucas\", \"Harper\", \"Mason\", \"Evelyn\",\n",
        "                \"Logan\", \"Abigail\", \"Alexander\", \"Emily\", \"Ethan\", \"Elizabeth\", \"Jacob\", \"Mila\", \"Michael\",\n",
        "                \"Ella\", \"Daniel\", \"Avery\", \"Henry\", \"Sofia\", \"Jackson\", \"Camila\", \"Sebastian\", \"Aria\",\n",
        "                \"Jack\", \"Scarlett\", \"Aiden\", \"Victoria\", \"Owen\", \"Madison\", \"Samuel\", \"Luna\", \"Matthew\",\n",
        "                \"Grace\", \"Joseph\", \"Chloe\", \"Levi\", \"Penelope\", \"Mateo\", \"Layla\"]\n",
        "\n",
        "# Generate 33 random names\n",
        "random_names = random.sample(sample_names, 33)\n",
        "\n",
        "# Create a DataFrame\n",
        "df = pd.DataFrame(random_names, columns=['Names'])\n",
        "# Assuming 'df' is your DataFrame with the random names\n",
        "df.to_csv('groupsample.csv', index=False, encoding = 'utf-8-sig')\n",
        "\n",
        "print(df)\n"
      ],
      "metadata": {
        "id": "bghiWNdpCt6Q"
      },
      "execution_count": null,
      "outputs": []
    },
    {
      "cell_type": "code",
      "source": [
        "%%capture\n",
        "!pip install gradio"
      ],
      "metadata": {
        "id": "KMQ3mEBoCWwZ"
      },
      "execution_count": null,
      "outputs": []
    },
    {
      "cell_type": "code",
      "source": [
        "import pandas as pd\n",
        "import random\n",
        "import gradio as gr\n",
        "import os\n",
        "\n",
        "\n",
        "def group_names(file, members_per_group):\n",
        "    # Read the CSV file\n",
        "    df = pd.read_csv(file.name, encoding = 'utf-8')\n",
        "\n",
        "    # Shuffle the DataFrame\n",
        "    df = df.sample(frac=1).reset_index(drop=True)\n",
        "\n",
        "    # Grouping\n",
        "    groups = []\n",
        "    for i in range(0, len(df), members_per_group):\n",
        "        groups.append(df[i:i + members_per_group])\n",
        "\n",
        "    # Creating a new DataFrame for grouped data\n",
        "    grouped_df = pd.DataFrame({'Group': [f'Group {i+1}' for i, group in enumerate(groups)],\n",
        "                               'Names': [', '.join(group['Names'].tolist()) for group in groups]})\n",
        "\n",
        "    return grouped_df\n",
        "\n",
        "def main_interface(file, members_per_group):\n",
        "    grouped_df = group_names(file, members_per_group)\n",
        "    # Save the DataFrame to a CSV file\n",
        "    output_filename = '/tmp/grouped_names.csv'\n",
        "    grouped_df.to_csv(output_filename, index=False, encoding = 'utf-8-sig')\n",
        "    return output_filename\n",
        "\n",
        "iface = gr.Interface(\n",
        "    fn=main_interface,\n",
        "    inputs=[gr.File(label=\"Upload CSV File\"), gr.Number(label=\"Members per Group\", value=5)],\n",
        "    outputs=gr.File(label=\"Download Grouped Names CSV\"),\n",
        "    allow_flagging=\"never\"\n",
        ")\n",
        "\n",
        "iface.launch()\n"
      ],
      "metadata": {
        "id": "0JSVuoaACeuR"
      },
      "execution_count": null,
      "outputs": []
    }
  ]
}