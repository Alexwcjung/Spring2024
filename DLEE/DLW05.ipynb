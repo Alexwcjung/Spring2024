{
  "nbformat": 4,
  "nbformat_minor": 0,
  "metadata": {
    "colab": {
      "private_outputs": true,
      "provenance": [],
      "authorship_tag": "ABX9TyORg49Iwi6ovSG/uXNQv4bk",
      "include_colab_link": true
    },
    "kernelspec": {
      "name": "python3",
      "display_name": "Python 3"
    },
    "language_info": {
      "name": "python"
    }
  },
  "cells": [
    {
      "cell_type": "markdown",
      "metadata": {
        "id": "view-in-github",
        "colab_type": "text"
      },
      "source": [
        "<a href=\"https://colab.research.google.com/github/MK316/Spring2024/blob/main/DLEE/DLW05.ipynb\" target=\"_parent\"><img src=\"https://colab.research.google.com/assets/colab-badge.svg\" alt=\"Open In Colab\"/></a>"
      ]
    },
    {
      "cell_type": "markdown",
      "source": [
        "# Text-to-Speech\n",
        "\n",
        "+ Making an interactive application"
      ],
      "metadata": {
        "id": "ZsS_1jMG5SSg"
      }
    },
    {
      "cell_type": "markdown",
      "source": [
        "## Step 1: Setting Up Text-to-Speech with gTTS (Google Text-to-Speech)"
      ],
      "metadata": {
        "id": "y8u3fQYg5fph"
      }
    },
    {
      "cell_type": "code",
      "execution_count": null,
      "metadata": {
        "id": "-S77gGZa5QVM"
      },
      "outputs": [],
      "source": [
        "%%capture\n",
        "!pip install gtts"
      ]
    },
    {
      "cell_type": "code",
      "source": [
        "from gtts import gTTS\n",
        "from IPython.display import Audio\n",
        "\n",
        "def tts(text, lang='en'):\n",
        "    tts = gTTS(text=text, lang=lang)\n",
        "    tts.save(\"output.mp3\")\n",
        "    return Audio(\"output.mp3\")\n",
        "\n",
        "audio = tts(\"Hello! welcome to our language learning app!\")\n",
        "audio"
      ],
      "metadata": {
        "id": "jH6YBhRX5dTM"
      },
      "execution_count": null,
      "outputs": []
    },
    {
      "cell_type": "markdown",
      "source": [
        "## Step 2: Interactive User Input\n",
        "The next step is to make it interactive. You can ask the user to input text, which can then be read back to them. This can be a way to practice pronunciation."
      ],
      "metadata": {
        "id": "EHlGz1Jq6Nt7"
      }
    },
    {
      "cell_type": "code",
      "source": [
        "user_input = input(\"Type a sentence in English to hear it spoken: \")\n",
        "tts(user_input)\n"
      ],
      "metadata": {
        "id": "cVUMGYgD6Sxw"
      },
      "execution_count": null,
      "outputs": []
    },
    {
      "cell_type": "markdown",
      "source": [
        "## Step 3: Adding Basic Language Translation\n",
        "You can integrate a basic translation feature using libraries like googletrans. First, install it:"
      ],
      "metadata": {
        "id": "nsQQ7KOP6YLx"
      }
    },
    {
      "cell_type": "code",
      "source": [
        "%%capture\n",
        "!pip install googletrans==4.0.0-rc1"
      ],
      "metadata": {
        "id": "caMdW8DK6c3C"
      },
      "execution_count": null,
      "outputs": []
    },
    {
      "cell_type": "code",
      "source": [
        "from googletrans import Translator\n",
        "\n",
        "translator = Translator()\n",
        "\n",
        "def translate_and_speak(text, src_lang='en', target_lang='es'):\n",
        "    translation = translator.translate(text, src=src_lang, dest=target_lang)\n",
        "    print(f\"Translated Text: {translation.text}\")\n",
        "    tts(translation.text, lang=target_lang)\n",
        "\n",
        "user_input = input(\"Type a sentence in English to translate to Spanish and hear it spoken: \")\n",
        "translate_and_speak(user_input, target_lang='es')\n"
      ],
      "metadata": {
        "id": "aV5b3gzD6icV"
      },
      "execution_count": null,
      "outputs": []
    },
    {
      "cell_type": "markdown",
      "source": [
        "+ Translate and speak"
      ],
      "metadata": {
        "id": "FXzOsbTI8Apm"
      }
    },
    {
      "cell_type": "code",
      "source": [
        "from gtts import gTTS\n",
        "from IPython.display import Audio\n",
        "from googletrans import Translator\n",
        "\n",
        "def tts(text, lang='en'):\n",
        "    tts = gTTS(text=text, lang=lang)\n",
        "    tts.save(\"output.mp3\")\n",
        "    return Audio(\"output.mp3\")\n",
        "\n",
        "def translate_and_speak(text, src_lang='ko', target_lang='en'):\n",
        "    translator = Translator()\n",
        "    translation = translator.translate(text, src=src_lang, dest=target_lang)\n",
        "    print(f\"Translated Text: {translation.text}\")\n",
        "    return tts(translation.text, lang=target_lang)\n",
        "\n",
        "# Example usage\n",
        "user_input = input(\"Type a sentence in English to translate to Korean and hear it spoken: \")\n",
        "audio = translate_and_speak(user_input, target_lang='en')\n",
        "audio\n"
      ],
      "metadata": {
        "id": "kALwNQj86xNm"
      },
      "execution_count": null,
      "outputs": []
    },
    {
      "cell_type": "code",
      "source": [
        "!pip install gradio"
      ],
      "metadata": {
        "id": "mNp_4jbB8K75"
      },
      "execution_count": null,
      "outputs": []
    },
    {
      "cell_type": "markdown",
      "source": [
        "# Pronunciation Correction (Sample)\n",
        "\n",
        "- Implementing pronunciation correction in a language learning application is quite advanced. It typically involves speech recognition to transcribe the user's spoken input and then compares it with the expected correct pronunciation. Here's a basic approach using Python:\n",
        "\n",
        "  + Speech Recognition: Use a library like speech_recognition to capture and transcribe spoken input.\n",
        "  + Comparison with Expected Pronunciation: Compare the transcribed text with the correct text.\n",
        "  + Feedback to User: Provide feedback based on the comparison."
      ],
      "metadata": {
        "id": "TmnBPdDv_X6f"
      }
    },
    {
      "cell_type": "markdown",
      "source": [
        "+ SpeechRecognition is for capturing and transcribing audio. python-Levenshtein provides a way to measure the difference between two sequences (in our case, spoken and expected text)."
      ],
      "metadata": {
        "id": "Hxx-Kods_5Ok"
      }
    },
    {
      "cell_type": "code",
      "source": [
        "!pip install SpeechRecognition\n",
        "!pip install python-Levenshtein"
      ],
      "metadata": {
        "id": "exUYyUxn_oFg"
      },
      "execution_count": null,
      "outputs": []
    },
    {
      "cell_type": "markdown",
      "source": [
        "## Code Implementation\n",
        "Here's a basic implementation: (This doesn't work for now)"
      ],
      "metadata": {
        "id": "_7KJaiW6_8N_"
      }
    },
    {
      "cell_type": "code",
      "source": [
        "import speech_recognition as sr\n",
        "from Levenshtein import ratio\n",
        "\n",
        "def record_audio():\n",
        "    # Initialize the recognizer\n",
        "    r = sr.Recognizer()\n",
        "\n",
        "    # Record audio\n",
        "    with sr.Microphone() as source:\n",
        "        print(\"Please say the sentence:\")\n",
        "        audio = r.listen(source)\n",
        "\n",
        "    # Use Google Web Speech API to transcribe\n",
        "    try:\n",
        "        text = r.recognize_google(audio)\n",
        "        return text\n",
        "    except sr.UnknownValueError:\n",
        "        return \"Could not understand audio\"\n",
        "    except sr.RequestError as e:\n",
        "        return \"Could not request results; {0}\".format(e)\n",
        "\n",
        "def pronunciation_correction(expected_text):\n",
        "    user_spoken_text = record_audio()\n",
        "    print(\"You said: \" + user_spoken_text)\n",
        "\n",
        "    # Compare the spoken text with the expected text\n",
        "    similarity = ratio(expected_text.lower(), user_spoken_text.lower())\n",
        "    if similarity > 0.8:  # You can adjust this threshold\n",
        "        return \"Good pronunciation!\"\n",
        "    else:\n",
        "        return \"Try again, make sure to pronounce clearly.\"\n",
        "\n",
        "# Example Usage\n",
        "correct_text = \"Hello, welcome to our language learning app\"\n",
        "feedback = pronunciation_correction(correct_text)\n",
        "print(feedback)\n"
      ],
      "metadata": {
        "id": "tQxlXtqu__ep"
      },
      "execution_count": null,
      "outputs": []
    },
    {
      "cell_type": "markdown",
      "source": [
        "## How it Works\n",
        "The record_audio function captures audio through the microphone and uses Google's Web Speech API to transcribe it.\n",
        "The pronunciation_correction function takes the expected correct text, records the user's speech, and compares the transcription to the expected text.\n",
        "The similarity is measured using the Levenshtein ratio. If the similarity is above a certain threshold, it considers the pronunciation good."
      ],
      "metadata": {
        "id": "xzCQkVUIANnA"
      }
    },
    {
      "cell_type": "markdown",
      "source": [
        "## Considerations\n",
        "+ Accuracy: Speech recognition accuracy can vary based on accent, speech clarity, and background noise.\n",
        "+ Language Support: Google's speech recognition supports multiple languages, but you need to specify the language if it's not English.\n",
        "+ Privacy: Inform users that their speech will be sent to Google's servers for transcription.\n",
        "+ Improvement: For more advanced pronunciation analysis, you might consider phonetic comparison or integrating specialized APIs."
      ],
      "metadata": {
        "id": "40oXbhDWAPLM"
      }
    }
  ]
}