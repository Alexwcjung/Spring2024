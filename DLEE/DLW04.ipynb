{
  "nbformat": 4,
  "nbformat_minor": 0,
  "metadata": {
    "colab": {
      "private_outputs": true,
      "provenance": [],
      "authorship_tag": "ABX9TyOATCkPnZjv1yLNBxq804lE",
      "include_colab_link": true
    },
    "kernelspec": {
      "name": "python3",
      "display_name": "Python 3"
    },
    "language_info": {
      "name": "python"
    }
  },
  "cells": [
    {
      "cell_type": "markdown",
      "metadata": {
        "id": "view-in-github",
        "colab_type": "text"
      },
      "source": [
        "<a href=\"https://colab.research.google.com/github/MK316/Spring2024/blob/main/DLEE/DLW04.ipynb\" target=\"_parent\"><img src=\"https://colab.research.google.com/assets/colab-badge.svg\" alt=\"Open In Colab\"/></a>"
      ]
    },
    {
      "cell_type": "markdown",
      "source": [
        "# 3.5 Data types:\n",
        "\n",
        "* **Number:** integers, floating numbers\n",
        "* **String:** character strings\n",
        "* **List:** multiple elements\n",
        "* **Dictionary:** paired values (e.g., {'book': 'noun'}\n",
        "* **Tuple:** paired values not modifiable (e.g., months = (\"January\",\"February\",...))\n"
      ],
      "metadata": {
        "id": "3eSrUoglRh6-"
      }
    },
    {
      "cell_type": "markdown",
      "source": [
        "\n",
        "|Data type| |\n",
        "|:--:|:--:|\n",
        "|number|int, float|\n",
        "|string|charcter|\n",
        "|list|[1, 2,4], ['Mary','Tom','Jane'|\n",
        "|dictionary|(key: value), [('English': 80), ('Korean':90)]|\n",
        "|tuple|('zero', 0)|\n"
      ],
      "metadata": {
        "id": "ZVFb5JmJrPXu"
      }
    },
    {
      "cell_type": "markdown",
      "source": [
        "## [1] Numbers"
      ],
      "metadata": {
        "id": "6ssqRcktm8qP"
      }
    },
    {
      "cell_type": "code",
      "source": [
        "a1 = 3        #integer\n",
        "a2 = 3.0      #float\n",
        "a3 = \"3\"      #string\n",
        "\n",
        "print(type(a1))\n",
        "print(type(a2))\n",
        "print(type(a3))"
      ],
      "metadata": {
        "id": "g-kvldqENA1e"
      },
      "execution_count": null,
      "outputs": []
    },
    {
      "cell_type": "code",
      "source": [
        "# An example of an integer\n",
        "age = 25\n",
        "print(\"Age:\", age)"
      ],
      "metadata": {
        "id": "hXLBRArPnSa6"
      },
      "execution_count": null,
      "outputs": []
    },
    {
      "cell_type": "code",
      "source": [
        "# An example of a float\n",
        "average_score = 82.5\n",
        "print(\"Average Score:\", average_score)"
      ],
      "metadata": {
        "id": "rhPeAbpEnWDd"
      },
      "execution_count": null,
      "outputs": []
    },
    {
      "cell_type": "markdown",
      "source": [
        "## [2] String"
      ],
      "metadata": {
        "id": "_gzEHbvloSqS"
      }
    },
    {
      "cell_type": "code",
      "source": [
        "# An example of a string\n",
        "name = input()  # A pop-up box will appear and wait for your input. Type a name.\n",
        "print(\"Hello, %s!\"%name)"
      ],
      "metadata": {
        "id": "xMi4lfEXnYk8"
      },
      "execution_count": null,
      "outputs": []
    },
    {
      "cell_type": "code",
      "source": [
        "# Text\n",
        "mytext = \"\"\"\n",
        "An API, or Application Programming Interface, is a set of rules, protocols, \\\n",
        "and tools for building software and applications. \\\n",
        "It specifies how different software components should interact and communicate with each other. \\\n",
        "Essentially, an API is a way for different software applications to talk to one another.\n",
        "\"\"\"\n",
        "words = mytext.split()\n",
        "print(\"Number of words: \",len(words))\n",
        "print(\"My text: \", mytext)"
      ],
      "metadata": {
        "id": "51HrTLk_nfKz"
      },
      "execution_count": null,
      "outputs": []
    },
    {
      "cell_type": "markdown",
      "source": [
        "## [3] List\n",
        "\n",
        "+ An ordered, mutable (changeable) collection of items. Lists are defined with square brackets, e.g., [1, 2, 3] or ['apple', 'banana', 'cherry']."
      ],
      "metadata": {
        "id": "_9Bsz0yVoN4J"
      }
    },
    {
      "cell_type": "code",
      "source": [
        "# An example of a list\n",
        "favorite_books = [\"To Kill a Mockingbird\", \"1984\", \"The Great Gatsby\"]\n",
        "print(\"Favorite Books:\", favorite_books)"
      ],
      "metadata": {
        "id": "GqOU53NUn72-"
      },
      "execution_count": null,
      "outputs": []
    },
    {
      "cell_type": "code",
      "source": [
        "# Accessing a list\n",
        "print(\"First book: \", favorite_books[0])"
      ],
      "metadata": {
        "id": "jHeZkpFZojK5"
      },
      "execution_count": null,
      "outputs": []
    },
    {
      "cell_type": "markdown",
      "source": [
        "+ Creating a list"
      ],
      "metadata": {
        "id": "Mj02RjCjpEyQ"
      }
    },
    {
      "cell_type": "code",
      "source": [
        "# Creating an empty list\n",
        "empty_list = []\n",
        "\n",
        "# Creating a list with some elements\n",
        "fruits = [\"apple\", \"banana\", \"cherry\"]\n"
      ],
      "metadata": {
        "id": "lsimZTSWo3GO"
      },
      "execution_count": null,
      "outputs": []
    },
    {
      "cell_type": "markdown",
      "source": [
        "+ Accessing list elements"
      ],
      "metadata": {
        "id": "aXv4Urj_pGoL"
      }
    },
    {
      "cell_type": "code",
      "source": [
        "# Accessing the first element\n",
        "first_fruit = fruits[0]  # 'apple'\n",
        "print(first_fruit)\n",
        "\n",
        "# Accessing the last element\n",
        "last_fruit = fruits[-1]  # 'cherry'\n",
        "print(last_fruit)\n",
        "print(fruits)"
      ],
      "metadata": {
        "id": "wnGA0faUpDVx"
      },
      "execution_count": null,
      "outputs": []
    },
    {
      "cell_type": "markdown",
      "source": [
        "+ Adding elements to a list"
      ],
      "metadata": {
        "id": "lKGQyz_VpI1P"
      }
    },
    {
      "cell_type": "code",
      "source": [
        "# Adding an element to the end of the list\n",
        "print(fruits)\n",
        "fruits.append(\"orange\")\n",
        "print(fruits)\n",
        "\n",
        "# Adding an element at a specific position\n",
        "fruits.insert(1, \"mango\")  # Inserts 'mango' at position 1 (this is the second position in the list)\n",
        "print(fruits)"
      ],
      "metadata": {
        "id": "kIwNKHbNpKrK"
      },
      "execution_count": null,
      "outputs": []
    },
    {
      "cell_type": "markdown",
      "source": [
        "+ Removing elements from a list"
      ],
      "metadata": {
        "id": "Nou9hOEhpN0E"
      }
    },
    {
      "cell_type": "code",
      "source": [
        "# Removing an element by value\n",
        "# Creating a list with some elements\n",
        "fruits = [\"apple\", \"banana\", \"cherry\"]\n",
        "\n",
        "fruits.remove(\"banana\")\n",
        "print(fruits)\n",
        "# Removing an element by index\n",
        "del fruits[0]  # Removes the first element\n",
        "\n",
        "print(fruits)"
      ],
      "metadata": {
        "id": "eM3pZoo3pR_O"
      },
      "execution_count": null,
      "outputs": []
    },
    {
      "cell_type": "markdown",
      "source": [
        "+ Slicing a list"
      ],
      "metadata": {
        "id": "dm_adoOJpT2n"
      }
    },
    {
      "cell_type": "code",
      "source": [
        "# Creating a list with some elements\n",
        "# index starts with 0 in Python. THus, \"banana\" is the second element and its index is \"1\", not \"2\"\n",
        "fruits = [\"apple\", \"banana\", \"cherry\", \"mango\", \"orange\"]\n",
        "\n",
        "# Slicing elements from 2nd to 4th position\n",
        "a1 = fruits[1:4]; print(\"a1: \", a1)\n",
        "\n",
        "# Slicing from the start to the 3rd position\n",
        "a2 = fruits[:3]; print(\"a2: \", a2)\n",
        "\n",
        "# Slicing from 3rd position to the end\n",
        "a3 = fruits[2:]; print(\"a3: \", a3)\n"
      ],
      "metadata": {
        "id": "qC78AfFZpVaU"
      },
      "execution_count": null,
      "outputs": []
    },
    {
      "cell_type": "markdown",
      "source": [
        "+ Iterating over a list"
      ],
      "metadata": {
        "id": "bmxwcux1pW9V"
      }
    },
    {
      "cell_type": "code",
      "source": [
        "# Iterating through a list\n",
        "for fruit in fruits:\n",
        "    print(fruit)"
      ],
      "metadata": {
        "id": "4uYP2uzTpZJY"
      },
      "execution_count": null,
      "outputs": []
    },
    {
      "cell_type": "code",
      "source": [
        "for i in range(0,10):\n",
        "  print(i)"
      ],
      "metadata": {
        "id": "j0ShX5WFrKQD"
      },
      "execution_count": null,
      "outputs": []
    },
    {
      "cell_type": "markdown",
      "source": [
        "+ Sorting a list"
      ],
      "metadata": {
        "id": "eAF_rYZ1pehF"
      }
    },
    {
      "cell_type": "code",
      "source": [
        "# Sorting a list without modifying the original list\n",
        "fruits = [\"cherry\", \"mango\", \"orange\",\"apple\", \"banana\"]\n",
        "print(\"Original: \", fruits)\n",
        "sorted_fruits = sorted(fruits)\n",
        "print(\"Sorted: \", sorted_fruits)"
      ],
      "metadata": {
        "id": "Ac35l6m2reSs"
      },
      "execution_count": null,
      "outputs": []
    },
    {
      "cell_type": "markdown",
      "source": [
        "+ Checking if an item is in a list"
      ],
      "metadata": {
        "id": "mvu7z-Xrph8X"
      }
    },
    {
      "cell_type": "code",
      "source": [
        "# Check if an item is in a list\n",
        "if \"apple\" in fruits:\n",
        "    print(\"Apple is in the list\")"
      ],
      "metadata": {
        "id": "L4EKFvD1pkfp"
      },
      "execution_count": null,
      "outputs": []
    },
    {
      "cell_type": "code",
      "source": [
        "request = input(\"Which one do you want to check? \")\n",
        "\n",
        "if request in fruits:\n",
        "  print(f\"The word '{request}' is in the list.\")\n",
        "else:\n",
        "  print(f\"The word '{request}' is not in the list\")"
      ],
      "metadata": {
        "id": "jnSBw49hsS9Q"
      },
      "execution_count": null,
      "outputs": []
    },
    {
      "cell_type": "markdown",
      "source": [
        "list and index (0, 1, 2,...)"
      ],
      "metadata": {
        "id": "HC_wMsPnNbzs"
      }
    },
    {
      "cell_type": "code",
      "source": [
        "a = [1, \"Mary\", 4, \"John\"]\n",
        "\n",
        "a1 = a[0] + a[2]\n",
        "a3 = a[1] + a[3]\n",
        "print(a1, a3)"
      ],
      "metadata": {
        "id": "LyTw7phONZHE"
      },
      "execution_count": null,
      "outputs": []
    },
    {
      "cell_type": "code",
      "source": [
        "# This will reture TypeError\n",
        "a2 = a[0] + a[1]"
      ],
      "metadata": {
        "id": "RdatCKNctUSM"
      },
      "execution_count": null,
      "outputs": []
    },
    {
      "cell_type": "markdown",
      "source": [
        "## [4] Dictionary"
      ],
      "metadata": {
        "id": "eipUvDN6tdOG"
      }
    },
    {
      "cell_type": "markdown",
      "source": [
        "## [5] Tuple"
      ],
      "metadata": {
        "id": "2KUdLfwbtfGt"
      }
    },
    {
      "cell_type": "markdown",
      "source": [
        "# 3.6 Dataframe (columns and rows)"
      ],
      "metadata": {
        "id": "BW1ESCpvI5uT"
      }
    },
    {
      "cell_type": "code",
      "source": [
        "import pandas as pd\n",
        "\n",
        "df = pd.DataFrame()\n",
        "df['Name'] = ['Mary','John','Sarah']\n",
        "df['English'] = [90, 80, 98]\n",
        "df"
      ],
      "metadata": {
        "id": "Lic0KYb4OMmp"
      },
      "execution_count": null,
      "outputs": []
    },
    {
      "cell_type": "markdown",
      "source": [
        "# Demo\n",
        "\n",
        "Current time in a city"
      ],
      "metadata": {
        "id": "YU8suB2oO2uf"
      }
    },
    {
      "cell_type": "markdown",
      "source": [
        "# Application"
      ],
      "metadata": {
        "id": "3ADaJZQJ5MuH"
      }
    },
    {
      "cell_type": "markdown",
      "source": [
        "# Lesson objectives:\n",
        "\n",
        "1. Students will be able to understand and use vocabulary related to time (e.g. hour, minute, second, a.m./p.m., morning, afternoon, etc.).\n",
        "2. Students will be able to ask and answer questions about the time using basic time expressions (e.g. \"What time is it?\", \"It's [time] in [location]\")."
      ],
      "metadata": {
        "id": "uPeYJVZQ59Cv"
      }
    },
    {
      "cell_type": "markdown",
      "source": [
        "Let's watch a short video!"
      ],
      "metadata": {
        "id": "VT8NHJZM-TjO"
      }
    },
    {
      "cell_type": "code",
      "source": [
        "#@markdown **Title: Why do we have different time zone?** Video (1m 19s)\n",
        "from IPython.display import YouTubeVideo, display\n",
        "video = YouTubeVideo(\"AgINA9_IFiI\", width=600)\n",
        "display(video)"
      ],
      "metadata": {
        "cellView": "form",
        "id": "r4bGc9Zc-Suu"
      },
      "execution_count": null,
      "outputs": []
    },
    {
      "cell_type": "code",
      "source": [
        "#@markdown 💠 Map of the world time zone (#1~2)\n",
        "from IPython.display import Image\n",
        "\n",
        "pages = \"2\" #@param = [\"1\", \"2\", \"3\", \"4\", \"5\",\"6\",\"7\"]\n",
        "adds = ['https://github.com/MK316/Spring2023/raw/main/DL/data/worldmappng.png',\n",
        "        'https://github.com/MK316/Spring2023/raw/main/DL/data/worldtimezone.png']\n",
        "\n",
        "if pages == \"1\":\n",
        "  add = adds[0]\n",
        "elif pages == \"2\":\n",
        "  add = adds[1]\n",
        "\n",
        "Image(url=add, width=900, height=600)"
      ],
      "metadata": {
        "cellView": "form",
        "id": "NbPqRcZ_5O9H"
      },
      "execution_count": null,
      "outputs": []
    },
    {
      "cell_type": "markdown",
      "source": [
        "## Q: Current time in Seoul is 5 pm. What time is it in London now?\n",
        "\n",
        "Note: [pytz timezone list](https://gist.github.com/heyalexej/8bf688fd67d7199be4a1682b3eec7568), [gTTS language options](https://gtts.readthedocs.io/en/latest/module.html)"
      ],
      "metadata": {
        "id": "m4CykqtlCm2E"
      }
    },
    {
      "cell_type": "code",
      "source": [
        "#@markdown 📌 Install packages\n",
        "%%capture\n",
        "!pip install gtts\n",
        "from gtts import gTTS"
      ],
      "metadata": {
        "cellView": "form",
        "id": "XzrqYy4DEgxO"
      },
      "execution_count": null,
      "outputs": []
    },
    {
      "cell_type": "code",
      "source": [
        "from datetime import datetime\n",
        "import pytz\n",
        "\n",
        "#@markdown **🌲 Step [1] Location to choose:**\n",
        "# Get the timezone object for New York\n",
        "\n",
        "location = 'Asia/Seoul' #@param = ['Asia/Seoul','Asia/Shanghai','Asia/Dubai','Australia/Sydney','America/New_York', 'Canada/Montreal','Europe/London', 'Europe/Barcelona','Africa/Cairo']\n",
        "loc = location.split(\"/\")\n",
        "locq = loc[1]\n",
        "\n",
        "tz_loc = pytz.timezone(location)\n",
        "datetime = datetime.now(tz_loc)\n",
        "current_time1 = datetime.strftime(\"%H:%M\")\n",
        "current_time2 = datetime.strftime(\"%I:%M %p\")\n",
        "\n",
        "# Get the current time in New York\n",
        "print(\"Current Time in %s is\"%locq, current_time2)"
      ],
      "metadata": {
        "cellView": "form",
        "id": "N5rVEfZAP9k7"
      },
      "execution_count": null,
      "outputs": []
    },
    {
      "cell_type": "code",
      "source": [
        "#@markdown **🌲 Step [2] Language to choose:**\n",
        "# language and dialect selection\n",
        "language_select = \"en/ca/English(Canada)\" #@param = [\"en/us/English(US)\",\"en/co.uk/English(UK)\",\"en/com.au/English(Australia)\",\"en/ca/English(Canada)\",\"en/co.in/English(India)\",\"en/ie/English(Ireland)\",\"fr/fr/French\",\"es/es/Spanish(Spain)/\",\"ko/ko/Korean\",\"zh-CN/any/Chinese(Main Land)\"]\n",
        "langsel = language_select.split(\"/\")\n",
        "lg = langsel[0]\n",
        "dialect = langsel[1]\n",
        "\n",
        "# text input\n",
        "txt = input(\"Type texts to say: \")\n",
        "\n",
        "import random\n",
        "citylist = [\"London\",\"Paris\",\"New York\",\"Dubai\",\"Jinju\",\"Barcelona\",\"Shanghai\",\"Montreal\",\"Sydney\"]\n",
        "city = random.choice(citylist)\n",
        "mytext = txt + \"... \" + \"What time is it in %s now?\"%city\n",
        "# function\n",
        "if lg == \"ko\":\n",
        "  tts = gTTS(mytext, lang = lg, slow = False)\n",
        "elif lg == \"zh-CN\":\n",
        "  tts = gTTS(mytext, lang = lg, slow = False)\n",
        "else:\n",
        "  tts = gTTS(mytext, lang = lg, tld = dialect, slow = False)\n",
        "\n",
        "tts.save('myaudio.mp3')\n",
        "\n",
        "# Save as a file for reading\n",
        "\n",
        "# Play audio\n",
        "from IPython.display import Audio, display\n",
        "Audio('myaudio.mp3')"
      ],
      "metadata": {
        "cellView": "form",
        "id": "aq7aCYfgHAnc"
      },
      "execution_count": null,
      "outputs": []
    }
  ]
}