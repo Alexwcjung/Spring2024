{
  "nbformat": 4,
  "nbformat_minor": 0,
  "metadata": {
    "colab": {
      "private_outputs": true,
      "provenance": [],
      "authorship_tag": "ABX9TyO4isKzNWimt/911wi6hfuO",
      "include_colab_link": true
    },
    "kernelspec": {
      "name": "python3",
      "display_name": "Python 3"
    },
    "language_info": {
      "name": "python"
    }
  },
  "cells": [
    {
      "cell_type": "markdown",
      "metadata": {
        "id": "view-in-github",
        "colab_type": "text"
      },
      "source": [
        "<a href=\"https://colab.research.google.com/github/MK316/Spring2024/blob/main/DLEE/DLW04.ipynb\" target=\"_parent\"><img src=\"https://colab.research.google.com/assets/colab-badge.svg\" alt=\"Open In Colab\"/></a>"
      ]
    },
    {
      "cell_type": "code",
      "execution_count": null,
      "metadata": {
        "id": "ow95t-RIWVPu"
      },
      "outputs": [],
      "source": []
    },
    {
      "cell_type": "markdown",
      "source": [
        "# 3.5 Data types: list and dictionary\n"
      ],
      "metadata": {
        "id": "3eSrUoglRh6-"
      }
    },
    {
      "cell_type": "markdown",
      "source": [
        "\n",
        "|Data type| |\n",
        "|:--:|:--:|\n",
        "|number|int, float|\n",
        "|string|charcter|\n",
        "|list|[1, 2,4], ['Mary','Tom','Jane'|\n",
        "|dictionary|(key: value), [('English': 80), ('Korean':90)]|\n",
        "|tuple|('zero', 0)|\n"
      ],
      "metadata": {
        "id": "ZVFb5JmJrPXu"
      }
    },
    {
      "cell_type": "code",
      "source": [
        "a1 = 3\n",
        "a2 = 3.0\n",
        "a3 = \"3\"\n",
        "\n",
        "type(a1+int(a2))"
      ],
      "metadata": {
        "id": "g-kvldqENA1e"
      },
      "execution_count": null,
      "outputs": []
    },
    {
      "cell_type": "markdown",
      "source": [
        "list and index (0, 1, 2,...)"
      ],
      "metadata": {
        "id": "HC_wMsPnNbzs"
      }
    },
    {
      "cell_type": "code",
      "source": [
        "a = [1, \"Mary\", 4, \"John\"]\n",
        "print(type(a))\n",
        "a[0:4]"
      ],
      "metadata": {
        "id": "LyTw7phONZHE"
      },
      "execution_count": null,
      "outputs": []
    },
    {
      "cell_type": "markdown",
      "source": [
        "# [4] Dataframe (columns and rows)"
      ],
      "metadata": {
        "id": "BW1ESCpvI5uT"
      }
    },
    {
      "cell_type": "code",
      "source": [
        "import pandas as pd\n",
        "\n",
        "df = pd.DataFrame()\n",
        "df['Name'] = ['Mary','John','Sarah']\n",
        "df['English'] = [90, 80, 98]\n",
        "df"
      ],
      "metadata": {
        "id": "Lic0KYb4OMmp"
      },
      "execution_count": null,
      "outputs": []
    },
    {
      "cell_type": "markdown",
      "source": [
        "# Demo\n",
        "\n",
        "Current time in a city"
      ],
      "metadata": {
        "id": "YU8suB2oO2uf"
      }
    },
    {
      "cell_type": "markdown",
      "source": [
        "# Application"
      ],
      "metadata": {
        "id": "3ADaJZQJ5MuH"
      }
    },
    {
      "cell_type": "markdown",
      "source": [
        "# Lesson objectives:\n",
        "\n",
        "1. Students will be able to understand and use vocabulary related to time (e.g. hour, minute, second, a.m./p.m., morning, afternoon, etc.).\n",
        "2. Students will be able to ask and answer questions about the time using basic time expressions (e.g. \"What time is it?\", \"It's [time] in [location]\")."
      ],
      "metadata": {
        "id": "uPeYJVZQ59Cv"
      }
    },
    {
      "cell_type": "markdown",
      "source": [
        "Let's watch a short video!"
      ],
      "metadata": {
        "id": "VT8NHJZM-TjO"
      }
    },
    {
      "cell_type": "code",
      "source": [
        "#@markdown **Title: Why do we have different time zone?** Video (1m 19s)\n",
        "from IPython.display import YouTubeVideo, display\n",
        "video = YouTubeVideo(\"AgINA9_IFiI\", width=600)\n",
        "display(video)"
      ],
      "metadata": {
        "cellView": "form",
        "id": "r4bGc9Zc-Suu"
      },
      "execution_count": null,
      "outputs": []
    },
    {
      "cell_type": "code",
      "source": [
        "#@markdown 💠 Map of the world time zone (#1~2)\n",
        "from IPython.display import Image\n",
        "\n",
        "pages = \"2\" #@param = [\"1\", \"2\", \"3\", \"4\", \"5\",\"6\",\"7\"]\n",
        "adds = ['https://github.com/MK316/Spring2023/raw/main/DL/data/worldmappng.png',\n",
        "        'https://github.com/MK316/Spring2023/raw/main/DL/data/worldtimezone.png']\n",
        "\n",
        "if pages == \"1\":\n",
        "  add = adds[0]\n",
        "elif pages == \"2\":\n",
        "  add = adds[1]\n",
        "\n",
        "Image(url=add, width=900, height=600)"
      ],
      "metadata": {
        "cellView": "form",
        "id": "NbPqRcZ_5O9H"
      },
      "execution_count": null,
      "outputs": []
    },
    {
      "cell_type": "markdown",
      "source": [
        "## Q: Current time in Seoul is 5 pm. What time is it in London now?\n",
        "\n",
        "Note: [pytz timezone list](https://gist.github.com/heyalexej/8bf688fd67d7199be4a1682b3eec7568), [gTTS language options](https://gtts.readthedocs.io/en/latest/module.html)"
      ],
      "metadata": {
        "id": "m4CykqtlCm2E"
      }
    },
    {
      "cell_type": "code",
      "source": [
        "#@markdown 📌 Install packages\n",
        "%%capture\n",
        "!pip install gtts\n",
        "from gtts import gTTS"
      ],
      "metadata": {
        "cellView": "form",
        "id": "XzrqYy4DEgxO"
      },
      "execution_count": null,
      "outputs": []
    },
    {
      "cell_type": "code",
      "source": [
        "from datetime import datetime\n",
        "import pytz\n",
        "\n",
        "#@markdown **🌲 Step [1] Location to choose:**\n",
        "# Get the timezone object for New York\n",
        "\n",
        "location = 'Asia/Seoul' #@param = ['Asia/Seoul','Asia/Shanghai','Asia/Dubai','Australia/Sydney','America/New_York', 'Canada/Montreal','Europe/London', 'Europe/Barcelona','Africa/Cairo']\n",
        "loc = location.split(\"/\")\n",
        "locq = loc[1]\n",
        "\n",
        "tz_loc = pytz.timezone(location)\n",
        "datetime = datetime.now(tz_loc)\n",
        "current_time1 = datetime.strftime(\"%H:%M\")\n",
        "current_time2 = datetime.strftime(\"%I:%M %p\")\n",
        "\n",
        "# Get the current time in New York\n",
        "print(\"Current Time in %s is\"%locq, current_time2)"
      ],
      "metadata": {
        "cellView": "form",
        "id": "N5rVEfZAP9k7"
      },
      "execution_count": null,
      "outputs": []
    },
    {
      "cell_type": "code",
      "source": [
        "#@markdown **🌲 Step [2] Language to choose:**\n",
        "# language and dialect selection\n",
        "language_select = \"en/ca/English(Canada)\" #@param = [\"en/us/English(US)\",\"en/co.uk/English(UK)\",\"en/com.au/English(Australia)\",\"en/ca/English(Canada)\",\"en/co.in/English(India)\",\"en/ie/English(Ireland)\",\"fr/fr/French\",\"es/es/Spanish(Spain)/\",\"ko/ko/Korean\",\"zh-CN/any/Chinese(Main Land)\"]\n",
        "langsel = language_select.split(\"/\")\n",
        "lg = langsel[0]\n",
        "dialect = langsel[1]\n",
        "\n",
        "# text input\n",
        "txt = input(\"Type texts to say: \")\n",
        "\n",
        "import random\n",
        "citylist = [\"London\",\"Paris\",\"New York\",\"Dubai\",\"Jinju\",\"Barcelona\",\"Shanghai\",\"Montreal\",\"Sydney\"]\n",
        "city = random.choice(citylist)\n",
        "mytext = txt + \"... \" + \"What time is it in %s now?\"%city\n",
        "# function\n",
        "if lg == \"ko\":\n",
        "  tts = gTTS(mytext, lang = lg, slow = False)\n",
        "elif lg == \"zh-CN\":\n",
        "  tts = gTTS(mytext, lang = lg, slow = False)\n",
        "else:\n",
        "  tts = gTTS(mytext, lang = lg, tld = dialect, slow = False)\n",
        "\n",
        "tts.save('myaudio.mp3')\n",
        "\n",
        "# Save as a file for reading\n",
        "\n",
        "# Play audio\n",
        "from IPython.display import Audio, display\n",
        "Audio('myaudio.mp3')"
      ],
      "metadata": {
        "cellView": "form",
        "id": "aq7aCYfgHAnc"
      },
      "execution_count": null,
      "outputs": []
    }
  ]
}