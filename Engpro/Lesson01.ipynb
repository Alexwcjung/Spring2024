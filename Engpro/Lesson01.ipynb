{
  "nbformat": 4,
  "nbformat_minor": 0,
  "metadata": {
    "colab": {
      "private_outputs": true,
      "provenance": [],
      "authorship_tag": "ABX9TyMvhvozNJGQVXu0BCwpEt1s",
      "include_colab_link": true
    },
    "kernelspec": {
      "name": "python3",
      "display_name": "Python 3"
    },
    "language_info": {
      "name": "python"
    }
  },
  "cells": [
    {
      "cell_type": "markdown",
      "metadata": {
        "id": "view-in-github",
        "colab_type": "text"
      },
      "source": [
        "<a href=\"https://colab.research.google.com/github/MK316/Spring2024/blob/main/Engpro/Lesson01.ipynb\" target=\"_parent\"><img src=\"https://colab.research.google.com/assets/colab-badge.svg\" alt=\"Open In Colab\"/></a>"
      ]
    },
    {
      "cell_type": "markdown",
      "source": [
        "# **Lesson 1. Pronouncing American English vowels (overview)**"
      ],
      "metadata": {
        "id": "__d7baFQPRgJ"
      }
    },
    {
      "cell_type": "markdown",
      "source": [
        "# **[0] Setting**"
      ],
      "metadata": {
        "id": "6oUYscOYPaFQ"
      }
    },
    {
      "cell_type": "code",
      "execution_count": null,
      "metadata": {
        "cellView": "form",
        "id": "sjvTA4ABIkTr"
      },
      "outputs": [],
      "source": [
        "%%capture\n",
        "!pip install gTTS pydub\n",
        "import pandas as pd\n",
        "from IPython.display import YouTubeVideo, display, Audio, Image\n",
        "!apt-get install -y ffmpeg\n",
        "\n",
        "#@markdown 🔄 Making functions: etts('text'), ktts('text')\n",
        "#!pip install gTTS\n",
        "from gtts import gTTS\n",
        "from IPython.display import Audio\n",
        "\n",
        "def etts(text):\n",
        "  text_to_say = text\n",
        "\n",
        "  gtts_object = gTTS(text = text_to_say,\n",
        "                     lang = \"en\", tld = \"us\",\n",
        "                    slow = False)\n",
        "\n",
        "  gtts_object.save(\"E-audio.mp3\")\n",
        "  return Audio(\"E-audio.mp3\")\n",
        "\n",
        "def ktts(text):\n",
        "  text_to_say = text\n",
        "\n",
        "  gtts_object = gTTS(text = text_to_say,\n",
        "                     lang = \"ko\",\n",
        "                    slow = False)\n",
        "\n",
        "  gtts_object.save(\"K-audio.mp3\")\n",
        "  return Audio(\"K-audio.mp3\")"
      ]
    },
    {
      "cell_type": "markdown",
      "source": [
        "# **A. Monophthong vowels (= single vowels)**\n",
        "\n",
        "+ When we produce English vowels, we move our lips and jaw, which results in changes to vowel quality.\n",
        "+ Let's practice the following English words, which contain monophthong vowels (single vowels).\n",
        "+ [image source](https://academic-accelerator.com/encyclopedia/cardinal-vowels)"
      ],
      "metadata": {
        "id": "xApzMvjyPdUd"
      }
    },
    {
      "cell_type": "code",
      "source": [
        "#@markdown Slides (vowel space, vowel chart, diphthongs)\n",
        "from IPython.display import display, Image\n",
        "import ipywidgets as widgets\n",
        "import requests\n",
        "\n",
        "def on_button_click(button):\n",
        "    sn = int(button.description) - 1\n",
        "    image.value = requests.get(urls[sn]).content\n",
        "\n",
        "urls = [\n",
        "    \"https://github.com/MK316/Spring2024/raw/main/Engpro/data/vowelchart.png\",\n",
        "    \"https://github.com/MK316/Spring2024/raw/main/Engpro/data/vowelspace.png\",\n",
        "    \"https://github.com/MK316/Spring2024/raw/main/Engpro/data/vspace1.png\",\n",
        "    \"https://github.com/MK316/Spring2024/raw/main/Engpro/data/diphthong.png\"\n",
        "    ]\n",
        "\n",
        "button_layout = widgets.Layout(width='50px', height='30px')\n",
        "\n",
        "buttons = [widgets.Button(description=str(i), layout=button_layout) for i in range(1, 5)]\n",
        "for button in buttons:\n",
        "    button.on_click(on_button_click)\n",
        "\n",
        "image = widgets.Image(value=requests.get(urls[0]).content, width=\"800\", height=\"600\")\n",
        "\n",
        "display(widgets.HBox([image, widgets.VBox(buttons)]))\n"
      ],
      "metadata": {
        "cellView": "form",
        "id": "ZgXWUelEQIoZ"
      },
      "execution_count": null,
      "outputs": []
    },
    {
      "cell_type": "markdown",
      "source": [
        "# **B. Diphthong vowels (= double vowels)**\n",
        "\n",
        "+ Diphthong vowels start with one sound and glide into a different vowel.\n",
        "+ The smooth movement between these two ‘targets’ is crucial for correct pronunciation of diphthong vowels.\n",
        "+ This is not a sequence of two vowels: e.g., “I” in English and ‘아이’ in Korean are not exactly the same.)"
      ],
      "metadata": {
        "id": "Gx2XAFqZPjCS"
      }
    },
    {
      "cell_type": "code",
      "source": [
        "#@markdown About diphthong vowels:\n",
        "text = \"\"\"\n",
        "    Diphthong vowels start with one sound and glide into a different vowel. \\\n",
        "    The smooth movement between these two ‘targets’ is crucial for correct pronunciation of diphthongs. \\\n",
        "    So, we can say that diphthong vowels are not a sequence of two vowels.\n",
        "    \"\"\"\n",
        "etts(text)\n",
        "Audio(\"E-audio.mp3\")\n"
      ],
      "metadata": {
        "cellView": "form",
        "id": "QOdzPkw_agi-"
      },
      "execution_count": null,
      "outputs": []
    },
    {
      "cell_type": "code",
      "source": [
        "#@markdown Word list containing 5 diphthong vowels\n",
        "\n",
        "words = \"5. [\\u0254\\u026A]\" #@param = [\"1. [eɪ]\", \"2. [oʊ]\", \"3. [aɪ]\", \"4. [aʊ]\",\"5. [ɔɪ]\"]\n",
        "n = words.split(\".\")[0]\n",
        "id = int(n) - 1\n",
        "\n",
        "wlist =[\n",
        "    \"A, game, pay, say, name\",\n",
        "    \"Oh, so, go, old, cold, boat, don't\",\n",
        "    \"I, high, night, buy\",\n",
        "    \"how, now, cow\",\n",
        "    \"boy, toy, oil, noise\"\n",
        "]\n",
        "text = wlist[id]\n",
        "etts(text)\n",
        "ktts(text)\n",
        "\n",
        "print(f\"Words: {text}\")\n",
        "print(\"English\")\n",
        "display(Audio(\"E-audio.mp3\"))\n",
        "print(\"Koprean\")\n",
        "display(Audio(\"K-audio.mp3\"))"
      ],
      "metadata": {
        "cellView": "form",
        "id": "fuSvySSbcj5w"
      },
      "execution_count": null,
      "outputs": []
    },
    {
      "cell_type": "markdown",
      "source": [
        "**Notes:**\n",
        "\n",
        "+ The words mentioned above are all considered to be one syllable (or one beat) in English. Comparing the English pronunciations on the left with the Korean pronunciations on the right, you will notice a change in the number of syllables.\n",
        "+ Some books represent English diphthong vowels with symbols like [ej], [aj], [ɔj], [ow], and [aw], while others consider English to have three diphthong vowels and represent [eɪ] as [e] and [oʊ] as [o]. This is because [e] and [o] are never pronounced in isolation without [j] and [ʊ], respectively.\n",
        "+ For the sake of consistency and to prepare for teachers' examinations, we will adopt a system that recognizes five diphthong vowels, represented by IPA symbols."
      ],
      "metadata": {
        "id": "jls-eRe0eHPx"
      }
    },
    {
      "cell_type": "code",
      "source": [
        "#@markdown Notes (audio)\n",
        "notes = \"1\" #@param = [1,2,3]\n",
        "id = int(notes) - 1\n",
        "\n",
        "desc = [\n",
        "    \"The words mentioned above are all considered to be one syllable. Comparing the English pronunciations on the left with the Korean pronunciations on the right, you will notice a change in the number of syllables.\",\n",
        "    \"Some books represent English diphthong vowels with symbols like [ej], [aj], [ɔj], [ow], and [aw], while others consider English to have three diphthong vowels and represent [eɪ] as [e] and [oʊ] as [o]. This is because [e] and [o] are never pronounced in isolation without [j] and [ʊ], respectively.\",\n",
        "    \"For the sake of consistency and to prepare for teachers' examinations, we will adopt a system that recognizes five diphthong vowels, represented by IPA symbols.\"\n",
        "]\n",
        "\n",
        "text = desc[id]\n",
        "etts(text)\n",
        "Audio(\"E-audio.mp3\", autoplay=True)"
      ],
      "metadata": {
        "cellView": "form",
        "id": "wTyt3xuJeTKG"
      },
      "execution_count": null,
      "outputs": []
    },
    {
      "cell_type": "markdown",
      "source": [
        "---\n",
        "The end"
      ],
      "metadata": {
        "id": "58naA_kxPofy"
      }
    }
  ]
}