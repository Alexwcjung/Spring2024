{
  "nbformat": 4,
  "nbformat_minor": 0,
  "metadata": {
    "colab": {
      "private_outputs": true,
      "provenance": [],
      "collapsed_sections": [
        "6UkL5J1s0WsD"
      ],
      "authorship_tag": "ABX9TyMpUEeDNO0jF/nFviDo5CV9",
      "include_colab_link": true
    },
    "kernelspec": {
      "name": "python3",
      "display_name": "Python 3"
    },
    "language_info": {
      "name": "python"
    }
  },
  "cells": [
    {
      "cell_type": "markdown",
      "metadata": {
        "id": "view-in-github",
        "colab_type": "text"
      },
      "source": [
        "<a href=\"https://colab.research.google.com/github/MK316/Spring2024/blob/main/Engpro/Lesson12.ipynb\" target=\"_parent\"><img src=\"https://colab.research.google.com/assets/colab-badge.svg\" alt=\"Open In Colab\"/></a>"
      ]
    },
    {
      "cell_type": "markdown",
      "source": [
        "# \t📕 **Lesson 12 Rhythm and intonatioin in English**"
      ],
      "metadata": {
        "id": "9SOd_hAJzkoI"
      }
    },
    {
      "cell_type": "markdown",
      "source": [
        "# Setting"
      ],
      "metadata": {
        "id": "6UkL5J1s0WsD"
      }
    },
    {
      "cell_type": "code",
      "execution_count": null,
      "metadata": {
        "cellView": "form",
        "id": "Xu2oRqii1i_m"
      },
      "outputs": [],
      "source": [
        "\n",
        "#@markdown 🔄 Install and import libraries\n",
        "%%capture\n",
        "!pip install gTTS\n",
        "from gtts import gTTS\n",
        "from IPython.display import Audio, Image"
      ]
    },
    {
      "cell_type": "code",
      "source": [
        "#@markdown 🔄 Making functions: etts('text'), ktts('text'), btts('text)\n",
        "%%capture\n",
        "!pip install gTTS\n",
        "from gtts import gTTS\n",
        "from IPython.display import Audio\n",
        "\n",
        "def etts(text):\n",
        "  text_to_say = text\n",
        "\n",
        "  gtts_object = gTTS(text = text_to_say,\n",
        "                     lang = \"en\", tld = \"us\",\n",
        "                    slow = False)\n",
        "\n",
        "  gtts_object.save(\"E-audio.mp3\")\n",
        "  return Audio(\"E-audio.mp3\")\n",
        "\n",
        "def ktts(text):\n",
        "  text_to_say = text\n",
        "\n",
        "  gtts_object = gTTS(text = text_to_say,\n",
        "                     lang = \"ko\",\n",
        "                    slow = False)\n",
        "\n",
        "  gtts_object.save(\"K-audio.mp3\")\n",
        "  return Audio(\"K-audio.mp3\")\n",
        "\n",
        "def btts(text):\n",
        "  text_to_say = text\n",
        "\n",
        "  gtts_object = gTTS(text = text_to_say,\n",
        "                     lang = \"en\", tld = \"co.uk\",\n",
        "                    slow = False)\n",
        "\n",
        "  gtts_object.save(\"B-audio.mp3\")\n",
        "  return Audio(\"B-audio.mp3\")\n",
        "\n",
        "def ctts(text):\n",
        "  text_to_say = text\n",
        "\n",
        "  gtts_object = gTTS(text = text_to_say,\n",
        "                     lang = \"en\", tld = \"ca\",\n",
        "                    slow = False)\n",
        "\n",
        "  gtts_object.save(\"C-audio.mp3\")\n",
        "  return Audio(\"C-audio.mp3\")\n"
      ],
      "metadata": {
        "cellView": "form",
        "id": "nE_EjxZO1uK6"
      },
      "execution_count": null,
      "outputs": []
    },
    {
      "cell_type": "markdown",
      "source": [
        "# **[1] Rhythm in English** [p. 67]"
      ],
      "metadata": {
        "id": "j-lfTAFU0aOD"
      }
    },
    {
      "cell_type": "code",
      "execution_count": null,
      "metadata": {
        "cellView": "form",
        "id": "CaA95iNizimg"
      },
      "outputs": [],
      "source": [
        "#@markdown page 67 contents\n",
        "text = [\n",
        "    \"We are in page 67. Let me explain the rhythm characteristics in English.\",\n",
        "    \"Number one. In English, the rhythm and flow of speech are shaped significantly by how we emphasize certain words and how we speed through others. This distinctive pattern creates what we call the 'rhythm of English,' which stands in contrast to the rhythm found in languages like Korean.\",\n",
        "    \"English is known as a 'stress-timed' language. This means that the rhythm of speech is determined by the stress placed on certain words. In a sentence, content words such as nouns, main verbs, adjectives, and adverbs are typically emphasized. These words carry the core meaning of the sentence and are spoken with more force and clarity. For example, in the sentence 'I absolutely love eating apples,' the words 'absolutely,' 'love,' and 'apples' receive more emphasis, while the other words are spoken more quickly and with less stress.\",\n",
        "    \"On the other hand, function words like articles, conjunctions, prepositions, and auxiliary verbs are usually spoken more rapidly and weakly. These words glue the sentence together but do not carry the primary meaning. They are often reduced, making the speech flow smoothly and quickly.\",\n",
        "    \"Contrast this with Korean, which is a 'syllable-timed' language. In syllable-timed languages, each syllable is given approximately equal time and emphasis, creating a more even-paced rhythm throughout the sentence. This difference in rhythm can be challenging for learners when transitioning between the two languages, as it affects not only pronunciation but also listening comprehension.\",\n",
        "    \"Understanding the stress-timed nature of English is crucial for mastering its rhythm and intonation. It helps in speaking more naturally and being better understood by native speakers. Remember, it's not just what you say, but how you say it that conveys meaning in English.\",\n",
        "    \"Number two. Contractions, formed by combining two words together to form one, are commonly used in spoken English. \",\n",
        "    \"Number three. Using the full form of a contraction in conversation can make your speech sound unnatural, as full forms are generally reserved for formal speeches or when emphasizing specific words.\",\n",
        "    \"1. Contraction form: I'll be there. Full form: I will be there.\",\n",
        "    \"2. Contraction form: You're right. Full form: You are right.\",\n",
        "    \"3. Contraction form: He's smart. Full form: He is smart.\",\n",
        "    \"4. Contraction form: We've been through a lot. Full form: We have been through a lot.\",\n",
        "    \"5. Contraction form: It isn't right. Full form: It is not right.\",\n",
        "    \"6. Contraction form: It doesn't matter. Full form: It does not matter.\",\n",
        "    \"7. Contraction form: He hasn't eaten yet. Full form: He has not eaten yet.\",\n",
        "    \"8. Contraction form: That's right. Full form: That is right.\",\n",
        "    \"9. Contraction form: It won't happen again. Full form: It will not happen again.\",\n",
        "    \"10. Contraction form: I'm here. Full form: I am here.\"\n",
        "]\n",
        "\n",
        "for i in range(0, 18):\n",
        "  txt = text[i]\n",
        "  etts(txt)\n",
        "  print(txt)\n",
        "  display(Audio(\"E-audio.mp3\"))\n",
        "  print(\"*\"*30)\n",
        "\n"
      ]
    },
    {
      "cell_type": "markdown",
      "source": [
        "# **[2] English intonation**"
      ],
      "metadata": {
        "id": "xHPgoc0532JM"
      }
    },
    {
      "cell_type": "code",
      "execution_count": null,
      "metadata": {
        "cellView": "form",
        "id": "YGZqpiFc5lLn"
      },
      "outputs": [],
      "source": [
        "#@markdown page 68\n",
        "text = [\n",
        "    \"Number 1. When learning English, we often bring our native intonation and rhythm into our English speech, frequently resulting in a foreign accent. \",\n",
        "    \"Number 2. Intonation refers to the melody, rise, and fall of the voice when speaking. Each language uses pitch fluctuation differently, creating unique melody and intonation patterns. \",\n",
        "    \"Number 3. By mastering English intonation patterns, we can sound more like native speakers and communicate more effectively.\",\n",
        "    \"Number 4. Let's examine Korean intonation. Try pronouncing the following names in a Korean manner:\",\n",
        "    \"조지 워싱턴, 빌 클린턴, 조지 부시\",\n",
        "    \"Number 5. English intonation patterns are formed by the alternation of stress and accent in a sentence. By placing stress and accent on the appropriate words according to their meanings, you can learn these patterns.\",\n",
        "    \"George Washington,\t\tBill Clinton,\t\tGeorge Bush\",\n",
        "    \"There are typical intonation patterns depending on the sentence types, which can practice.\"\n",
        "    ]\n",
        "\n",
        "for i in range(0, 8):\n",
        "  if i == 4:\n",
        "    txt = text[4]\n",
        "    ktts(txt)\n",
        "    print(txt)\n",
        "    display(Audio(\"K-audio.mp3\"))\n",
        "    print(\"*\"*30)\n",
        "  else:\n",
        "    txt = text[i]\n",
        "    etts(txt)\n",
        "    print(txt)\n",
        "    display(Audio(\"E-audio.mp3\"))\n",
        "    print(\"*\"*30)\n",
        "\n"
      ]
    },
    {
      "cell_type": "markdown",
      "source": [
        "## **Types of sentences and intonation**"
      ],
      "metadata": {
        "id": "8jM-DtU270Of"
      }
    },
    {
      "cell_type": "markdown",
      "source": [
        "### **A. Declarative sentence**"
      ],
      "metadata": {
        "id": "NPbMvf1378Ii"
      }
    },
    {
      "cell_type": "code",
      "source": [
        "text = \"\"\"\n",
        "A. We like ice-cream.\n",
        "B. She likes to play tennis.\n",
        "C. I have four sisters.\n",
        "D. The boss gave him a raise.\n",
        "\"\"\"\n",
        "\n",
        "etts(text)\n",
        "Audio(\"E-audio.mp3\")"
      ],
      "metadata": {
        "id": "8IPNPuA08cuT"
      },
      "execution_count": null,
      "outputs": []
    },
    {
      "cell_type": "markdown",
      "source": [
        "### **B. Yes-no questions**"
      ],
      "metadata": {
        "id": "OdWt4N-A8EU1"
      }
    },
    {
      "cell_type": "code",
      "source": [
        "text = \"\"\"\n",
        "A. Are you hungry?\n",
        "B. Do you have a minute?\n",
        "C. Can I ask you a question?\n",
        "\"\"\"\n",
        "\n",
        "etts(text)\n",
        "Audio(\"E-audio.mp3\")"
      ],
      "metadata": {
        "id": "9hlhbJhE80GF"
      },
      "execution_count": null,
      "outputs": []
    },
    {
      "cell_type": "markdown",
      "source": [
        "### **C. Wh-Questions**"
      ],
      "metadata": {
        "id": "3kfEB3fn8Ea6"
      }
    },
    {
      "cell_type": "code",
      "source": [
        "text = \"\"\"\n",
        "A. who will help him?\n",
        "B. When are you leaving?\n",
        "C. Where are you going?\n",
        "D. How do you know?\n",
        "E. Which book is yours?\n",
        "\"\"\"\n",
        "\n",
        "\n",
        "etts(text)\n",
        "print('American accent')\n",
        "display(Audio(\"E-audio.mp3\"))\n",
        "\n",
        "btts(text)\n",
        "print('British accent')\n",
        "display(Audio(\"B-audio.mp3\"))"
      ],
      "metadata": {
        "id": "u4t-dgCO9EMV"
      },
      "execution_count": null,
      "outputs": []
    },
    {
      "cell_type": "markdown",
      "source": [
        "### **D. Question with choices**"
      ],
      "metadata": {
        "id": "OF92T0AZ8EhZ"
      }
    },
    {
      "cell_type": "code",
      "source": [
        "text = \"\"\"\n",
        "A. Would you like coffee or tea?\n",
        "B. Are you leaving tomorrow or Sunday?\n",
        "C. She speaks French but not Spanish.\n",
        "\"\"\"\n",
        "\n",
        "\n",
        "etts(text)\n",
        "print('American accent')\n",
        "display(Audio(\"E-audio.mp3\"))\n",
        "\n",
        "btts(text)\n",
        "print('British accent')\n",
        "display(Audio(\"B-audio.mp3\"))"
      ],
      "metadata": {
        "id": "tWlrBN9A-enH"
      },
      "execution_count": null,
      "outputs": []
    },
    {
      "cell_type": "markdown",
      "source": [
        "## Notes on intonation"
      ],
      "metadata": {
        "id": "k6EgLOsf-0L6"
      }
    },
    {
      "cell_type": "code",
      "source": [
        "text = [\n",
        "\"It is important to note the following. If your voice stays level when it should either rise or fall, you might sound bored or uninterested. Or you might confuse listeners into thinking that you haven’t finished your sentence or question.\",\n",
        "\"This is why people often say that how you say something is more important than what you say. So, try to use proper intonation when you speak!\",\n",
        "\"The prosody of English, including stress, word accent, intonation, and rhythm, is not easy to learn in a short period. Therefore, it is important to create an English learning environment for yourself that involves a lot of exposure to English in real situations, always keeping an interest. Please continue to practice with interest.\"\n",
        "]\n",
        "\n",
        "etts(text[0])\n",
        "display(Audio(\"E-audio.mp3\"))\n",
        "\n",
        "etts(text[1])\n",
        "display(Audio(\"E-audio.mp3\"))"
      ],
      "metadata": {
        "id": "imLjkHe2-9RR"
      },
      "execution_count": null,
      "outputs": []
    },
    {
      "cell_type": "markdown",
      "source": [
        "---\n",
        "The end"
      ],
      "metadata": {
        "id": "IkTTEebUAj_p"
      }
    }
  ]
}