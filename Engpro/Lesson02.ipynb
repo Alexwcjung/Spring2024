{
  "nbformat": 4,
  "nbformat_minor": 0,
  "metadata": {
    "colab": {
      "private_outputs": true,
      "provenance": [],
      "authorship_tag": "ABX9TyOPmEQCkeqG9xfFMWPFrmtY",
      "include_colab_link": true
    },
    "kernelspec": {
      "name": "python3",
      "display_name": "Python 3"
    },
    "language_info": {
      "name": "python"
    }
  },
  "cells": [
    {
      "cell_type": "markdown",
      "metadata": {
        "id": "view-in-github",
        "colab_type": "text"
      },
      "source": [
        "<a href=\"https://colab.research.google.com/github/MK316/Spring2024/blob/main/Engpro/Lesson02.ipynb\" target=\"_parent\"><img src=\"https://colab.research.google.com/assets/colab-badge.svg\" alt=\"Open In Colab\"/></a>"
      ]
    },
    {
      "cell_type": "markdown",
      "source": [
        "# 📗 **Lesson 2. Vowel pairs #1: Tense and lax 'i'**"
      ],
      "metadata": {
        "id": "Z03vLZQXxz2g"
      }
    },
    {
      "cell_type": "markdown",
      "source": [
        "# **[0] Setting**"
      ],
      "metadata": {
        "id": "6oUYscOYPaFQ"
      }
    },
    {
      "cell_type": "code",
      "execution_count": null,
      "metadata": {
        "cellView": "form",
        "id": "sjvTA4ABIkTr"
      },
      "outputs": [],
      "source": [
        "%%capture\n",
        "!pip install gTTS pydub\n",
        "import pandas as pd\n",
        "from IPython.display import YouTubeVideo, display, Audio, Image\n",
        "!apt-get install -y ffmpeg\n",
        "\n",
        "#@markdown 🔄 Making functions: etts('text'), ktts('text')\n",
        "#!pip install gTTS\n",
        "from gtts import gTTS\n",
        "from IPython.display import Audio\n",
        "\n",
        "def etts(text):\n",
        "  text_to_say = text\n",
        "\n",
        "  gtts_object = gTTS(text = text_to_say,\n",
        "                     lang = \"en\", tld = \"us\",\n",
        "                    slow = False)\n",
        "\n",
        "  gtts_object.save(\"E-audio.mp3\")\n",
        "  return Audio(\"E-audio.mp3\")\n",
        "\n",
        "def ktts(text):\n",
        "  text_to_say = text\n",
        "\n",
        "  gtts_object = gTTS(text = text_to_say,\n",
        "                     lang = \"ko\",\n",
        "                    slow = False)\n",
        "\n",
        "  gtts_object.save(\"K-audio.mp3\")\n",
        "  return Audio(\"K-audio.mp3\")\n",
        "\n"
      ]
    },
    {
      "cell_type": "markdown",
      "source": [
        "# **A. Instruction**\n",
        "\n",
        "+ Articulation tips: tense vowel [i] - spread lips, high tongue position, high pitch, longer vowel\n",
        "+ Tense [i] vowel is to make two [i - i] vowels without interruption."
      ],
      "metadata": {
        "id": "xApzMvjyPdUd"
      }
    },
    {
      "cell_type": "code",
      "source": [
        "text = \"In this lesson, we will be learning the first vowel pair. English has two e-vowels. One is tense 'e' and the other is lax 'e'. Notice the difference between the two vowels in 'sheep' and 'ship', and 'eat' and 'it'.\"\n",
        "etts(text)\n",
        "Audio(\"E-audio.mp3\", autoplay=True)"
      ],
      "metadata": {
        "id": "G8l7Z4zryUzo"
      },
      "execution_count": null,
      "outputs": []
    },
    {
      "cell_type": "code",
      "source": [
        "text = \"\"\"\n",
        "For this vowel pair, We're focusing on how to articulate the e-sound, like in 'see'. Here are four quick tips:\n",
        "First, Spread Your Lips: Smile wide as if you're happy to see someone. This helps shape the sound.\n",
        "Second, High Tongue Position: Elevate your tongue close to the roof of your mouth without touching it. Imagine your tongue is trying to reach up.\n",
        "Third, High Pitch: Aim for a higher pitch than your normal voice. Think of adding a bit of excitement to the sound.\n",
        "Finally, Longer Vowel: Hold the ee-sound a bit longer for this tense vowel. For example, say 'sheep'.\n",
        "\"\"\"\n",
        "\n",
        "etts(text)\n",
        "Audio(\"E-audio.mp3\", autoplay=True)"
      ],
      "metadata": {
        "id": "FF2Hfz5bzKa-"
      },
      "execution_count": null,
      "outputs": []
    },
    {
      "cell_type": "markdown",
      "source": [
        "# **Warming up: Tense [i]**"
      ],
      "metadata": {
        "id": "mZmNP3xU0j27"
      }
    },
    {
      "cell_type": "code",
      "source": [
        "#@markdown **🔉 Tense 'i' examples**\n",
        "from gtts import gTTS\n",
        "from pydub import AudioSegment\n",
        "from pydub.playback import play\n",
        "import os\n",
        "\n",
        "Position_in_word = \"2. Word medial\" #@param = [\"1. Word initial\", \"2. Word medial\", \"3. Word final\"]\n",
        "\n",
        "n = Position_in_word.split(\".\")[0]\n",
        "id = int(n)-1\n",
        "\n",
        "wlist = [\n",
        "    \"eat, equal, easy, each\",\n",
        "    \"please, deep, peach, need\",\n",
        "    \"key, agree, pea, knee, he, she, tea, be.\",\n",
        "]\n",
        "\n",
        "text = list(wlist[id].split(\",\"))\n",
        "print(text)\n",
        "\n",
        "# Words to synthesize\n",
        "words = text\n",
        "\n",
        "# Directory for temporary audio files\n",
        "temp_dir = \"/content/temp_audio\"\n",
        "os.makedirs(temp_dir, exist_ok=True)\n",
        "\n",
        "# Generate audio for each word and store file paths\n",
        "audio_paths = []\n",
        "for word in words:\n",
        "    tts = gTTS(text=word, lang='en')\n",
        "    temp_path = os.path.join(temp_dir, f\"{word}.mp3\")\n",
        "    tts.save(temp_path)\n",
        "    audio_paths.append(temp_path)\n",
        "\n",
        "# Create a silent audio segment of 0.5 seconds\n",
        "silence = AudioSegment.silent(duration=500)  # Duration in milliseconds\n",
        "\n",
        "# Combine the audio files with silence\n",
        "combined = AudioSegment.empty()\n",
        "for path in audio_paths:\n",
        "    word_audio = AudioSegment.from_mp3(path)\n",
        "    combined += word_audio + silence\n",
        "\n",
        "# Remove the silence at the end\n",
        "combined = combined[:-500]\n",
        "\n",
        "# Export the combined audio\n",
        "combined_path = \"/content/combined_audio.mp3\"\n",
        "combined.export(combined_path, format=\"mp3\")\n",
        "\n",
        "Audio(\"/content/combined_audio.mp3\")"
      ],
      "metadata": {
        "cellView": "form",
        "id": "hhL1k11Dym97"
      },
      "execution_count": null,
      "outputs": []
    },
    {
      "cell_type": "code",
      "source": [
        "#@markdown **🔉 Lax 'i' examples**\n",
        "\n",
        "from gtts import gTTS\n",
        "from pydub import AudioSegment\n",
        "from pydub.playback import play\n",
        "import os\n",
        "from IPython.display import Audio\n",
        "\n",
        "Position_in_word = \"1. Word initial\" #@param = [\"1. Word initial\", \"2. Word medial\", \"3. Word final\"]\n",
        "\n",
        "n = Position_in_word.split(\".\")[0]\n",
        "id = int(n)-1\n",
        "\n",
        "wlist = [\n",
        "    \"is, itch, it\",\n",
        "    \"pin, sin, bit, pitch, mitt, give, win, gym, symbol, syrup, gift, with, lips, guilt, build, quick, little, this, Lynn\",\n",
        "    \"No words end with lax e vowel,\",\n",
        "]\n",
        "\n",
        "# Check if the position is \"3. Word final\" to use the whole text\n",
        "if id == 2:  # This corresponds to \"3. Word final\"\n",
        "    text = [wlist[id]]  # Wrap the entire text in a list without splitting\n",
        "else:\n",
        "    text = wlist[id].split(\",\")  # Split the text into words as before\n",
        "\n",
        "print(text)\n",
        "\n",
        "# Directory for temporary audio files\n",
        "temp_dir = \"/content/temp_audio\"\n",
        "os.makedirs(temp_dir, exist_ok=True)\n",
        "\n",
        "# Generate audio for the entire text or each word and store file paths\n",
        "audio_paths = []\n",
        "for word in text:\n",
        "    tts = gTTS(text=word.strip(), lang='en')  # .strip() to remove leading/trailing spaces\n",
        "    temp_path = os.path.join(temp_dir, f\"{word.strip().replace(' ', '_')}.mp3\")  # Replace spaces with underscores for filename\n",
        "    tts.save(temp_path)\n",
        "    audio_paths.append(temp_path)\n",
        "\n",
        "# For \"3. Word final\", there's no need to add silence since it's a single audio file\n",
        "if id != 2:  # Add silence only if it's not \"3. Word final\"\n",
        "    # Create a silent audio segment of 0.5 seconds\n",
        "    silence = AudioSegment.silent(duration=500)  # Duration in milliseconds\n",
        "\n",
        "    # Combine the audio files with silence\n",
        "    combined = AudioSegment.empty()\n",
        "    for path in audio_paths:\n",
        "        word_audio = AudioSegment.from_mp3(path)\n",
        "        combined += word_audio + silence\n",
        "\n",
        "    # Remove the silence at the end\n",
        "    combined = combined[:-500]\n",
        "else:\n",
        "    # For \"3. Word final\", just load the single audio file\n",
        "    combined = AudioSegment.from_mp3(audio_paths[0])\n",
        "\n",
        "# Export the combined audio\n",
        "combined_path = \"/content/combined_audio.mp3\"\n",
        "combined.export(combined_path, format=\"mp3\")\n",
        "\n",
        "Audio(\"/content/combined_audio.mp3\")\n"
      ],
      "metadata": {
        "cellView": "form",
        "id": "1N6w4VTI5DBh"
      },
      "execution_count": null,
      "outputs": []
    },
    {
      "cell_type": "code",
      "source": [],
      "metadata": {
        "id": "Foytu8Wk9G-w"
      },
      "execution_count": null,
      "outputs": []
    },
    {
      "cell_type": "code",
      "source": [
        "#@markdown **🔉 Contast between tense and lax 'i'**\n",
        "from gtts import gTTS\n",
        "from pydub import AudioSegment\n",
        "from pydub.playback import play\n",
        "import os\n",
        "\n",
        "Position_in_word = \"12\" #@param = [1,2,3,4,5,6,7,8,9,10,11,12]\n",
        "n = int(Position_in_word)\n",
        "id = n-1\n",
        "\n",
        "wlist = [\n",
        "    \"each, versus, itch\",\n",
        "    \"peach, versus, pitch\",\n",
        "    \"eat, versus, it\",\n",
        "    \"scene, versus, sin\",\n",
        "    \"heel, versus, hill\",\n",
        "    \"cheap, versus, chip\",\n",
        "    \"heat, versus, hit\",\n",
        "    \"meat, versus, mitt\",\n",
        "    \"seat, versus, sit\",\n",
        "    \"lean, versus, Lynn\",\n",
        "    \"whell, versus, will\",\n",
        "    \"Seeley, versus, silly\",\n",
        "]\n",
        "\n",
        "text = list(wlist[id].split(\",\"))\n",
        "print(text)\n",
        "\n",
        "# Words to synthesize\n",
        "words = text\n",
        "\n",
        "# Directory for temporary audio files\n",
        "temp_dir = \"/content/temp_audio\"\n",
        "os.makedirs(temp_dir, exist_ok=True)\n",
        "\n",
        "# Generate audio for each word and store file paths\n",
        "audio_paths = []\n",
        "for word in words:\n",
        "    tts = gTTS(text=word, lang='en')\n",
        "    temp_path = os.path.join(temp_dir, f\"{word}.mp3\")\n",
        "    tts.save(temp_path)\n",
        "    audio_paths.append(temp_path)\n",
        "\n",
        "# Create a silent audio segment of 0.5 seconds\n",
        "silence = AudioSegment.silent(duration=500)  # Duration in milliseconds\n",
        "\n",
        "# Combine the audio files with silence\n",
        "combined = AudioSegment.empty()\n",
        "for path in audio_paths:\n",
        "    word_audio = AudioSegment.from_mp3(path)\n",
        "    combined += word_audio + silence\n",
        "\n",
        "# Remove the silence at the end\n",
        "combined = combined[:-500]\n",
        "\n",
        "# Export the combined audio\n",
        "combined_path = \"/content/combined_audio.mp3\"\n",
        "combined.export(combined_path, format=\"mp3\")\n",
        "\n",
        "Audio(\"/content/combined_audio.mp3\")"
      ],
      "metadata": {
        "cellView": "form",
        "id": "6F5v9nsT9M0p"
      },
      "execution_count": null,
      "outputs": []
    },
    {
      "cell_type": "markdown",
      "source": [
        "# ⛳ **Listening A**"
      ],
      "metadata": {
        "id": "JcTmyJkG-ihg"
      }
    },
    {
      "cell_type": "markdown",
      "source": [
        "+ [Listening A](https://drive.google.com/file/d/1XoXbg2cXKoy0_1upyXv8hvLOSWLu82bg/view?usp=sharing): mitt\tmeat\tmeat\n",
        "+ [Listening B](https://drive.google.com/file/d/1swezJZGmdZ0sFnxy09M0phd5nbv2Z3Yq/view?usp=sharing): meat / mitt\n",
        "+ [Listening C](https://drive.google.com/file/d/1c-_1aFeVmw9VkVYJi53NKnrHPXtzyySD/view?usp=sharing): You need a new (wheel / will)."
      ],
      "metadata": {
        "id": "os7jMQZcDeCF"
      }
    },
    {
      "cell_type": "code",
      "source": [
        "#@markdown Slides (vowel space, vowel chart, diphthongs)\n",
        "from IPython.display import display, Image\n",
        "import ipywidgets as widgets\n",
        "import requests\n",
        "\n",
        "def on_button_click(button):\n",
        "    sn = int(button.description) - 1\n",
        "    image.value = requests.get(urls[sn]).content\n",
        "\n",
        "urls = [\n",
        "    \"https://github.com/MK316/Spring2023/raw/main/Engpro/data/wheel_will.png\",\n",
        "    \"https://github.com/MK316/Spring2023/raw/main/Engpro/data/Sheep_ship.png\",\n",
        "    \"https://github.com/MK316/Spring2023/raw/main/Engpro/data/Cheeks_chicks.png\"\n",
        "    ]\n",
        "\n",
        "button_layout = widgets.Layout(width='50px', height='30px')\n",
        "\n",
        "buttons = [widgets.Button(description=str(i), layout=button_layout) for i in range(1, 4)]\n",
        "for button in buttons:\n",
        "    button.on_click(on_button_click)\n",
        "\n",
        "image = widgets.Image(value=requests.get(urls[0]).content, width=\"800\", height=\"600\")\n",
        "\n",
        "display(widgets.HBox([image, widgets.VBox(buttons)]))\n"
      ],
      "metadata": {
        "cellView": "form",
        "id": "ZgXWUelEQIoZ"
      },
      "execution_count": null,
      "outputs": []
    },
    {
      "cell_type": "markdown",
      "source": [
        "# **Read aloud**"
      ],
      "metadata": {
        "id": "THnubTfsTWUy"
      }
    },
    {
      "cell_type": "code",
      "source": [
        "#@markdown The Beatles\n",
        "text = \"\"\"\n",
        "The Beatles were an English rock band that formed in Liverpool, in 1960. With John Lennon, Paul McCartney, George Harrison and Ringo Starr, they became widely regarded as the greatest and most influential act of the rock era. Rooted in skiffle, beat and 1950s rock and roll, the Beatles later experimented with several genres, ranging from pop ballads and Indian music to psychedelic and hard rock, often incorporating classical elements in innovative ways. In the early 1960s, their enormous popularity first emerged as \"Beatlemania\", but as their songwriting grew in sophistication they came to be perceived as an embodiment of the ideals shared by the era's sociocultural revolutions.\n",
        "\"\"\"\n",
        "\n",
        "etts(text)\n",
        "Audio(\"E-audio.mp3\")"
      ],
      "metadata": {
        "cellView": "form",
        "id": "CwXze0EsTcW2"
      },
      "execution_count": null,
      "outputs": []
    },
    {
      "cell_type": "markdown",
      "source": [
        "---\n",
        "The end"
      ],
      "metadata": {
        "id": "op7pr7ieQwkT"
      }
    }
  ]
}