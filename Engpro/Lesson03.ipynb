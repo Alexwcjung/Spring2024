{
  "nbformat": 4,
  "nbformat_minor": 0,
  "metadata": {
    "colab": {
      "private_outputs": true,
      "provenance": [],
      "authorship_tag": "ABX9TyMzTKIh8+GTI3nOCEz4qF/m",
      "include_colab_link": true
    },
    "kernelspec": {
      "name": "python3",
      "display_name": "Python 3"
    },
    "language_info": {
      "name": "python"
    }
  },
  "cells": [
    {
      "cell_type": "markdown",
      "metadata": {
        "id": "view-in-github",
        "colab_type": "text"
      },
      "source": [
        "<a href=\"https://colab.research.google.com/github/MK316/Spring2024/blob/main/Engpro/Lesson03.ipynb\" target=\"_parent\"><img src=\"https://colab.research.google.com/assets/colab-badge.svg\" alt=\"Open In Colab\"/></a>"
      ]
    },
    {
      "cell_type": "markdown",
      "source": [
        "# 📗 **Lesson 3. Vowel pairs #2: Tense and lax 'u'**"
      ],
      "metadata": {
        "id": "Z03vLZQXxz2g"
      }
    },
    {
      "cell_type": "markdown",
      "source": [
        "# **[0] Setting**"
      ],
      "metadata": {
        "id": "6oUYscOYPaFQ"
      }
    },
    {
      "cell_type": "code",
      "execution_count": null,
      "metadata": {
        "cellView": "form",
        "id": "sjvTA4ABIkTr"
      },
      "outputs": [],
      "source": [
        "%%capture\n",
        "!pip install gTTS pydub\n",
        "import pandas as pd\n",
        "from IPython.display import YouTubeVideo, display, Audio, Image\n",
        "!apt-get install -y ffmpeg\n",
        "\n",
        "#@markdown 🔄 Making functions: etts('text'), ktts('text')\n",
        "#!pip install gTTS\n",
        "from gtts import gTTS\n",
        "from IPython.display import Audio\n",
        "\n",
        "def etts(text):\n",
        "  text_to_say = text\n",
        "\n",
        "  gtts_object = gTTS(text = text_to_say,\n",
        "                     lang = \"en\", tld = \"us\",\n",
        "                    slow = False)\n",
        "\n",
        "  gtts_object.save(\"E-audio.mp3\")\n",
        "  return Audio(\"E-audio.mp3\")\n",
        "\n",
        "def ktts(text):\n",
        "  text_to_say = text\n",
        "\n",
        "  gtts_object = gTTS(text = text_to_say,\n",
        "                     lang = \"ko\",\n",
        "                    slow = False)\n",
        "\n",
        "  gtts_object.save(\"K-audio.mp3\")\n",
        "  return Audio(\"K-audio.mp3\")\n",
        "\n"
      ]
    },
    {
      "cell_type": "markdown",
      "source": [
        "# **A. Instruction**\n",
        "\n",
        "### Articulation tips:\n",
        "+ Tense vowel [u] - lips are fully rounded, high tongue position, high pitch, and usually long.\n",
        "+ Lax vowel [ʊ] - lips are half rounded, no high pitch, and usually short."
      ],
      "metadata": {
        "id": "xApzMvjyPdUd"
      }
    },
    {
      "cell_type": "code",
      "source": [
        "text = \"In this lesson, we will be learning the second vowel pair. English has two woo-vowels. One is tense 'woo' and the other is lax 'woo'. Notice the difference between the two vowels in: 'pool' and 'pull'. Who'd! and 'hood'.\"\n",
        "etts(text)\n",
        "Audio(\"E-audio.mp3\", autoplay=True)"
      ],
      "metadata": {
        "id": "G8l7Z4zryUzo"
      },
      "execution_count": null,
      "outputs": []
    },
    {
      "cell_type": "markdown",
      "source": [
        "# **Warming up: Tense [u]**"
      ],
      "metadata": {
        "id": "mZmNP3xU0j27"
      }
    },
    {
      "cell_type": "code",
      "source": [
        "#@markdown **🔉 Tense 'u' examples**\n",
        "\n",
        "from gtts import gTTS\n",
        "from pydub import AudioSegment\n",
        "from pydub.playback import play\n",
        "import os\n",
        "from IPython.display import Audio\n",
        "\n",
        "Position_in_word = \"1. Word initial\" #@param = [\"1. Word initial\", \"2. Word medial\", \"3. Word final\"]\n",
        "\n",
        "n = Position_in_word.split(\".\")[0]\n",
        "id = int(n)-1\n",
        "\n",
        "wlist = [\n",
        "    \"is, itch, it\",\n",
        "    \"pin, sin, bit, pitch, mitt, give, win, gym, symbol, syrup, gift, with, lips, guilt, build, quick, little, this, Lynn\",\n",
        "    \"No words end with lax e vowel,\",\n",
        "]\n",
        "\n",
        "# Check if the position is \"3. Word final\" to use the whole text\n",
        "if id == 2:  # This corresponds to \"3. Word final\"\n",
        "    text = [wlist[id]]  # Wrap the entire text in a list without splitting\n",
        "else:\n",
        "    text = wlist[id].split(\",\")  # Split the text into words as before\n",
        "\n",
        "print(text)\n",
        "\n",
        "# Directory for temporary audio files\n",
        "temp_dir = \"/content/temp_audio\"\n",
        "os.makedirs(temp_dir, exist_ok=True)\n",
        "\n",
        "# Generate audio for the entire text or each word and store file paths\n",
        "audio_paths = []\n",
        "for word in text:\n",
        "    tts = gTTS(text=word.strip(), lang='en')  # .strip() to remove leading/trailing spaces\n",
        "    temp_path = os.path.join(temp_dir, f\"{word.strip().replace(' ', '_')}.mp3\")  # Replace spaces with underscores for filename\n",
        "    tts.save(temp_path)\n",
        "    audio_paths.append(temp_path)\n",
        "\n",
        "# For \"3. Word final\", there's no need to add silence since it's a single audio file\n",
        "if id != 2:  # Add silence only if it's not \"3. Word final\"\n",
        "    # Create a silent audio segment of 0.5 seconds\n",
        "    silence = AudioSegment.silent(duration=500)  # Duration in milliseconds\n",
        "\n",
        "    # Combine the audio files with silence\n",
        "    combined = AudioSegment.empty()\n",
        "    for path in audio_paths:\n",
        "        word_audio = AudioSegment.from_mp3(path)\n",
        "        combined += word_audio + silence\n",
        "\n",
        "    # Remove the silence at the end\n",
        "    combined = combined[:-500]\n",
        "else:\n",
        "    # For \"3. Word final\", just load the single audio file\n",
        "    combined = AudioSegment.from_mp3(audio_paths[0])\n",
        "\n",
        "# Export the combined audio\n",
        "combined_path = \"/content/combined_audio.mp3\"\n",
        "combined.export(combined_path, format=\"mp3\")\n",
        "\n",
        "Audio(\"/content/combined_audio.mp3\")\n"
      ],
      "metadata": {
        "cellView": "form",
        "id": "1N6w4VTI5DBh"
      },
      "execution_count": null,
      "outputs": []
    },
    {
      "cell_type": "code",
      "source": [
        "#@markdown **🔉 Lax 'u' examples**\n",
        "from gtts import gTTS\n",
        "from pydub import AudioSegment\n",
        "from pydub.playback import play\n",
        "import os\n",
        "\n",
        "Position_in_word = \"2. Word medial\" #@param = [\"1. No Word initial\", \"2. Word medial\", \"3. No Word final\"]\n",
        "\n",
        "n = Position_in_word.split(\".\")[0]\n",
        "id = int(n)-1\n",
        "\n",
        "wlist = [\n",
        "    \"Word initially, not available\",\n",
        "    \"cook, book, good, took, look, brook, stood, hood, woman, would, should, could, cookie, cushion, pudding, push, pull, bullet, wood\",\n",
        "    \"Word finally, not available\",\n",
        "]\n",
        "\n",
        "text = list(wlist[id].split(\",\"))\n",
        "print(text)\n",
        "\n",
        "# Words to synthesize\n",
        "words = text\n",
        "\n",
        "# Directory for temporary audio files\n",
        "temp_dir = \"/content/temp_audio\"\n",
        "os.makedirs(temp_dir, exist_ok=True)\n",
        "\n",
        "# Generate audio for each word and store file paths\n",
        "audio_paths = []\n",
        "for word in words:\n",
        "    tts = gTTS(text=word, lang='en')\n",
        "    temp_path = os.path.join(temp_dir, f\"{word}.mp3\")\n",
        "    tts.save(temp_path)\n",
        "    audio_paths.append(temp_path)\n",
        "\n",
        "# Create a silent audio segment of 0.5 seconds\n",
        "silence = AudioSegment.silent(duration=500)  # Duration in milliseconds\n",
        "\n",
        "# Combine the audio files with silence\n",
        "combined = AudioSegment.empty()\n",
        "for path in audio_paths:\n",
        "    word_audio = AudioSegment.from_mp3(path)\n",
        "    combined += word_audio + silence\n",
        "\n",
        "# Remove the silence at the end\n",
        "combined = combined[:-500]\n",
        "\n",
        "# Export the combined audio\n",
        "combined_path = \"/content/combined_audio.mp3\"\n",
        "combined.export(combined_path, format=\"mp3\")\n",
        "\n",
        "Audio(\"/content/combined_audio.mp3\")"
      ],
      "metadata": {
        "cellView": "form",
        "id": "hhL1k11Dym97"
      },
      "execution_count": null,
      "outputs": []
    },
    {
      "cell_type": "code",
      "source": [
        "#@markdown **🔉 Contast between tense and lax 'u'**\n",
        "from gtts import gTTS\n",
        "from pydub import AudioSegment\n",
        "from pydub.playback import play\n",
        "import os\n",
        "\n",
        "Position_in_word = \"7\" #@param = [1,2,3,4,5,6,7]\n",
        "n = int(Position_in_word)\n",
        "id = n-1\n",
        "\n",
        "wlist = [\n",
        "    \"fool, versus, full\",\n",
        "    \"suit, versus, soot\",\n",
        "    \"Luke, versus, look\",\n",
        "    \"fullpool, versus, \",\n",
        "    \"wooed, versus, would\",\n",
        "    \"shoed, versus, should\",\n",
        "    \"cooed, versus, could\"\n",
        "\n",
        "]\n",
        "\n",
        "text = list(wlist[id].split(\",\"))\n",
        "print(text)\n",
        "\n",
        "# Words to synthesize\n",
        "words = text\n",
        "\n",
        "# Directory for temporary audio files\n",
        "temp_dir = \"/content/temp_audio\"\n",
        "os.makedirs(temp_dir, exist_ok=True)\n",
        "\n",
        "# Generate audio for each word and store file paths\n",
        "audio_paths = []\n",
        "for word in words:\n",
        "    tts = gTTS(text=word, lang='en')\n",
        "    temp_path = os.path.join(temp_dir, f\"{word}.mp3\")\n",
        "    tts.save(temp_path)\n",
        "    audio_paths.append(temp_path)\n",
        "\n",
        "# Create a silent audio segment of 0.5 seconds\n",
        "silence = AudioSegment.silent(duration=500)  # Duration in milliseconds\n",
        "\n",
        "# Combine the audio files with silence\n",
        "combined = AudioSegment.empty()\n",
        "for path in audio_paths:\n",
        "    word_audio = AudioSegment.from_mp3(path)\n",
        "    combined += word_audio + silence\n",
        "\n",
        "# Remove the silence at the end\n",
        "combined = combined[:-500]\n",
        "\n",
        "# Export the combined audio\n",
        "combined_path = \"/content/combined_audio.mp3\"\n",
        "combined.export(combined_path, format=\"mp3\")\n",
        "\n",
        "Audio(\"/content/combined_audio.mp3\")"
      ],
      "metadata": {
        "cellView": "form",
        "id": "6F5v9nsT9M0p"
      },
      "execution_count": null,
      "outputs": []
    },
    {
      "cell_type": "markdown",
      "source": [
        "## **[ju] vs. [u]: British vs. American English**"
      ],
      "metadata": {
        "id": "POKjc2J3tuq8"
      }
    },
    {
      "cell_type": "code",
      "source": [
        "#@markdown btts(text), atts(text); [u] list comparison\n",
        "def btts(text):\n",
        "  text_to_say = text\n",
        "\n",
        "  gtts_object = gTTS(text = text_to_say,\n",
        "                     lang = \"en\", tld = \"co.uk\",\n",
        "                    slow = False)\n",
        "\n",
        "  gtts_object.save(\"B-audio.mp3\")\n",
        "  return Audio(\"B-audio.mp3\")\n",
        "\n",
        "def atts(text):\n",
        "  text_to_say = text\n",
        "\n",
        "  gtts_object = gTTS(text = text_to_say,\n",
        "                     lang = \"en\", tld = \"us\",\n",
        "                    slow = False)\n",
        "\n",
        "  gtts_object.save(\"A-audio.mp3\")\n",
        "  return Audio(\"A-audio.mp3\")\n",
        "\n",
        "\n",
        "text = \"music and cube are pronounced the same between British and American English. In contrast, news, stew, assume, sue, resume, or super, are different.\"\n",
        "\n",
        "btts(text)\n",
        "atts(text)\n",
        "\n",
        "print(\"British English\")\n",
        "display(Audio(\"B-audio.mp3\"))\n",
        "print(\"American English\")\n",
        "display(Audio(\"A-audio.mp3\"))"
      ],
      "metadata": {
        "cellView": "form",
        "id": "h6-pRYbYt7g-"
      },
      "execution_count": null,
      "outputs": []
    },
    {
      "cell_type": "markdown",
      "source": [
        "# ⛳ **Listening A**"
      ],
      "metadata": {
        "id": "JcTmyJkG-ihg"
      }
    },
    {
      "cell_type": "markdown",
      "source": [
        "+ [Listening A](https://drive.google.com/file/d/1Qah4LUB9eayb693sTWMeCu6hhFyTwNXV/view?usp=sharing): fool, fool, full"
      ],
      "metadata": {
        "id": "os7jMQZcDeCF"
      }
    },
    {
      "cell_type": "markdown",
      "source": [
        "# **Read aloud**"
      ],
      "metadata": {
        "id": "THnubTfsTWUy"
      }
    },
    {
      "cell_type": "code",
      "source": [
        "#@markdown Little Red Riding Hood\n",
        "text = \"\"\"\n",
        "The story revolves around a girl called Little Red Riding Hood, after the red hooded cape/cloak she wears. The girl walks through the woods to deliver food to her sickly grandmother (wine and cake depending on the translation). In the Grimms' version at least, she had the order from her mother to stay strictly on the path.\n",
        "\tA mean wolf wants to eat the girl and the food in the basket. He secretly stalks her behind trees, bushes, shrubs, and patches of little and tall grass. He approaches Little Red Riding Hood and she naïvely tells him where she is going. He suggests that the girl pick some flowers; which she does. In the meantime; he goes to the grandmother's house and gains entry by pretending to be the girl. He swallows the grandmother whole (in some stories, he locks her in the closet) and waits for the girl, disguised as the grandma.\n",
        "\"\"\"\n",
        "\n",
        "etts(text)\n",
        "Audio(\"E-audio.mp3\")"
      ],
      "metadata": {
        "cellView": "form",
        "id": "CwXze0EsTcW2"
      },
      "execution_count": null,
      "outputs": []
    },
    {
      "cell_type": "markdown",
      "source": [
        "---\n",
        "The end"
      ],
      "metadata": {
        "id": "op7pr7ieQwkT"
      }
    }
  ]
}