{
  "nbformat": 4,
  "nbformat_minor": 0,
  "metadata": {
    "colab": {
      "private_outputs": true,
      "provenance": [],
      "authorship_tag": "ABX9TyOEKxo8lmzdoh6+SgDGcy8a",
      "include_colab_link": true
    },
    "kernelspec": {
      "name": "python3",
      "display_name": "Python 3"
    },
    "language_info": {
      "name": "python"
    }
  },
  "cells": [
    {
      "cell_type": "markdown",
      "metadata": {
        "id": "view-in-github",
        "colab_type": "text"
      },
      "source": [
        "<a href=\"https://colab.research.google.com/github/MK316/Spring2024/blob/main/Engpro/Oxford5K.ipynb\" target=\"_parent\"><img src=\"https://colab.research.google.com/assets/colab-badge.svg\" alt=\"Open In Colab\"/></a>"
      ]
    },
    {
      "cell_type": "markdown",
      "source": [
        "# Oxford Learners' Vocabulary 5K"
      ],
      "metadata": {
        "id": "EVDZuSLEc6g2"
      }
    },
    {
      "cell_type": "markdown",
      "source": [
        "![image](https://github.com/MK316/Myapps/raw/main/OF5K/oxford5k.png)"
      ],
      "metadata": {
        "id": "S83d2qVMdjY0"
      }
    },
    {
      "cell_type": "code",
      "execution_count": null,
      "metadata": {
        "id": "hmuFBA3mc4ba"
      },
      "outputs": [],
      "source": []
    }
  ]
}