{
  "nbformat": 4,
  "nbformat_minor": 0,
  "metadata": {
    "colab": {
      "private_outputs": true,
      "provenance": [],
      "authorship_tag": "ABX9TyMtY0fDNZWn8NvHmoJRZ328",
      "include_colab_link": true
    },
    "kernelspec": {
      "name": "python3",
      "display_name": "Python 3"
    },
    "language_info": {
      "name": "python"
    }
  },
  "cells": [
    {
      "cell_type": "markdown",
      "metadata": {
        "id": "view-in-github",
        "colab_type": "text"
      },
      "source": [
        "<a href=\"https://colab.research.google.com/github/MK316/Spring2024/blob/main/Corpus/NLP01.ipynb\" target=\"_parent\"><img src=\"https://colab.research.google.com/assets/colab-badge.svg\" alt=\"Open In Colab\"/></a>"
      ]
    },
    {
      "cell_type": "markdown",
      "source": [
        "# NLP 01 Preview"
      ],
      "metadata": {
        "id": "7sZz-n8q-xLN"
      }
    },
    {
      "cell_type": "markdown",
      "source": [
        "# Text handling"
      ],
      "metadata": {
        "id": "BAnXyZQU_aOC"
      }
    },
    {
      "cell_type": "markdown",
      "source": [
        "## PDF to text"
      ],
      "metadata": {
        "id": "Z9oV9K29-eQM"
      }
    },
    {
      "cell_type": "code",
      "execution_count": null,
      "metadata": {
        "id": "o1WD2PTu7WaE"
      },
      "outputs": [],
      "source": [
        "!pip install PyPDF2"
      ]
    },
    {
      "cell_type": "code",
      "source": [
        "#@markdown pdf to text {PyPDF2}\n",
        "import PyPDF2\n",
        "from google.colab import files\n",
        "import io\n",
        "\n",
        "# Upload file from your local file system\n",
        "uploaded = files.upload()\n",
        "\n",
        "# The uploaded file is stored in the 'uploaded' variable\n",
        "# 'uploaded' is a dictionary with file names as keys and the file data as values\n",
        "if uploaded:\n",
        "    pdf_file_name = next(iter(uploaded))  # Get the name of the uploaded file\n",
        "\n",
        "    # Read the PDF file\n",
        "    pdf_file = io.BytesIO(uploaded[pdf_file_name])\n",
        "\n",
        "    # Create a PDF reader object\n",
        "    pdf_reader = PyPDF2.PdfReader(pdf_file)\n",
        "\n",
        "    # Initialize a variable to store extracted text\n",
        "    extracted_text = \"\"\n",
        "\n",
        "    # Loop through each page in the PDF\n",
        "    for page_num in range(len(pdf_reader.pages)):\n",
        "        # Get a page object\n",
        "        page = pdf_reader.pages[page_num]\n",
        "\n",
        "        # Extract text from the page\n",
        "        page_text = page.extract_text()\n",
        "        if page_text:\n",
        "            extracted_text += page_text + \"\\n\"\n",
        "\n",
        "    # Print the extracted text\n",
        "    print(extracted_text[100:])\n",
        "else:\n",
        "    print(\"No file uploaded.\")\n"
      ],
      "metadata": {
        "cellView": "form",
        "id": "eKI2byzA7YIZ"
      },
      "execution_count": null,
      "outputs": []
    },
    {
      "cell_type": "markdown",
      "source": [
        "##"
      ],
      "metadata": {
        "id": "5ErLmA2Q_UlG"
      }
    }
  ]
}
