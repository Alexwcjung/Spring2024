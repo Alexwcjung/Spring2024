{
  "nbformat": 4,
  "nbformat_minor": 0,
  "metadata": {
    "colab": {
      "private_outputs": true,
      "provenance": [],
      "authorship_tag": "ABX9TyMEUPJCfeSkPED/qqIc5eWn",
      "include_colab_link": true
    },
    "kernelspec": {
      "name": "python3",
      "display_name": "Python 3"
    },
    "language_info": {
      "name": "python"
    }
  },
  "cells": [
    {
      "cell_type": "markdown",
      "metadata": {
        "id": "view-in-github",
        "colab_type": "text"
      },
      "source": [
        "<a href=\"https://colab.research.google.com/github/MK316/Spring2024/blob/main/Corpus/Assocplot.ipynb\" target=\"_parent\"><img src=\"https://colab.research.google.com/assets/colab-badge.svg\" alt=\"Open In Colab\"/></a>"
      ]
    },
    {
      "cell_type": "markdown",
      "source": [
        "# Association Plot"
      ],
      "metadata": {
        "id": "257BKv6czn2v"
      }
    },
    {
      "cell_type": "code",
      "execution_count": null,
      "metadata": {
        "id": "i6eb90D0znPh"
      },
      "outputs": [],
      "source": [
        "!pip install seaborn"
      ]
    },
    {
      "cell_type": "code",
      "source": [
        "import seaborn as sns\n",
        "import matplotlib.pyplot as plt\n",
        "\n",
        "# Sample Data\n",
        "# Replace this with your actual dataset\n",
        "import pandas as pd\n",
        "data = pd.DataFrame({\n",
        "    'Variable1': ['A', 'B', 'A', 'C', 'B', 'A', 'C', 'B', 'C', 'A'],\n",
        "    'Variable2': ['X', 'Y', 'Y', 'X', 'Y', 'X', 'Y', 'Y', 'X', 'X']\n",
        "})\n",
        "\n",
        "# Create a contingency table\n",
        "contingency_table = pd.crosstab(data['Variable1'], data['Variable2'])\n",
        "\n",
        "# Create the assoc plot\n",
        "sns.heatmap(contingency_table, annot=True, cmap=\"YlGnBu\")\n",
        "\n",
        "# Adding labels\n",
        "plt.title('Association Plot')\n",
        "plt.ylabel('Variable 1')\n",
        "plt.xlabel('Variable 2')\n",
        "\n",
        "# Display the plot\n",
        "plt.show()\n"
      ],
      "metadata": {
        "id": "IzOpQ5H8zqty"
      },
      "execution_count": null,
      "outputs": []
    },
    {
      "cell_type": "code",
      "source": [
        "!pip install matplotlib"
      ],
      "metadata": {
        "id": "pRPqQh3W0I5S"
      },
      "execution_count": null,
      "outputs": []
    },
    {
      "cell_type": "code",
      "source": [
        "import seaborn as sns\n",
        "import matplotlib.pyplot as plt\n",
        "import pandas as pd\n",
        "\n",
        "# Sample Data\n",
        "# Replace this with your actual dataset\n",
        "data = pd.DataFrame({\n",
        "    'Category': ['A', 'B', 'C', 'D', 'E'],\n",
        "    'Value': [5, -3, 7, -2, 4]\n",
        "})\n",
        "\n",
        "# Create the bar plot\n",
        "sns.barplot(x='Category', y='Value', data=data, palette='vlag')\n",
        "\n",
        "# Adding labels and title\n",
        "plt.xlabel('Category')\n",
        "plt.ylabel('Value')\n",
        "plt.title('Vertical Bar Plot with Positive and Negative Values')\n",
        "\n",
        "# Display the plot\n",
        "plt.show()\n"
      ],
      "metadata": {
        "id": "fwWTgCbQ0LPl"
      },
      "execution_count": null,
      "outputs": []
    }
  ]
}