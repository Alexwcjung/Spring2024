{
  "nbformat": 4,
  "nbformat_minor": 0,
  "metadata": {
    "colab": {
      "private_outputs": true,
      "provenance": [],
      "authorship_tag": "ABX9TyM3vgH2JJBBsieDclsvgIsG",
      "include_colab_link": true
    },
    "kernelspec": {
      "name": "python3",
      "display_name": "Python 3"
    },
    "language_info": {
      "name": "python"
    }
  },
  "cells": [
    {
      "cell_type": "markdown",
      "metadata": {
        "id": "view-in-github",
        "colab_type": "text"
      },
      "source": [
        "<a href=\"https://colab.research.google.com/github/MK316/Spring2024/blob/main/Corpus/sample-dictionary.ipynb\" target=\"_parent\"><img src=\"https://colab.research.google.com/assets/colab-badge.svg\" alt=\"Open In Colab\"/></a>"
      ]
    },
    {
      "cell_type": "code",
      "execution_count": null,
      "metadata": {
        "id": "nyF9GV5FIRCT"
      },
      "outputs": [],
      "source": [
        "# Define the word and its tags\n",
        "word_info = {\n",
        "    \"word\": \"word\",\n",
        "    \"part_of_speech\": \"Noun\",\n",
        "    \"meaning\": \"A single distinct meaningful element of speech or writing\",\n",
        "    \"pronunciation\": \"/wɜːrd/\"\n",
        "}\n",
        "\n",
        "# Accessing the information\n",
        "print(f\"Word: {word_info['word']}\")\n",
        "print(f\"Part of Speech: {word_info['part_of_speech']}\")\n",
        "print(f\"Meaning: {word_info['meaning']}\")\n",
        "print(f\"Pronunciation: {word_info['pronunciation']}\")"
      ]
    },
    {
      "cell_type": "code",
      "source": [
        "!pip install gradio\n"
      ],
      "metadata": {
        "id": "tNplBXqxIsA1"
      },
      "execution_count": null,
      "outputs": []
    },
    {
      "cell_type": "code",
      "source": [
        "import gradio as gr\n",
        "\n",
        "# Define words and their tags\n",
        "words_info = [\n",
        "    {\"word\": \"word\", \"part_of_speech\": \"Noun\", \"meaning\": \"A single distinct meaningful element of speech or writing\", \"pronunciation\": \"/wɜːrd/\"},\n",
        "    # Add 9 more words with similar structure\n",
        "    # ...\n",
        "]\n",
        "\n",
        "def get_word_info(word):\n",
        "    for word_info in words_info:\n",
        "        if word_info[\"word\"] == word:\n",
        "            return word_info\n",
        "    return {\"word\": \"Not found\", \"part_of_speech\": \"\", \"meaning\": \"\", \"pronunciation\": \"\"}\n",
        "\n",
        "# Create a Gradio interface\n",
        "interface = gr.Interface(\n",
        "    fn=get_word_info,\n",
        "    inputs=gr.inputs.Dropdown([word[\"word\"] for word in words_info], label=\"Select a Word\"),\n",
        "    outputs=[\"text\", \"text\", \"text\", \"text\"],\n",
        "    description=\"Select a word to view its Part of Speech, Meaning, and Pronunciation\"\n",
        ")\n",
        "\n",
        "if __name__ == \"__main__\":\n",
        "    interface.launch()\n"
      ],
      "metadata": {
        "id": "EkZ7vhTtIvHP"
      },
      "execution_count": null,
      "outputs": []
    }
  ]
}