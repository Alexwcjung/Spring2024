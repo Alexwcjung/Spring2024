{
  "nbformat": 4,
  "nbformat_minor": 0,
  "metadata": {
    "colab": {
      "private_outputs": true,
      "provenance": [],
      "authorship_tag": "ABX9TyNmWoAEzJvskiq7BI+WtlGS",
      "include_colab_link": true
    },
    "kernelspec": {
      "name": "python3",
      "display_name": "Python 3"
    },
    "language_info": {
      "name": "python"
    }
  },
  "cells": [
    {
      "cell_type": "markdown",
      "metadata": {
        "id": "view-in-github",
        "colab_type": "text"
      },
      "source": [
        "<a href=\"https://colab.research.google.com/github/MK316/Spring2024/blob/main/Corpus/RE_intro.ipynb\" target=\"_parent\"><img src=\"https://colab.research.google.com/assets/colab-badge.svg\" alt=\"Open In Colab\"/></a>"
      ]
    },
    {
      "cell_type": "markdown",
      "source": [
        "# Regular expressions (regex)\n",
        "\n",
        "+ Regular expressions (regex) are powerful tools for finding patterns within text.\n",
        "+ In Python, the re module provides full support for Perl-like regular expressions.\n",
        "+ We'll cover some basics like searching for patterns, replacing text, and splitting strings based on regex patterns."
      ],
      "metadata": {
        "id": "tAP1xWtQd41e"
      }
    },
    {
      "cell_type": "markdown",
      "source": [
        "## 1. Importing the re Module\n",
        "\n",
        "First, import the re module. This module is part of Python's standard library, so you don't need to install anything extra in Colab."
      ],
      "metadata": {
        "id": "PC_7Q20ReEC6"
      }
    },
    {
      "cell_type": "code",
      "execution_count": null,
      "metadata": {
        "id": "amVcV4_Ld3Wz"
      },
      "outputs": [],
      "source": [
        "import re"
      ]
    },
    {
      "cell_type": "markdown",
      "source": [
        "## 2. Searching for patterns\n",
        "\n",
        "The **re.search()** function searches the string for a match, and returns a Match object if there is a match.\n",
        "\n",
        "```\n",
        "re.search()\n",
        "```\n",
        "\n",
        "- .group() returns the part of the string where there was a match.\n",
        "- .start() returns the start position of the match.\n",
        "- .end() returns the end position of the match.\n",
        "- .span() returns a tuple containing the start and end positions of the match."
      ],
      "metadata": {
        "id": "9DD-H6TjeNOT"
      }
    },
    {
      "cell_type": "code",
      "source": [
        "# data\n",
        "\n",
        "pattern = \"Python\"\n",
        "text = \"Learning Python with regex is fun.\""
      ],
      "metadata": {
        "id": "iJEhxCGXedd1"
      },
      "execution_count": null,
      "outputs": []
    },
    {
      "cell_type": "code",
      "source": [
        "match = re.search(pattern, text)\n",
        "\n",
        "if match:\n",
        "    print(\"Found:\", match.group())\n",
        "else:\n",
        "    print(\"No match found.\")\n"
      ],
      "metadata": {
        "id": "15cOvTOUeacq"
      },
      "execution_count": null,
      "outputs": []
    },
    {
      "cell_type": "code",
      "source": [
        "result = re.search(\"Python\", text)\n",
        "\n",
        "print(result)\n",
        "print(result.group())"
      ],
      "metadata": {
        "id": "qeS-3DtbeqFy"
      },
      "execution_count": null,
      "outputs": []
    },
    {
      "cell_type": "markdown",
      "source": [
        "## 3. Finding all matches\n",
        "\n",
        "The **re.findall()** function returns a list of all non-overlapping matches of the pattern in the string.\n",
        "\n",
        "```\n",
        "re.findall()\n",
        "```"
      ],
      "metadata": {
        "id": "YPtOaOi5gCN_"
      }
    },
    {
      "cell_type": "code",
      "source": [
        "text = \"There are 15 apples and 10 oranges.\""
      ],
      "metadata": {
        "id": "hhxMVcY3gMwy"
      },
      "execution_count": null,
      "outputs": []
    },
    {
      "cell_type": "code",
      "source": [
        "pattern = \"\\d+\"  # Pattern to find digits\n",
        "\n",
        "matches = re.findall(pattern, text)\n",
        "print(matches)  # Outputs: ['15', '10']\n"
      ],
      "metadata": {
        "id": "Yd22hiT4gJw7"
      },
      "execution_count": null,
      "outputs": []
    },
    {
      "cell_type": "markdown",
      "source": [
        "## 4. Splitting a string\n",
        "\n",
        "The **re.split()** function splits the string where there is a match and returns a list of strings.\n",
        "\n",
        "```\n",
        "re.split()\n",
        "```"
      ],
      "metadata": {
        "id": "deGxFwcPgTAa"
      }
    },
    {
      "cell_type": "code",
      "source": [
        "text = \"Split this sentence into words.\""
      ],
      "metadata": {
        "id": "uaF6qEOjgc52"
      },
      "execution_count": null,
      "outputs": []
    },
    {
      "cell_type": "code",
      "source": [
        "pattern = \"\\s+\"  # Split on whitespace\n",
        "\n",
        "words = re.split(pattern, text)\n",
        "print(words)\n"
      ],
      "metadata": {
        "id": "rRofHtazgac-"
      },
      "execution_count": null,
      "outputs": []
    },
    {
      "cell_type": "markdown",
      "source": [
        "## 5. Replacing text\n",
        "\n",
        "The **re.sub()** function replaces the matches with the text of your choice.\n",
        "\n",
        "```\n",
        "re.sub()\n",
        "```"
      ],
      "metadata": {
        "id": "Gr2L_tmHghHK"
      }
    },
    {
      "cell_type": "code",
      "source": [
        "pattern = \"blue\"\n",
        "replace_with = \"red\"\n",
        "text = \"The sky is blue.\"\n",
        "\n",
        "new_text = re.sub(pattern, replace_with, text)\n",
        "print(\"Original: \", text)\n",
        "print(\"Replaced: \", new_text)  # Outputs: The sky is red.\n"
      ],
      "metadata": {
        "id": "9dgLtqSjgnDl"
      },
      "execution_count": null,
      "outputs": []
    },
    {
      "cell_type": "code",
      "source": [
        "re.sub(\"blue\",\"red\",\"The sky is blue.\")"
      ],
      "metadata": {
        "id": "tNgK5liNg3-R"
      },
      "execution_count": null,
      "outputs": []
    },
    {
      "cell_type": "markdown",
      "source": [
        "## 6. Compiling a pattern\n",
        "\n",
        "If you're using a pattern multiple times, it might be more efficient to compile it first."
      ],
      "metadata": {
        "id": "i1n4qjb6g-9O"
      }
    },
    {
      "cell_type": "code",
      "source": [
        "pattern = re.compile(\"\\d+\")  # Compiling a pattern to find digits\n",
        "\n",
        "# Searching with the compiled pattern\n",
        "text = \"123 and 456\"\n",
        "matches = pattern.findall(text)\n",
        "print(matches)  # Outputs: ['123', '456']\n"
      ],
      "metadata": {
        "id": "dvvWoq6uhFZe"
      },
      "execution_count": null,
      "outputs": []
    },
    {
      "cell_type": "markdown",
      "source": [
        "## Practice\n",
        "\n",
        "Practice Exercises\n",
        "Try these exercises to practice:\n",
        "\n",
        "+ Email Extraction: Write a regex to extract and print all email addresses from a string. Assume emails are in the format username@domain.com.\n",
        "\n",
        "+ URL Extraction: Extract all URLs from a string. Assume URLs start with http:// or https://.\n",
        "\n",
        "+ Phone Number Validation: Validate a list of phone numbers to match a specific pattern, e.g., (123) 456-7890.\n",
        "\n",
        "### Additional Tips\n",
        "+ Regular expressions can get complex, and their readability might decrease as their complexity increases. Always comment your regex patterns to explain their purpose.\n",
        "\n",
        "+ Test your regular expressions using online tools like [regex101.com](https://regex101.com/) to understand how they work.\n",
        "\n",
        "+ This guide provides a starting point for practicing regular expressions in Python. As you become more comfortable, try creating more complex patterns to match specific text formats."
      ],
      "metadata": {
        "id": "mXK7siHshbTj"
      }
    },
    {
      "cell_type": "markdown",
      "source": [
        "## Most common characters used in regular expressions"
      ],
      "metadata": {
        "id": "gUCvOESsj3RX"
      }
    },
    {
      "cell_type": "markdown",
      "source": [
        "### [1]\n",
        "\n",
        "+ The asterisk ( * ):\n",
        "The asterisk is known as a repeater symbol, meaning the preceding character can be found 0 or more times. For example, the regular expression ca*t will match the strings ct, cat, caat, caaat, etc.\n",
        "+ The plus symbol ( + ):\n",
        "The plus symbol is also a repeater symbol, but instead means that the preceding character can be found 1 or more times. So, ca+t would match all of the same patterns as it would with an asterisk, except ct. ct would not be a match because the a character appears 0 times.\n",
        "+ The wildcard ( . ):\n",
        "The wildcard represents any character, and is often used in conjunction with a repeater to cover a large range of patterns. One particular case for using the wildcard with a repeater would be to target all emails under a certain domain. For example, the regular expression .*@hallme.com would match any email with the hallme.com domain, since the wildcard ( . ) means that any character is valid and the asterisk ( * ) means that they can appear any number of times. Those two characters combined produce quite a powerful matching tool, essentially saying that any string of any size is valid.\n",
        "\n",
        "+ The curly braces ( { } ):\n",
        "The curly braces are the last of the repeater symbols, and are used to specify a number of times a character can appear in a string. There are a couple of different uses for the curly braces, since they can be used to specify a minimum and maximum number of characters as well. For example, the regular expression ca{1}t would only match the string cat, while the regular expression ca{1,4}t would match the strings cat, caat, caaat, caaaat.\n",
        "\n",
        "+ The optional character ( ? ):\n",
        "The optional character means that the preceding character is exactly that, optional. This is particularly useful with file extensions or URL protocols. For example, the regular expression docx? means that both doc and docx would be a match, and the regular expression https? means that both http and https would be a match.\n",
        "\n",
        "+ The caret ( ^ ) and the dollar sign ( \\$ ):\n",
        "The caret and the dollar sign are both used to indicate position in a string. The caret symbol is used to signify that the match must start at the beginning of the string, while the dollar sign means that the match must occur at the end of the string. For example, if you wished to find all phone numbers with the area code 207, you could use the regular expression ^207. If you instead wished to find all phone numbers ending with 1234, you could use the regular expression 1234$.\n",
        "\n"
      ],
      "metadata": {
        "id": "Z0CfLArojNDd"
      }
    },
    {
      "cell_type": "markdown",
      "source": [
        "### [2] Character classes: These can be used for matching common characters used in strings.\n",
        "\n",
        "[regular expression HOWTO](https://docs.python.org/3/howto/regex.html)\n",
        "\n",
        ">\\d\n",
        "\n",
        "Matches any decimal digit; this is equivalent to the class [0-9].\n",
        "\n",
        "> \\D\n",
        "\n",
        "Matches any non-digit character; this is equivalent to the class [^0-9].\n",
        "\n",
        "> \\s\n",
        "\n",
        "Matches any whitespace character; this is equivalent to the class [ \\t\\n\\r\\f\\v].\n",
        "\n",
        "> \\S\n",
        "\n",
        "Matches any non-whitespace character; this is equivalent to the class [^ \\t\\n\\r\\f\\v].\n",
        "\n",
        "> \\w\n",
        "\n",
        "Matches any alphanumeric character; this is equivalent to the class [a-zA-Z0-9_].\n",
        "\n",
        "> \\W\n",
        "\n",
        "Matches any non-alphanumeric character; this is equivalent to the class [^a-zA-Z0-9_].\n",
        "\n",
        "These sequences can be included inside a character class. For example, [\\s,.] is a character class that will match any whitespace character, or ',' or '.'."
      ],
      "metadata": {
        "id": "L5oWxOXOiNWW"
      }
    },
    {
      "cell_type": "markdown",
      "source": [
        "### [3] The square brackets ( [ ] ):\n",
        "The square brackets are used to match sets of characters, and are quite versatile. You can simply include the characters you wish to match, such as [aeo]. So with a regular expression such as b[aeo]lt, the pattern would match the words balt, belt, and bolt. Square brackets can also be used to negate characters, so a slightly different expression such as b[^aeo]lt would match every word in that pattern EXCEPT balt, belt, and bolt. The square brackets can also be used for ranges of characters. The expression [a-zA-Z] would match any alphabetic character regardless of case.\n",
        "\n",
        "### [4] The escape symbol ( \\ ):\n",
        "An obvious side effect of using characters as pattern matchers is that you then can’t use the character as an actual character. The escape symbol solves this problem. If you want to use any characters that also exist as pattern matchers, simply include the escape symbol before the character. For example, the expression 2\\+2 would match the string 2+2.\n",
        "\n",
        "### [5] The parentheses ( ( ) ):\n",
        "The parentheses are used to group symbols together so that they act as a single unit.\n",
        "\n",
        "\n"
      ],
      "metadata": {
        "id": "NCMzSXOLkBQN"
      }
    },
    {
      "cell_type": "markdown",
      "source": [
        "### [6] The vertical bar ( | ):\n",
        "The vertical bar acts as an OR symbol, and is used to designate multiple options for a match. For example, the regular expression th(e|ere|eir|is|at) would match all of the following: the, there, their, this, and that.\n",
        "\n",
        "It is not uncommon to read through a quick article on regular expressions and feel like you have a solid understanding of them. Then, you see an actually complex regular expression and become completely overwhelmed. Luckily, with regular expressions we can take the time to work through them character by character to figure out exactly what they mean. Let’s work through one now.\n",
        "\n",
        "^([a-zA-Z0-9_\\-\\.]+)@([a-zA-Z0-9_\\-\\.]+)\\.([a-zA-Z]{2,5})$\n",
        "\n",
        "[Find the description in here](https://www.hallme.com/blog/the-power-of-regular-expressions/)"
      ],
      "metadata": {
        "id": "9U-Mz1z_kG52"
      }
    }
  ]
}