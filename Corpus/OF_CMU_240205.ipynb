{
  "nbformat": 4,
  "nbformat_minor": 0,
  "metadata": {
    "colab": {
      "private_outputs": true,
      "provenance": [],
      "authorship_tag": "ABX9TyPUk+Z9IRmmZkQhSi6oMjdL",
      "include_colab_link": true
    },
    "kernelspec": {
      "name": "python3",
      "display_name": "Python 3"
    },
    "language_info": {
      "name": "python"
    }
  },
  "cells": [
    {
      "cell_type": "markdown",
      "metadata": {
        "id": "view-in-github",
        "colab_type": "text"
      },
      "source": [
        "<a href=\"https://colab.research.google.com/github/MK316/Spring2024/blob/main/Corpus/OF_CMU_240205.ipynb\" target=\"_parent\"><img src=\"https://colab.research.google.com/assets/colab-badge.svg\" alt=\"Open In Colab\"/></a>"
      ]
    },
    {
      "cell_type": "markdown",
      "source": [
        "# Stressed vowels in the Oxford data (5K)"
      ],
      "metadata": {
        "id": "tq57BQlK18XB"
      }
    },
    {
      "cell_type": "code",
      "execution_count": null,
      "metadata": {
        "id": "xB1HxyK-fMq_"
      },
      "outputs": [],
      "source": [
        "import pandas as pd"
      ]
    },
    {
      "cell_type": "markdown",
      "source": [
        "## [1] Read csv file"
      ],
      "metadata": {
        "id": "HD-yEIBcgSkK"
      }
    },
    {
      "cell_type": "code",
      "source": [
        "import pandas as pd\n",
        "\n",
        "# Read the CSV file\n",
        "df = pd.read_csv('OF5K_data_trim.csv', encoding='utf-8')"
      ],
      "metadata": {
        "id": "fumuysP-fYYU"
      },
      "execution_count": null,
      "outputs": []
    },
    {
      "cell_type": "markdown",
      "source": [
        "# [2] Adding Pronunciation column for English words"
      ],
      "metadata": {
        "id": "361Afj9iv6r1"
      }
    },
    {
      "cell_type": "markdown",
      "source": [
        "### Step 1: Install the g2p_en Library"
      ],
      "metadata": {
        "id": "PEAXm9Szwqgv"
      }
    },
    {
      "cell_type": "code",
      "source": [
        "!pip install g2p_en"
      ],
      "metadata": {
        "id": "xwyoXcoSv6Po"
      },
      "execution_count": null,
      "outputs": []
    },
    {
      "cell_type": "markdown",
      "source": [
        "### Step 2: Create a Function to Get Phonetic Transcription\n",
        "\n",
        "After installing the library, you can use it to create a function that returns the phonetic transcription for each English word.\n",
        "\n",
        "+ CMU transcription\n",
        "+ [Symbols](https://github.com/MK316/Workingpapers/blob/main/Foreignwords/cmusymbols.md)"
      ],
      "metadata": {
        "id": "mrO4rSYXwrC8"
      }
    },
    {
      "cell_type": "code",
      "source": [
        "from g2p_en import G2p\n",
        "\n",
        "# Initialize the g2p object\n",
        "g2p = G2p()\n",
        "\n",
        "def get_phonetic_transcription(word):\n",
        "    # Get the phonetic transcription of the word\n",
        "    phonetic_transcription = g2p(word)\n",
        "    # Join the phonemes into a single string\n",
        "    return ' '.join(phonetic_transcription)\n"
      ],
      "metadata": {
        "id": "sP8cnlO2woFL"
      },
      "execution_count": null,
      "outputs": []
    },
    {
      "cell_type": "markdown",
      "source": [
        "### Step 3: Apply the Function to Your DataFrame\n",
        "Now, apply this function to the 'EWord' column of your DataFrame and save the results in a new column called 'Pronunciation'."
      ],
      "metadata": {
        "id": "Xd5PLOo7wyNT"
      }
    },
    {
      "cell_type": "code",
      "source": [
        "import pandas as pd\n",
        "\n",
        "# Assuming df is your DataFrame and it has a column named 'EWord'\n",
        "df['Pronunciation'] = df['WORD'].apply(get_phonetic_transcription)\n"
      ],
      "metadata": {
        "id": "w_8bKMEow2ar"
      },
      "execution_count": null,
      "outputs": []
    },
    {
      "cell_type": "code",
      "source": [
        "df.head()"
      ],
      "metadata": {
        "id": "SfobDU0K2hzX"
      },
      "execution_count": null,
      "outputs": []
    },
    {
      "cell_type": "markdown",
      "source": [
        "### Step 4: Save Your DataFrame\n",
        "Finally, save your updated DataFrame with the new 'Pronunciation' column to a CSV file.\n"
      ],
      "metadata": {
        "id": "jwc4ucGIw85a"
      }
    },
    {
      "cell_type": "code",
      "source": [
        "df.to_csv('OF5K_CMU.csv', index=False, encoding='utf-8-sig')\n"
      ],
      "metadata": {
        "id": "6Po2xVoSxB6Q"
      },
      "execution_count": null,
      "outputs": []
    },
    {
      "cell_type": "code",
      "source": [
        "df.head()"
      ],
      "metadata": {
        "id": "9TIRn6bYxGEN"
      },
      "execution_count": null,
      "outputs": []
    },
    {
      "cell_type": "markdown",
      "source": [
        "# Primary stress and the vowel"
      ],
      "metadata": {
        "id": "h0rOkn3I3eh1"
      }
    },
    {
      "cell_type": "code",
      "source": [
        "import pandas as pd\n",
        "\n",
        "\n",
        "# Function to find the primary stressed vowel\n",
        "def find_primary_stress(pronunciation):\n",
        "    parts = pronunciation.split()\n",
        "    # Iterate through each part to find the primary stressed vowel (denoted by '1')\n",
        "    for part in parts:\n",
        "        if '1' in part:\n",
        "            # Return the vowel part before the stress indicator '1'\n",
        "            return part[:-1]  # Removes the stress number\n",
        "    return ''  # In case no primary stress is found\n",
        "\n",
        "# Apply the function to the 'Pronunciation' column to create a new 'Primary' column\n",
        "df['Primary'] = df['Pronunciation'].apply(find_primary_stress)\n",
        "\n",
        "# Display the updated DataFrame\n",
        "print(df)\n"
      ],
      "metadata": {
        "id": "gt8-xeib3hbK"
      },
      "execution_count": null,
      "outputs": []
    },
    {
      "cell_type": "code",
      "source": [
        "cmu_to_ipa = {\n",
        "    'AA': 'ɑ',  # cot\n",
        "    'AE': 'æ',  # cat\n",
        "    'AH': 'ə',  # schwa, as in sofa ('S OW1 F AH0'), about ('AH0 B AW1 T')\n",
        "    'AO': 'ɔ',  # caught, talk\n",
        "    'AW': 'aʊ',  # cow\n",
        "    'AY': 'aɪ',  # hide\n",
        "    'EH': 'ɛ',  # dress\n",
        "    'ER': 'ɝ',  # nurse (rhotic, with stress), 'ɚ' (rhotic, without stress)\n",
        "    'EY': 'eɪ',  # face\n",
        "    'IH': 'ɪ',  # kit\n",
        "    'IY': 'i',  # fleece\n",
        "    'OW': 'oʊ',  # goat\n",
        "    'OY': 'ɔɪ',  # choice\n",
        "    'UH': 'ʊ',  # foot\n",
        "    'UW': 'u',  # goose\n",
        "}\n",
        "\n",
        "# Note on the schwa ('AH'):\n",
        "# - 'AH' with stress '0' (AH0) is mapped to 'ə', indicating an unstressed schwa sound.\n",
        "# - When 'AH' appears with stress (e.g., AH1, AH2), it may represent a stressed vowel that in some accents sounds more like 'ʌ' or another vowel, depending on context.\n",
        "\n",
        "# Additional note on 'ER':\n",
        "# - 'ER' is represented in IPA as 'ɝ' when stressed (ER1) and 'ɚ' when unstressed (ER0 or ER2), reflecting the rhotic nature of the American English schwa.\n",
        "\n",
        "\n",
        "# Function to map CMU phoneme to IPA symbol\n",
        "def cmu_to_ipa_mapper(cmu_phoneme):\n",
        "    return cmu_to_ipa.get(cmu_phoneme, '')  # Return an empty string if not found\n",
        "\n",
        "# Apply the function to the 'Primary' column to create a new 'IPA' column\n",
        "df['IPA'] = df['Primary'].apply(cmu_to_ipa_mapper)\n",
        "\n",
        "# Display the updated DataFrame\n",
        "print(df)\n",
        "\n"
      ],
      "metadata": {
        "id": "-7ZfHbMs31iG"
      },
      "execution_count": null,
      "outputs": []
    },
    {
      "cell_type": "code",
      "source": [
        "df.to_csv('OF5K_primarystress.csv', index=False, encoding='utf-8-sig')\n"
      ],
      "metadata": {
        "id": "R9EOl0a15Vou"
      },
      "execution_count": null,
      "outputs": []
    },
    {
      "cell_type": "markdown",
      "source": [
        "# Syllable boundaries"
      ],
      "metadata": {
        "id": "p_L9pTFB6wfn"
      }
    },
    {
      "cell_type": "code",
      "source": [
        "# Function to extract syllable-marked transcription\n",
        "def extract_syllables(cmu_pronunciation):\n",
        "    # Split the CMU pronunciation at each period to separate syllables\n",
        "    syllables = cmu_pronunciation.split('. ')\n",
        "    # Join the syllables with a space or another marker if needed\n",
        "    syllable_marked_transcription = ' . '.join(syllables)  # Adding a space around periods for clarity\n",
        "    return syllable_marked_transcription\n",
        "\n",
        "# Apply the function to create a new column with syllable-marked transcriptions\n",
        "df['Syllable_Marked_Transcription'] = df['Pronunciation'].apply(extract_syllables)\n",
        "\n",
        "# Display the updated DataFrame\n",
        "df.head()"
      ],
      "metadata": {
        "id": "ecfwXq1v6yeF"
      },
      "execution_count": null,
      "outputs": []
    },
    {
      "cell_type": "markdown",
      "source": [
        "# Data selection\n",
        "\n",
        "Words containing a specific vowel"
      ],
      "metadata": {
        "id": "5ZJCDdKX7OaO"
      }
    },
    {
      "cell_type": "code",
      "source": [
        "EY_df = df[df['Pronunciation'].str.contains(' EY')]\n",
        "OW_df = df[df['Pronunciation'].str.contains(' OW')]\n",
        "AY_df = df[df['Pronunciation'].str.contains(' AY')]\n",
        "OY_df = df[df['Pronunciation'].str.contains(' OY')]\n",
        "AW_df = df[df['Pronunciation'].str.contains(' AW')]\n",
        "print('EY:', len(EY_df['Eword']))\n",
        "print('OW:', len(OW_df['Eword']))\n",
        "print('AY:', len(AY_df['Eword']))\n",
        "print('OY:', len(OY_df['Eword']))\n",
        "print('AW:', len(AW_df['Eword']))"
      ],
      "metadata": {
        "id": "-b0iOCWS7S4w"
      },
      "execution_count": null,
      "outputs": []
    }
  ]
}