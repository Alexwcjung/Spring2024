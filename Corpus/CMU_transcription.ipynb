{
  "nbformat": 4,
  "nbformat_minor": 0,
  "metadata": {
    "colab": {
      "private_outputs": true,
      "provenance": [],
      "authorship_tag": "ABX9TyMPeBDi+xqG3HaTybolASBa",
      "include_colab_link": true
    },
    "kernelspec": {
      "name": "python3",
      "display_name": "Python 3"
    },
    "language_info": {
      "name": "python"
    }
  },
  "cells": [
    {
      "cell_type": "markdown",
      "metadata": {
        "id": "view-in-github",
        "colab_type": "text"
      },
      "source": [
        "<a href=\"https://colab.research.google.com/github/MK316/Spring2024/blob/main/Corpus/CMU_transcription.ipynb\" target=\"_parent\"><img src=\"https://colab.research.google.com/assets/colab-badge.svg\" alt=\"Open In Colab\"/></a>"
      ]
    },
    {
      "cell_type": "markdown",
      "source": [
        "# CMU Transcription\n",
        "\n",
        "+ {g2p_en} package\n",
        "+ [CMU dictionary](http://www.speech.cs.cmu.edu/cgi-bin/cmudict)"
      ],
      "metadata": {
        "id": "dU3HaZ-SfOuj"
      }
    },
    {
      "cell_type": "code",
      "execution_count": null,
      "metadata": {
        "id": "xB1HxyK-fMq_"
      },
      "outputs": [],
      "source": [
        "import pandas as pd"
      ]
    },
    {
      "cell_type": "markdown",
      "source": [
        "## [1] Read csv file"
      ],
      "metadata": {
        "id": "HD-yEIBcgSkK"
      }
    },
    {
      "cell_type": "code",
      "source": [
        "import pandas as pd\n",
        "\n",
        "# Read the CSV file\n",
        "df = pd.read_csv('FWords_data.csv', encoding='utf-8')"
      ],
      "metadata": {
        "id": "fumuysP-fYYU"
      },
      "execution_count": null,
      "outputs": []
    },
    {
      "cell_type": "code",
      "source": [
        "len(df['Origin'])"
      ],
      "metadata": {
        "id": "AVmug-bHvSUn"
      },
      "execution_count": null,
      "outputs": []
    },
    {
      "cell_type": "markdown",
      "source": [
        "# [2] Adding Pronunciation column for English words"
      ],
      "metadata": {
        "id": "361Afj9iv6r1"
      }
    },
    {
      "cell_type": "markdown",
      "source": [
        "### Step 1: Install the g2p_en Library"
      ],
      "metadata": {
        "id": "PEAXm9Szwqgv"
      }
    },
    {
      "cell_type": "code",
      "source": [
        "!pip install g2p_en"
      ],
      "metadata": {
        "id": "xwyoXcoSv6Po"
      },
      "execution_count": null,
      "outputs": []
    },
    {
      "cell_type": "markdown",
      "source": [
        "### Step 2: Create a Function to Get Phonetic Transcription\n",
        "\n",
        "After installing the library, you can use it to create a function that returns the phonetic transcription for each English word.\n",
        "\n",
        "+ CMU transcription\n",
        "+ [Symbols](https://github.com/MK316/Workingpapers/blob/main/Foreignwords/cmusymbols.md)"
      ],
      "metadata": {
        "id": "mrO4rSYXwrC8"
      }
    },
    {
      "cell_type": "code",
      "source": [
        "from g2p_en import G2p\n",
        "\n",
        "# Initialize the g2p object\n",
        "g2p = G2p()\n",
        "\n",
        "def get_phonetic_transcription(word):\n",
        "    # Get the phonetic transcription of the word\n",
        "    phonetic_transcription = g2p(word)\n",
        "    # Join the phonemes into a single string\n",
        "    return ' '.join(phonetic_transcription)\n"
      ],
      "metadata": {
        "id": "sP8cnlO2woFL"
      },
      "execution_count": null,
      "outputs": []
    },
    {
      "cell_type": "markdown",
      "source": [
        "### Step 3: Apply the Function to Your DataFrame\n",
        "Now, apply this function to the 'EWord' column of your DataFrame and save the results in a new column called 'Pronunciation'."
      ],
      "metadata": {
        "id": "Xd5PLOo7wyNT"
      }
    },
    {
      "cell_type": "code",
      "source": [
        "import pandas as pd\n",
        "\n",
        "# Assuming df is your DataFrame and it has a column named 'EWord'\n",
        "df['Pronunciation'] = df['Eword'].apply(get_phonetic_transcription)\n"
      ],
      "metadata": {
        "id": "w_8bKMEow2ar"
      },
      "execution_count": null,
      "outputs": []
    },
    {
      "cell_type": "markdown",
      "source": [
        "### Step 4: Save Your DataFrame\n",
        "Finally, save your updated DataFrame with the new 'Pronunciation' column to a CSV file.\n"
      ],
      "metadata": {
        "id": "jwc4ucGIw85a"
      }
    },
    {
      "cell_type": "code",
      "source": [
        "df.to_csv('UpdatedFWords.csv', index=False, encoding='utf-8-sig')\n"
      ],
      "metadata": {
        "id": "6Po2xVoSxB6Q"
      },
      "execution_count": null,
      "outputs": []
    },
    {
      "cell_type": "code",
      "source": [
        "df.head()"
      ],
      "metadata": {
        "id": "9TIRn6bYxGEN"
      },
      "execution_count": null,
      "outputs": []
    },
    {
      "cell_type": "markdown",
      "source": [
        "# Data selection\n",
        "\n",
        "Words containing a specific vowel"
      ],
      "metadata": {
        "id": "5ZJCDdKX7OaO"
      }
    },
    {
      "cell_type": "code",
      "source": [
        "EY_df = df[df['Pronunciation'].str.contains(' EY')]\n",
        "OW_df = df[df['Pronunciation'].str.contains(' OW')]\n",
        "AY_df = df[df['Pronunciation'].str.contains(' AY')]\n",
        "OY_df = df[df['Pronunciation'].str.contains(' OY')]\n",
        "AW_df = df[df['Pronunciation'].str.contains(' AW')]\n",
        "print('EY:', len(EY_df['Eword']))\n",
        "print('OW:', len(OW_df['Eword']))\n",
        "print('AY:', len(AY_df['Eword']))\n",
        "print('OY:', len(OY_df['Eword']))\n",
        "print('AW:', len(AW_df['Eword']))"
      ],
      "metadata": {
        "id": "-b0iOCWS7S4w"
      },
      "execution_count": null,
      "outputs": []
    }
  ]
}