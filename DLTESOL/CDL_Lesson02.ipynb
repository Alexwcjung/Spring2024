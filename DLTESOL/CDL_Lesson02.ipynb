{
  "nbformat": 4,
  "nbformat_minor": 0,
  "metadata": {
    "colab": {
      "provenance": [],
      "authorship_tag": "ABX9TyPYdEmT4dEe71AJj/7gC7MQ",
      "include_colab_link": true
    },
    "kernelspec": {
      "name": "python3",
      "display_name": "Python 3"
    },
    "language_info": {
      "name": "python"
    },
    "widgets": {
      "application/vnd.jupyter.widget-state+json": {
        "e4b16f9ffe5e4b03bea360c2c674c6c8": {
          "model_module": "@jupyter-widgets/output",
          "model_name": "OutputModel",
          "model_module_version": "1.0.0",
          "state": {
            "_dom_classes": [],
            "_model_module": "@jupyter-widgets/output",
            "_model_module_version": "1.0.0",
            "_model_name": "OutputModel",
            "_view_count": null,
            "_view_module": "@jupyter-widgets/output",
            "_view_module_version": "1.0.0",
            "_view_name": "OutputView",
            "layout": "IPY_MODEL_75f8f3fe61324ee3978ad1e03bf22681",
            "msg_id": "",
            "outputs": []
          }
        },
        "75f8f3fe61324ee3978ad1e03bf22681": {
          "model_module": "@jupyter-widgets/base",
          "model_name": "LayoutModel",
          "model_module_version": "1.2.0",
          "state": {
            "_model_module": "@jupyter-widgets/base",
            "_model_module_version": "1.2.0",
            "_model_name": "LayoutModel",
            "_view_count": null,
            "_view_module": "@jupyter-widgets/base",
            "_view_module_version": "1.2.0",
            "_view_name": "LayoutView",
            "align_content": null,
            "align_items": null,
            "align_self": null,
            "border": null,
            "bottom": null,
            "display": null,
            "flex": null,
            "flex_flow": null,
            "grid_area": null,
            "grid_auto_columns": null,
            "grid_auto_flow": null,
            "grid_auto_rows": null,
            "grid_column": null,
            "grid_gap": null,
            "grid_row": null,
            "grid_template_areas": null,
            "grid_template_columns": null,
            "grid_template_rows": null,
            "height": null,
            "justify_content": null,
            "justify_items": null,
            "left": null,
            "margin": null,
            "max_height": null,
            "max_width": null,
            "min_height": null,
            "min_width": null,
            "object_fit": null,
            "object_position": null,
            "order": null,
            "overflow": null,
            "overflow_x": null,
            "overflow_y": null,
            "padding": null,
            "right": null,
            "top": null,
            "visibility": null,
            "width": null
          }
        },
        "55e3b7e66bf14747b88a452ed2907dcf": {
          "model_module": "@jupyter-widgets/controls",
          "model_name": "VBoxModel",
          "model_module_version": "1.5.0",
          "state": {
            "_dom_classes": [],
            "_model_module": "@jupyter-widgets/controls",
            "_model_module_version": "1.5.0",
            "_model_name": "VBoxModel",
            "_view_count": null,
            "_view_module": "@jupyter-widgets/controls",
            "_view_module_version": "1.5.0",
            "_view_name": "VBoxView",
            "box_style": "",
            "children": [
              "IPY_MODEL_8950578c78ea41a2b79d90558fac7285",
              "IPY_MODEL_7a6ad9632b8744e1a6fddbc60d39c83f",
              "IPY_MODEL_dafc05d0acc14ba181bda768cb22c062",
              "IPY_MODEL_15400dfece0d4100948fc399fc8422e4",
              "IPY_MODEL_246a5c511fc94e3587f6f687cc73160d",
              "IPY_MODEL_5acc7e51cd7d47dd87ca9af6a8c8f267"
            ],
            "layout": "IPY_MODEL_220e5840d26140a4a5bbb6a2e4cf2b68"
          }
        },
        "8950578c78ea41a2b79d90558fac7285": {
          "model_module": "@jupyter-widgets/controls",
          "model_name": "TextModel",
          "model_module_version": "1.5.0",
          "state": {
            "_dom_classes": [],
            "_model_module": "@jupyter-widgets/controls",
            "_model_module_version": "1.5.0",
            "_model_name": "TextModel",
            "_view_count": null,
            "_view_module": "@jupyter-widgets/controls",
            "_view_module_version": "1.5.0",
            "_view_name": "TextView",
            "continuous_update": true,
            "description": "Calculation:",
            "description_tooltip": null,
            "disabled": false,
            "layout": "IPY_MODEL_cb896d5b51354a60b63ba97e5ac3bbdf",
            "placeholder": "Type something",
            "style": "IPY_MODEL_d929de9683944634af636ccc8316e8ef",
            "value": ""
          }
        },
        "7a6ad9632b8744e1a6fddbc60d39c83f": {
          "model_module": "@jupyter-widgets/controls",
          "model_name": "HBoxModel",
          "model_module_version": "1.5.0",
          "state": {
            "_dom_classes": [],
            "_model_module": "@jupyter-widgets/controls",
            "_model_module_version": "1.5.0",
            "_model_name": "HBoxModel",
            "_view_count": null,
            "_view_module": "@jupyter-widgets/controls",
            "_view_module_version": "1.5.0",
            "_view_name": "HBoxView",
            "box_style": "",
            "children": [
              "IPY_MODEL_52e47498f55c4bf3bdc1c0a8e6d0229c",
              "IPY_MODEL_942933118a5c488c81b82e3c202c8323",
              "IPY_MODEL_26388ef5cc724d3da0ce41b09b9abc37",
              "IPY_MODEL_22918fbbda0947d1b1ecdadf62e768b5"
            ],
            "layout": "IPY_MODEL_3b76dc3b2369439f9293213ddf2bb82e"
          }
        },
        "dafc05d0acc14ba181bda768cb22c062": {
          "model_module": "@jupyter-widgets/controls",
          "model_name": "HBoxModel",
          "model_module_version": "1.5.0",
          "state": {
            "_dom_classes": [],
            "_model_module": "@jupyter-widgets/controls",
            "_model_module_version": "1.5.0",
            "_model_name": "HBoxModel",
            "_view_count": null,
            "_view_module": "@jupyter-widgets/controls",
            "_view_module_version": "1.5.0",
            "_view_name": "HBoxView",
            "box_style": "",
            "children": [
              "IPY_MODEL_e115f5d75ca8432fbca23a932613e187",
              "IPY_MODEL_7d133544cdc74bcfb36f6108ab9714fd",
              "IPY_MODEL_45ac5d89d6284d50a54c1b07400aa813",
              "IPY_MODEL_ac3933e4af8743ccb18713997d3e8752"
            ],
            "layout": "IPY_MODEL_48128f87fc7f44d59b19e9f59b9eef65"
          }
        },
        "15400dfece0d4100948fc399fc8422e4": {
          "model_module": "@jupyter-widgets/controls",
          "model_name": "HBoxModel",
          "model_module_version": "1.5.0",
          "state": {
            "_dom_classes": [],
            "_model_module": "@jupyter-widgets/controls",
            "_model_module_version": "1.5.0",
            "_model_name": "HBoxModel",
            "_view_count": null,
            "_view_module": "@jupyter-widgets/controls",
            "_view_module_version": "1.5.0",
            "_view_name": "HBoxView",
            "box_style": "",
            "children": [
              "IPY_MODEL_07357325fe2f419592d60bb2f9996846",
              "IPY_MODEL_2ae19fee4ce842fda437eb6bdf7ae145",
              "IPY_MODEL_781435bdac5146b6b9847151d61e9b2a",
              "IPY_MODEL_1e0e46bba0b5449c831bc99c90495e1b"
            ],
            "layout": "IPY_MODEL_67726c8c31fc4ca1a5070de7c6d4a1ff"
          }
        },
        "246a5c511fc94e3587f6f687cc73160d": {
          "model_module": "@jupyter-widgets/controls",
          "model_name": "HBoxModel",
          "model_module_version": "1.5.0",
          "state": {
            "_dom_classes": [],
            "_model_module": "@jupyter-widgets/controls",
            "_model_module_version": "1.5.0",
            "_model_name": "HBoxModel",
            "_view_count": null,
            "_view_module": "@jupyter-widgets/controls",
            "_view_module_version": "1.5.0",
            "_view_name": "HBoxView",
            "box_style": "",
            "children": [
              "IPY_MODEL_d09f5f02a6f4410a85af6eabe2fc8ebf",
              "IPY_MODEL_419ecd0d346e46cea600f5ed108adf2b",
              "IPY_MODEL_54ce17347f6c457d883968b6e89babf6",
              "IPY_MODEL_02efab635f104c87b885f32484d0efed"
            ],
            "layout": "IPY_MODEL_9efab56fc4184c93b24e55841eaa092f"
          }
        },
        "5acc7e51cd7d47dd87ca9af6a8c8f267": {
          "model_module": "@jupyter-widgets/controls",
          "model_name": "HBoxModel",
          "model_module_version": "1.5.0",
          "state": {
            "_dom_classes": [],
            "_model_module": "@jupyter-widgets/controls",
            "_model_module_version": "1.5.0",
            "_model_name": "HBoxModel",
            "_view_count": null,
            "_view_module": "@jupyter-widgets/controls",
            "_view_module_version": "1.5.0",
            "_view_name": "HBoxView",
            "box_style": "",
            "children": [
              "IPY_MODEL_1ec6923596c246a79b93f49f2fa796d0"
            ],
            "layout": "IPY_MODEL_5763e14faff340d1ade97203bef2c1e0"
          }
        },
        "220e5840d26140a4a5bbb6a2e4cf2b68": {
          "model_module": "@jupyter-widgets/base",
          "model_name": "LayoutModel",
          "model_module_version": "1.2.0",
          "state": {
            "_model_module": "@jupyter-widgets/base",
            "_model_module_version": "1.2.0",
            "_model_name": "LayoutModel",
            "_view_count": null,
            "_view_module": "@jupyter-widgets/base",
            "_view_module_version": "1.2.0",
            "_view_name": "LayoutView",
            "align_content": null,
            "align_items": null,
            "align_self": null,
            "border": null,
            "bottom": null,
            "display": null,
            "flex": null,
            "flex_flow": null,
            "grid_area": null,
            "grid_auto_columns": null,
            "grid_auto_flow": null,
            "grid_auto_rows": null,
            "grid_column": null,
            "grid_gap": null,
            "grid_row": null,
            "grid_template_areas": null,
            "grid_template_columns": null,
            "grid_template_rows": null,
            "height": null,
            "justify_content": null,
            "justify_items": null,
            "left": null,
            "margin": null,
            "max_height": null,
            "max_width": null,
            "min_height": null,
            "min_width": null,
            "object_fit": null,
            "object_position": null,
            "order": null,
            "overflow": null,
            "overflow_x": null,
            "overflow_y": null,
            "padding": null,
            "right": null,
            "top": null,
            "visibility": null,
            "width": null
          }
        },
        "cb896d5b51354a60b63ba97e5ac3bbdf": {
          "model_module": "@jupyter-widgets/base",
          "model_name": "LayoutModel",
          "model_module_version": "1.2.0",
          "state": {
            "_model_module": "@jupyter-widgets/base",
            "_model_module_version": "1.2.0",
            "_model_name": "LayoutModel",
            "_view_count": null,
            "_view_module": "@jupyter-widgets/base",
            "_view_module_version": "1.2.0",
            "_view_name": "LayoutView",
            "align_content": null,
            "align_items": null,
            "align_self": null,
            "border": null,
            "bottom": null,
            "display": null,
            "flex": null,
            "flex_flow": null,
            "grid_area": null,
            "grid_auto_columns": null,
            "grid_auto_flow": null,
            "grid_auto_rows": null,
            "grid_column": null,
            "grid_gap": null,
            "grid_row": null,
            "grid_template_areas": null,
            "grid_template_columns": null,
            "grid_template_rows": null,
            "height": null,
            "justify_content": null,
            "justify_items": null,
            "left": null,
            "margin": null,
            "max_height": null,
            "max_width": null,
            "min_height": null,
            "min_width": null,
            "object_fit": null,
            "object_position": null,
            "order": null,
            "overflow": null,
            "overflow_x": null,
            "overflow_y": null,
            "padding": null,
            "right": null,
            "top": null,
            "visibility": null,
            "width": null
          }
        },
        "d929de9683944634af636ccc8316e8ef": {
          "model_module": "@jupyter-widgets/controls",
          "model_name": "DescriptionStyleModel",
          "model_module_version": "1.5.0",
          "state": {
            "_model_module": "@jupyter-widgets/controls",
            "_model_module_version": "1.5.0",
            "_model_name": "DescriptionStyleModel",
            "_view_count": null,
            "_view_module": "@jupyter-widgets/base",
            "_view_module_version": "1.2.0",
            "_view_name": "StyleView",
            "description_width": ""
          }
        },
        "52e47498f55c4bf3bdc1c0a8e6d0229c": {
          "model_module": "@jupyter-widgets/controls",
          "model_name": "ButtonModel",
          "model_module_version": "1.5.0",
          "state": {
            "_dom_classes": [],
            "_model_module": "@jupyter-widgets/controls",
            "_model_module_version": "1.5.0",
            "_model_name": "ButtonModel",
            "_view_count": null,
            "_view_module": "@jupyter-widgets/controls",
            "_view_module_version": "1.5.0",
            "_view_name": "ButtonView",
            "button_style": "",
            "description": "7",
            "disabled": false,
            "icon": "",
            "layout": "IPY_MODEL_021c78dbce734688bd92bb738094d19c",
            "style": "IPY_MODEL_fe844796a1834ff5b3dcf317a4d5c21a",
            "tooltip": ""
          }
        },
        "942933118a5c488c81b82e3c202c8323": {
          "model_module": "@jupyter-widgets/controls",
          "model_name": "ButtonModel",
          "model_module_version": "1.5.0",
          "state": {
            "_dom_classes": [],
            "_model_module": "@jupyter-widgets/controls",
            "_model_module_version": "1.5.0",
            "_model_name": "ButtonModel",
            "_view_count": null,
            "_view_module": "@jupyter-widgets/controls",
            "_view_module_version": "1.5.0",
            "_view_name": "ButtonView",
            "button_style": "",
            "description": "8",
            "disabled": false,
            "icon": "",
            "layout": "IPY_MODEL_021c78dbce734688bd92bb738094d19c",
            "style": "IPY_MODEL_ec0d86623bea474f9fad7e829f842253",
            "tooltip": ""
          }
        },
        "26388ef5cc724d3da0ce41b09b9abc37": {
          "model_module": "@jupyter-widgets/controls",
          "model_name": "ButtonModel",
          "model_module_version": "1.5.0",
          "state": {
            "_dom_classes": [],
            "_model_module": "@jupyter-widgets/controls",
            "_model_module_version": "1.5.0",
            "_model_name": "ButtonModel",
            "_view_count": null,
            "_view_module": "@jupyter-widgets/controls",
            "_view_module_version": "1.5.0",
            "_view_name": "ButtonView",
            "button_style": "",
            "description": "9",
            "disabled": false,
            "icon": "",
            "layout": "IPY_MODEL_021c78dbce734688bd92bb738094d19c",
            "style": "IPY_MODEL_c8bcda07e5eb4ea2a77050608799eb36",
            "tooltip": ""
          }
        },
        "22918fbbda0947d1b1ecdadf62e768b5": {
          "model_module": "@jupyter-widgets/controls",
          "model_name": "ButtonModel",
          "model_module_version": "1.5.0",
          "state": {
            "_dom_classes": [],
            "_model_module": "@jupyter-widgets/controls",
            "_model_module_version": "1.5.0",
            "_model_name": "ButtonModel",
            "_view_count": null,
            "_view_module": "@jupyter-widgets/controls",
            "_view_module_version": "1.5.0",
            "_view_name": "ButtonView",
            "button_style": "",
            "description": "÷",
            "disabled": false,
            "icon": "",
            "layout": "IPY_MODEL_021c78dbce734688bd92bb738094d19c",
            "style": "IPY_MODEL_6a4381106a954277b14f8c98f89b662c",
            "tooltip": ""
          }
        },
        "3b76dc3b2369439f9293213ddf2bb82e": {
          "model_module": "@jupyter-widgets/base",
          "model_name": "LayoutModel",
          "model_module_version": "1.2.0",
          "state": {
            "_model_module": "@jupyter-widgets/base",
            "_model_module_version": "1.2.0",
            "_model_name": "LayoutModel",
            "_view_count": null,
            "_view_module": "@jupyter-widgets/base",
            "_view_module_version": "1.2.0",
            "_view_name": "LayoutView",
            "align_content": null,
            "align_items": null,
            "align_self": null,
            "border": null,
            "bottom": null,
            "display": null,
            "flex": null,
            "flex_flow": null,
            "grid_area": null,
            "grid_auto_columns": null,
            "grid_auto_flow": null,
            "grid_auto_rows": null,
            "grid_column": null,
            "grid_gap": null,
            "grid_row": null,
            "grid_template_areas": null,
            "grid_template_columns": null,
            "grid_template_rows": null,
            "height": null,
            "justify_content": null,
            "justify_items": null,
            "left": null,
            "margin": null,
            "max_height": null,
            "max_width": null,
            "min_height": null,
            "min_width": null,
            "object_fit": null,
            "object_position": null,
            "order": null,
            "overflow": null,
            "overflow_x": null,
            "overflow_y": null,
            "padding": null,
            "right": null,
            "top": null,
            "visibility": null,
            "width": null
          }
        },
        "e115f5d75ca8432fbca23a932613e187": {
          "model_module": "@jupyter-widgets/controls",
          "model_name": "ButtonModel",
          "model_module_version": "1.5.0",
          "state": {
            "_dom_classes": [],
            "_model_module": "@jupyter-widgets/controls",
            "_model_module_version": "1.5.0",
            "_model_name": "ButtonModel",
            "_view_count": null,
            "_view_module": "@jupyter-widgets/controls",
            "_view_module_version": "1.5.0",
            "_view_name": "ButtonView",
            "button_style": "",
            "description": "4",
            "disabled": false,
            "icon": "",
            "layout": "IPY_MODEL_021c78dbce734688bd92bb738094d19c",
            "style": "IPY_MODEL_acd3b66f300f44818dc3b347d82f76c9",
            "tooltip": ""
          }
        },
        "7d133544cdc74bcfb36f6108ab9714fd": {
          "model_module": "@jupyter-widgets/controls",
          "model_name": "ButtonModel",
          "model_module_version": "1.5.0",
          "state": {
            "_dom_classes": [],
            "_model_module": "@jupyter-widgets/controls",
            "_model_module_version": "1.5.0",
            "_model_name": "ButtonModel",
            "_view_count": null,
            "_view_module": "@jupyter-widgets/controls",
            "_view_module_version": "1.5.0",
            "_view_name": "ButtonView",
            "button_style": "",
            "description": "5",
            "disabled": false,
            "icon": "",
            "layout": "IPY_MODEL_021c78dbce734688bd92bb738094d19c",
            "style": "IPY_MODEL_b8ff9634a47e488bb0aa83592d76ac90",
            "tooltip": ""
          }
        },
        "45ac5d89d6284d50a54c1b07400aa813": {
          "model_module": "@jupyter-widgets/controls",
          "model_name": "ButtonModel",
          "model_module_version": "1.5.0",
          "state": {
            "_dom_classes": [],
            "_model_module": "@jupyter-widgets/controls",
            "_model_module_version": "1.5.0",
            "_model_name": "ButtonModel",
            "_view_count": null,
            "_view_module": "@jupyter-widgets/controls",
            "_view_module_version": "1.5.0",
            "_view_name": "ButtonView",
            "button_style": "",
            "description": "6",
            "disabled": false,
            "icon": "",
            "layout": "IPY_MODEL_021c78dbce734688bd92bb738094d19c",
            "style": "IPY_MODEL_ed0395ae98a54ad9a735324fd36869cd",
            "tooltip": ""
          }
        },
        "ac3933e4af8743ccb18713997d3e8752": {
          "model_module": "@jupyter-widgets/controls",
          "model_name": "ButtonModel",
          "model_module_version": "1.5.0",
          "state": {
            "_dom_classes": [],
            "_model_module": "@jupyter-widgets/controls",
            "_model_module_version": "1.5.0",
            "_model_name": "ButtonModel",
            "_view_count": null,
            "_view_module": "@jupyter-widgets/controls",
            "_view_module_version": "1.5.0",
            "_view_name": "ButtonView",
            "button_style": "",
            "description": "×",
            "disabled": false,
            "icon": "",
            "layout": "IPY_MODEL_021c78dbce734688bd92bb738094d19c",
            "style": "IPY_MODEL_a6e25ea25a1d4c83b169be46cc51934e",
            "tooltip": ""
          }
        },
        "48128f87fc7f44d59b19e9f59b9eef65": {
          "model_module": "@jupyter-widgets/base",
          "model_name": "LayoutModel",
          "model_module_version": "1.2.0",
          "state": {
            "_model_module": "@jupyter-widgets/base",
            "_model_module_version": "1.2.0",
            "_model_name": "LayoutModel",
            "_view_count": null,
            "_view_module": "@jupyter-widgets/base",
            "_view_module_version": "1.2.0",
            "_view_name": "LayoutView",
            "align_content": null,
            "align_items": null,
            "align_self": null,
            "border": null,
            "bottom": null,
            "display": null,
            "flex": null,
            "flex_flow": null,
            "grid_area": null,
            "grid_auto_columns": null,
            "grid_auto_flow": null,
            "grid_auto_rows": null,
            "grid_column": null,
            "grid_gap": null,
            "grid_row": null,
            "grid_template_areas": null,
            "grid_template_columns": null,
            "grid_template_rows": null,
            "height": null,
            "justify_content": null,
            "justify_items": null,
            "left": null,
            "margin": null,
            "max_height": null,
            "max_width": null,
            "min_height": null,
            "min_width": null,
            "object_fit": null,
            "object_position": null,
            "order": null,
            "overflow": null,
            "overflow_x": null,
            "overflow_y": null,
            "padding": null,
            "right": null,
            "top": null,
            "visibility": null,
            "width": null
          }
        },
        "07357325fe2f419592d60bb2f9996846": {
          "model_module": "@jupyter-widgets/controls",
          "model_name": "ButtonModel",
          "model_module_version": "1.5.0",
          "state": {
            "_dom_classes": [],
            "_model_module": "@jupyter-widgets/controls",
            "_model_module_version": "1.5.0",
            "_model_name": "ButtonModel",
            "_view_count": null,
            "_view_module": "@jupyter-widgets/controls",
            "_view_module_version": "1.5.0",
            "_view_name": "ButtonView",
            "button_style": "",
            "description": "1",
            "disabled": false,
            "icon": "",
            "layout": "IPY_MODEL_021c78dbce734688bd92bb738094d19c",
            "style": "IPY_MODEL_8deb328d31544d56b237eaf833ff49ff",
            "tooltip": ""
          }
        },
        "2ae19fee4ce842fda437eb6bdf7ae145": {
          "model_module": "@jupyter-widgets/controls",
          "model_name": "ButtonModel",
          "model_module_version": "1.5.0",
          "state": {
            "_dom_classes": [],
            "_model_module": "@jupyter-widgets/controls",
            "_model_module_version": "1.5.0",
            "_model_name": "ButtonModel",
            "_view_count": null,
            "_view_module": "@jupyter-widgets/controls",
            "_view_module_version": "1.5.0",
            "_view_name": "ButtonView",
            "button_style": "",
            "description": "2",
            "disabled": false,
            "icon": "",
            "layout": "IPY_MODEL_021c78dbce734688bd92bb738094d19c",
            "style": "IPY_MODEL_8aa5fab4e5eb4f4eb9f976c5bf57897a",
            "tooltip": ""
          }
        },
        "781435bdac5146b6b9847151d61e9b2a": {
          "model_module": "@jupyter-widgets/controls",
          "model_name": "ButtonModel",
          "model_module_version": "1.5.0",
          "state": {
            "_dom_classes": [],
            "_model_module": "@jupyter-widgets/controls",
            "_model_module_version": "1.5.0",
            "_model_name": "ButtonModel",
            "_view_count": null,
            "_view_module": "@jupyter-widgets/controls",
            "_view_module_version": "1.5.0",
            "_view_name": "ButtonView",
            "button_style": "",
            "description": "3",
            "disabled": false,
            "icon": "",
            "layout": "IPY_MODEL_021c78dbce734688bd92bb738094d19c",
            "style": "IPY_MODEL_7702e99d9c5b43e3b562fdbe3d8ae0f7",
            "tooltip": ""
          }
        },
        "1e0e46bba0b5449c831bc99c90495e1b": {
          "model_module": "@jupyter-widgets/controls",
          "model_name": "ButtonModel",
          "model_module_version": "1.5.0",
          "state": {
            "_dom_classes": [],
            "_model_module": "@jupyter-widgets/controls",
            "_model_module_version": "1.5.0",
            "_model_name": "ButtonModel",
            "_view_count": null,
            "_view_module": "@jupyter-widgets/controls",
            "_view_module_version": "1.5.0",
            "_view_name": "ButtonView",
            "button_style": "",
            "description": "-",
            "disabled": false,
            "icon": "",
            "layout": "IPY_MODEL_021c78dbce734688bd92bb738094d19c",
            "style": "IPY_MODEL_514406c02f794410802f216895a013e8",
            "tooltip": ""
          }
        },
        "67726c8c31fc4ca1a5070de7c6d4a1ff": {
          "model_module": "@jupyter-widgets/base",
          "model_name": "LayoutModel",
          "model_module_version": "1.2.0",
          "state": {
            "_model_module": "@jupyter-widgets/base",
            "_model_module_version": "1.2.0",
            "_model_name": "LayoutModel",
            "_view_count": null,
            "_view_module": "@jupyter-widgets/base",
            "_view_module_version": "1.2.0",
            "_view_name": "LayoutView",
            "align_content": null,
            "align_items": null,
            "align_self": null,
            "border": null,
            "bottom": null,
            "display": null,
            "flex": null,
            "flex_flow": null,
            "grid_area": null,
            "grid_auto_columns": null,
            "grid_auto_flow": null,
            "grid_auto_rows": null,
            "grid_column": null,
            "grid_gap": null,
            "grid_row": null,
            "grid_template_areas": null,
            "grid_template_columns": null,
            "grid_template_rows": null,
            "height": null,
            "justify_content": null,
            "justify_items": null,
            "left": null,
            "margin": null,
            "max_height": null,
            "max_width": null,
            "min_height": null,
            "min_width": null,
            "object_fit": null,
            "object_position": null,
            "order": null,
            "overflow": null,
            "overflow_x": null,
            "overflow_y": null,
            "padding": null,
            "right": null,
            "top": null,
            "visibility": null,
            "width": null
          }
        },
        "d09f5f02a6f4410a85af6eabe2fc8ebf": {
          "model_module": "@jupyter-widgets/controls",
          "model_name": "ButtonModel",
          "model_module_version": "1.5.0",
          "state": {
            "_dom_classes": [],
            "_model_module": "@jupyter-widgets/controls",
            "_model_module_version": "1.5.0",
            "_model_name": "ButtonModel",
            "_view_count": null,
            "_view_module": "@jupyter-widgets/controls",
            "_view_module_version": "1.5.0",
            "_view_name": "ButtonView",
            "button_style": "",
            "description": "0",
            "disabled": false,
            "icon": "",
            "layout": "IPY_MODEL_021c78dbce734688bd92bb738094d19c",
            "style": "IPY_MODEL_68ff3293bd6342c08b0bfa504e99cf17",
            "tooltip": ""
          }
        },
        "419ecd0d346e46cea600f5ed108adf2b": {
          "model_module": "@jupyter-widgets/controls",
          "model_name": "ButtonModel",
          "model_module_version": "1.5.0",
          "state": {
            "_dom_classes": [],
            "_model_module": "@jupyter-widgets/controls",
            "_model_module_version": "1.5.0",
            "_model_name": "ButtonModel",
            "_view_count": null,
            "_view_module": "@jupyter-widgets/controls",
            "_view_module_version": "1.5.0",
            "_view_name": "ButtonView",
            "button_style": "",
            "description": ".",
            "disabled": false,
            "icon": "",
            "layout": "IPY_MODEL_021c78dbce734688bd92bb738094d19c",
            "style": "IPY_MODEL_749afdd22cdf4bd2b5f3ccb392f618b2",
            "tooltip": ""
          }
        },
        "54ce17347f6c457d883968b6e89babf6": {
          "model_module": "@jupyter-widgets/controls",
          "model_name": "ButtonModel",
          "model_module_version": "1.5.0",
          "state": {
            "_dom_classes": [],
            "_model_module": "@jupyter-widgets/controls",
            "_model_module_version": "1.5.0",
            "_model_name": "ButtonModel",
            "_view_count": null,
            "_view_module": "@jupyter-widgets/controls",
            "_view_module_version": "1.5.0",
            "_view_name": "ButtonView",
            "button_style": "",
            "description": "=",
            "disabled": false,
            "icon": "",
            "layout": "IPY_MODEL_021c78dbce734688bd92bb738094d19c",
            "style": "IPY_MODEL_042f47c078c14272b377378555c2d9c5",
            "tooltip": ""
          }
        },
        "02efab635f104c87b885f32484d0efed": {
          "model_module": "@jupyter-widgets/controls",
          "model_name": "ButtonModel",
          "model_module_version": "1.5.0",
          "state": {
            "_dom_classes": [],
            "_model_module": "@jupyter-widgets/controls",
            "_model_module_version": "1.5.0",
            "_model_name": "ButtonModel",
            "_view_count": null,
            "_view_module": "@jupyter-widgets/controls",
            "_view_module_version": "1.5.0",
            "_view_name": "ButtonView",
            "button_style": "",
            "description": "+",
            "disabled": false,
            "icon": "",
            "layout": "IPY_MODEL_021c78dbce734688bd92bb738094d19c",
            "style": "IPY_MODEL_233ddc3c71ef49c4aa7e4930f9f0aedc",
            "tooltip": ""
          }
        },
        "9efab56fc4184c93b24e55841eaa092f": {
          "model_module": "@jupyter-widgets/base",
          "model_name": "LayoutModel",
          "model_module_version": "1.2.0",
          "state": {
            "_model_module": "@jupyter-widgets/base",
            "_model_module_version": "1.2.0",
            "_model_name": "LayoutModel",
            "_view_count": null,
            "_view_module": "@jupyter-widgets/base",
            "_view_module_version": "1.2.0",
            "_view_name": "LayoutView",
            "align_content": null,
            "align_items": null,
            "align_self": null,
            "border": null,
            "bottom": null,
            "display": null,
            "flex": null,
            "flex_flow": null,
            "grid_area": null,
            "grid_auto_columns": null,
            "grid_auto_flow": null,
            "grid_auto_rows": null,
            "grid_column": null,
            "grid_gap": null,
            "grid_row": null,
            "grid_template_areas": null,
            "grid_template_columns": null,
            "grid_template_rows": null,
            "height": null,
            "justify_content": null,
            "justify_items": null,
            "left": null,
            "margin": null,
            "max_height": null,
            "max_width": null,
            "min_height": null,
            "min_width": null,
            "object_fit": null,
            "object_position": null,
            "order": null,
            "overflow": null,
            "overflow_x": null,
            "overflow_y": null,
            "padding": null,
            "right": null,
            "top": null,
            "visibility": null,
            "width": null
          }
        },
        "1ec6923596c246a79b93f49f2fa796d0": {
          "model_module": "@jupyter-widgets/controls",
          "model_name": "ButtonModel",
          "model_module_version": "1.5.0",
          "state": {
            "_dom_classes": [],
            "_model_module": "@jupyter-widgets/controls",
            "_model_module_version": "1.5.0",
            "_model_name": "ButtonModel",
            "_view_count": null,
            "_view_module": "@jupyter-widgets/controls",
            "_view_module_version": "1.5.0",
            "_view_name": "ButtonView",
            "button_style": "",
            "description": "Clear",
            "disabled": false,
            "icon": "",
            "layout": "IPY_MODEL_021c78dbce734688bd92bb738094d19c",
            "style": "IPY_MODEL_41e7bda5a8284f2481f6c339564681f9",
            "tooltip": ""
          }
        },
        "5763e14faff340d1ade97203bef2c1e0": {
          "model_module": "@jupyter-widgets/base",
          "model_name": "LayoutModel",
          "model_module_version": "1.2.0",
          "state": {
            "_model_module": "@jupyter-widgets/base",
            "_model_module_version": "1.2.0",
            "_model_name": "LayoutModel",
            "_view_count": null,
            "_view_module": "@jupyter-widgets/base",
            "_view_module_version": "1.2.0",
            "_view_name": "LayoutView",
            "align_content": null,
            "align_items": null,
            "align_self": null,
            "border": null,
            "bottom": null,
            "display": null,
            "flex": null,
            "flex_flow": null,
            "grid_area": null,
            "grid_auto_columns": null,
            "grid_auto_flow": null,
            "grid_auto_rows": null,
            "grid_column": null,
            "grid_gap": null,
            "grid_row": null,
            "grid_template_areas": null,
            "grid_template_columns": null,
            "grid_template_rows": null,
            "height": null,
            "justify_content": null,
            "justify_items": null,
            "left": null,
            "margin": null,
            "max_height": null,
            "max_width": null,
            "min_height": null,
            "min_width": null,
            "object_fit": null,
            "object_position": null,
            "order": null,
            "overflow": null,
            "overflow_x": null,
            "overflow_y": null,
            "padding": null,
            "right": null,
            "top": null,
            "visibility": null,
            "width": null
          }
        },
        "021c78dbce734688bd92bb738094d19c": {
          "model_module": "@jupyter-widgets/base",
          "model_name": "LayoutModel",
          "model_module_version": "1.2.0",
          "state": {
            "_model_module": "@jupyter-widgets/base",
            "_model_module_version": "1.2.0",
            "_model_name": "LayoutModel",
            "_view_count": null,
            "_view_module": "@jupyter-widgets/base",
            "_view_module_version": "1.2.0",
            "_view_name": "LayoutView",
            "align_content": null,
            "align_items": null,
            "align_self": null,
            "border": null,
            "bottom": null,
            "display": null,
            "flex": null,
            "flex_flow": null,
            "grid_area": null,
            "grid_auto_columns": null,
            "grid_auto_flow": null,
            "grid_auto_rows": null,
            "grid_column": null,
            "grid_gap": null,
            "grid_row": null,
            "grid_template_areas": null,
            "grid_template_columns": null,
            "grid_template_rows": null,
            "height": "75px",
            "justify_content": null,
            "justify_items": null,
            "left": null,
            "margin": "5px",
            "max_height": null,
            "max_width": null,
            "min_height": null,
            "min_width": null,
            "object_fit": null,
            "object_position": null,
            "order": null,
            "overflow": null,
            "overflow_x": null,
            "overflow_y": null,
            "padding": null,
            "right": null,
            "top": null,
            "visibility": null,
            "width": "75px"
          }
        },
        "fe844796a1834ff5b3dcf317a4d5c21a": {
          "model_module": "@jupyter-widgets/controls",
          "model_name": "ButtonStyleModel",
          "model_module_version": "1.5.0",
          "state": {
            "_model_module": "@jupyter-widgets/controls",
            "_model_module_version": "1.5.0",
            "_model_name": "ButtonStyleModel",
            "_view_count": null,
            "_view_module": "@jupyter-widgets/base",
            "_view_module_version": "1.2.0",
            "_view_name": "StyleView",
            "button_color": "orange",
            "font_weight": ""
          }
        },
        "ec0d86623bea474f9fad7e829f842253": {
          "model_module": "@jupyter-widgets/controls",
          "model_name": "ButtonStyleModel",
          "model_module_version": "1.5.0",
          "state": {
            "_model_module": "@jupyter-widgets/controls",
            "_model_module_version": "1.5.0",
            "_model_name": "ButtonStyleModel",
            "_view_count": null,
            "_view_module": "@jupyter-widgets/base",
            "_view_module_version": "1.2.0",
            "_view_name": "StyleView",
            "button_color": "orange",
            "font_weight": ""
          }
        },
        "c8bcda07e5eb4ea2a77050608799eb36": {
          "model_module": "@jupyter-widgets/controls",
          "model_name": "ButtonStyleModel",
          "model_module_version": "1.5.0",
          "state": {
            "_model_module": "@jupyter-widgets/controls",
            "_model_module_version": "1.5.0",
            "_model_name": "ButtonStyleModel",
            "_view_count": null,
            "_view_module": "@jupyter-widgets/base",
            "_view_module_version": "1.2.0",
            "_view_name": "StyleView",
            "button_color": "orange",
            "font_weight": ""
          }
        },
        "6a4381106a954277b14f8c98f89b662c": {
          "model_module": "@jupyter-widgets/controls",
          "model_name": "ButtonStyleModel",
          "model_module_version": "1.5.0",
          "state": {
            "_model_module": "@jupyter-widgets/controls",
            "_model_module_version": "1.5.0",
            "_model_name": "ButtonStyleModel",
            "_view_count": null,
            "_view_module": "@jupyter-widgets/base",
            "_view_module_version": "1.2.0",
            "_view_name": "StyleView",
            "button_color": "orange",
            "font_weight": ""
          }
        },
        "acd3b66f300f44818dc3b347d82f76c9": {
          "model_module": "@jupyter-widgets/controls",
          "model_name": "ButtonStyleModel",
          "model_module_version": "1.5.0",
          "state": {
            "_model_module": "@jupyter-widgets/controls",
            "_model_module_version": "1.5.0",
            "_model_name": "ButtonStyleModel",
            "_view_count": null,
            "_view_module": "@jupyter-widgets/base",
            "_view_module_version": "1.2.0",
            "_view_name": "StyleView",
            "button_color": "orange",
            "font_weight": ""
          }
        },
        "b8ff9634a47e488bb0aa83592d76ac90": {
          "model_module": "@jupyter-widgets/controls",
          "model_name": "ButtonStyleModel",
          "model_module_version": "1.5.0",
          "state": {
            "_model_module": "@jupyter-widgets/controls",
            "_model_module_version": "1.5.0",
            "_model_name": "ButtonStyleModel",
            "_view_count": null,
            "_view_module": "@jupyter-widgets/base",
            "_view_module_version": "1.2.0",
            "_view_name": "StyleView",
            "button_color": "orange",
            "font_weight": ""
          }
        },
        "ed0395ae98a54ad9a735324fd36869cd": {
          "model_module": "@jupyter-widgets/controls",
          "model_name": "ButtonStyleModel",
          "model_module_version": "1.5.0",
          "state": {
            "_model_module": "@jupyter-widgets/controls",
            "_model_module_version": "1.5.0",
            "_model_name": "ButtonStyleModel",
            "_view_count": null,
            "_view_module": "@jupyter-widgets/base",
            "_view_module_version": "1.2.0",
            "_view_name": "StyleView",
            "button_color": "orange",
            "font_weight": ""
          }
        },
        "a6e25ea25a1d4c83b169be46cc51934e": {
          "model_module": "@jupyter-widgets/controls",
          "model_name": "ButtonStyleModel",
          "model_module_version": "1.5.0",
          "state": {
            "_model_module": "@jupyter-widgets/controls",
            "_model_module_version": "1.5.0",
            "_model_name": "ButtonStyleModel",
            "_view_count": null,
            "_view_module": "@jupyter-widgets/base",
            "_view_module_version": "1.2.0",
            "_view_name": "StyleView",
            "button_color": "orange",
            "font_weight": ""
          }
        },
        "8deb328d31544d56b237eaf833ff49ff": {
          "model_module": "@jupyter-widgets/controls",
          "model_name": "ButtonStyleModel",
          "model_module_version": "1.5.0",
          "state": {
            "_model_module": "@jupyter-widgets/controls",
            "_model_module_version": "1.5.0",
            "_model_name": "ButtonStyleModel",
            "_view_count": null,
            "_view_module": "@jupyter-widgets/base",
            "_view_module_version": "1.2.0",
            "_view_name": "StyleView",
            "button_color": "orange",
            "font_weight": ""
          }
        },
        "8aa5fab4e5eb4f4eb9f976c5bf57897a": {
          "model_module": "@jupyter-widgets/controls",
          "model_name": "ButtonStyleModel",
          "model_module_version": "1.5.0",
          "state": {
            "_model_module": "@jupyter-widgets/controls",
            "_model_module_version": "1.5.0",
            "_model_name": "ButtonStyleModel",
            "_view_count": null,
            "_view_module": "@jupyter-widgets/base",
            "_view_module_version": "1.2.0",
            "_view_name": "StyleView",
            "button_color": "orange",
            "font_weight": ""
          }
        },
        "7702e99d9c5b43e3b562fdbe3d8ae0f7": {
          "model_module": "@jupyter-widgets/controls",
          "model_name": "ButtonStyleModel",
          "model_module_version": "1.5.0",
          "state": {
            "_model_module": "@jupyter-widgets/controls",
            "_model_module_version": "1.5.0",
            "_model_name": "ButtonStyleModel",
            "_view_count": null,
            "_view_module": "@jupyter-widgets/base",
            "_view_module_version": "1.2.0",
            "_view_name": "StyleView",
            "button_color": "orange",
            "font_weight": ""
          }
        },
        "514406c02f794410802f216895a013e8": {
          "model_module": "@jupyter-widgets/controls",
          "model_name": "ButtonStyleModel",
          "model_module_version": "1.5.0",
          "state": {
            "_model_module": "@jupyter-widgets/controls",
            "_model_module_version": "1.5.0",
            "_model_name": "ButtonStyleModel",
            "_view_count": null,
            "_view_module": "@jupyter-widgets/base",
            "_view_module_version": "1.2.0",
            "_view_name": "StyleView",
            "button_color": "orange",
            "font_weight": ""
          }
        },
        "68ff3293bd6342c08b0bfa504e99cf17": {
          "model_module": "@jupyter-widgets/controls",
          "model_name": "ButtonStyleModel",
          "model_module_version": "1.5.0",
          "state": {
            "_model_module": "@jupyter-widgets/controls",
            "_model_module_version": "1.5.0",
            "_model_name": "ButtonStyleModel",
            "_view_count": null,
            "_view_module": "@jupyter-widgets/base",
            "_view_module_version": "1.2.0",
            "_view_name": "StyleView",
            "button_color": "orange",
            "font_weight": ""
          }
        },
        "749afdd22cdf4bd2b5f3ccb392f618b2": {
          "model_module": "@jupyter-widgets/controls",
          "model_name": "ButtonStyleModel",
          "model_module_version": "1.5.0",
          "state": {
            "_model_module": "@jupyter-widgets/controls",
            "_model_module_version": "1.5.0",
            "_model_name": "ButtonStyleModel",
            "_view_count": null,
            "_view_module": "@jupyter-widgets/base",
            "_view_module_version": "1.2.0",
            "_view_name": "StyleView",
            "button_color": "orange",
            "font_weight": ""
          }
        },
        "042f47c078c14272b377378555c2d9c5": {
          "model_module": "@jupyter-widgets/controls",
          "model_name": "ButtonStyleModel",
          "model_module_version": "1.5.0",
          "state": {
            "_model_module": "@jupyter-widgets/controls",
            "_model_module_version": "1.5.0",
            "_model_name": "ButtonStyleModel",
            "_view_count": null,
            "_view_module": "@jupyter-widgets/base",
            "_view_module_version": "1.2.0",
            "_view_name": "StyleView",
            "button_color": "orange",
            "font_weight": ""
          }
        },
        "233ddc3c71ef49c4aa7e4930f9f0aedc": {
          "model_module": "@jupyter-widgets/controls",
          "model_name": "ButtonStyleModel",
          "model_module_version": "1.5.0",
          "state": {
            "_model_module": "@jupyter-widgets/controls",
            "_model_module_version": "1.5.0",
            "_model_name": "ButtonStyleModel",
            "_view_count": null,
            "_view_module": "@jupyter-widgets/base",
            "_view_module_version": "1.2.0",
            "_view_name": "StyleView",
            "button_color": "orange",
            "font_weight": ""
          }
        },
        "41e7bda5a8284f2481f6c339564681f9": {
          "model_module": "@jupyter-widgets/controls",
          "model_name": "ButtonStyleModel",
          "model_module_version": "1.5.0",
          "state": {
            "_model_module": "@jupyter-widgets/controls",
            "_model_module_version": "1.5.0",
            "_model_name": "ButtonStyleModel",
            "_view_count": null,
            "_view_module": "@jupyter-widgets/base",
            "_view_module_version": "1.2.0",
            "_view_name": "StyleView",
            "button_color": "orange",
            "font_weight": ""
          }
        }
      }
    }
  },
  "cells": [
    {
      "cell_type": "markdown",
      "metadata": {
        "id": "view-in-github",
        "colab_type": "text"
      },
      "source": [
        "<a href=\"https://colab.research.google.com/github/MK316/Spring2024/blob/main/DLTESOL/CDL_Lesson02.ipynb\" target=\"_parent\"><img src=\"https://colab.research.google.com/assets/colab-badge.svg\" alt=\"Open In Colab\"/></a>"
      ]
    },
    {
      "cell_type": "markdown",
      "source": [
        "# 🌳 **Introduction to Coding and Language App Design** (Week 03~04):\n",
        "# **Topic: Python basics #1**\n",
        "\n",
        "📙Manual [Coding4ET Lesson03](https://github.com/MK316/Coding4ET/blob/main/Lessons/Lesson03.md#Variables)\n",
        "\n",
        "\n",
        "📗Table of contents\n",
        "* 3.1 Comment vs. Code cells; Running code cells\n",
        "* 3.2 Input vs. Output\n",
        "+ **3.3 Variables**\n",
        "* **3.4 Operators**\n",
        "* **3.5 Functions**\n",
        "* **3.6 Modules, libraries & packages**\n",
        "\n",
        "💙 Github IDs [here](https://docs.google.com/spreadsheets/d/11TMSMm_0xzBc5lYAJx9oDwwrgeeAqKR1CEULl-eR6w0/edit?usp=sharing)\n",
        "\n",
        "Updated as of Mar.25, 2024"
      ],
      "metadata": {
        "id": "fkVkXhLoOGMz"
      }
    },
    {
      "cell_type": "markdown",
      "source": [
        "# **3.1 Text vs. Code cells**"
      ],
      "metadata": {
        "id": "CY-YSoyjarvc"
      }
    },
    {
      "cell_type": "markdown",
      "source": [
        "**A. This is a text cell**"
      ],
      "metadata": {
        "id": "uUjz2zOPawt8"
      }
    },
    {
      "cell_type": "code",
      "source": [
        "#@markdown **B. This is a code cell** (Run this code by clicking the icon on the left)\n",
        "\n",
        "name = input(\"What is your name? \")\n",
        "\n",
        "print(\"*\"*30)\n",
        "print(f\"Welcome, {name}!\", \"\\n\\n\", \"This is how you run a code cell. When you click on the code cell and run it, the phrase 'You ran the code' indicates that the code has been executed. The output you see is the direct result of what was programmed in that code cell.\")"
      ],
      "metadata": {
        "cellView": "form",
        "id": "cTgQTMDmazU9",
        "colab": {
          "base_uri": "https://localhost:8080/"
        },
        "outputId": "d701630b-51d3-40ae-c848-0737aee67ec4"
      },
      "execution_count": null,
      "outputs": [
        {
          "output_type": "stream",
          "name": "stdout",
          "text": [
            "What is your name? Mary\n",
            "******************************\n",
            "Welcome, Mary! \n",
            "\n",
            " This is how you run a code cell. When you click on the code cell and run it, the phrase 'You ran the code' indicates that the code has been executed. The output you see is the direct result of what was programmed in that code cell.\n"
          ]
        }
      ]
    },
    {
      "cell_type": "code",
      "source": [
        "# Short cut key to run a code cell: Shift + Enter"
      ],
      "metadata": {
        "id": "mQJaxjKsLvwn"
      },
      "execution_count": null,
      "outputs": []
    },
    {
      "cell_type": "markdown",
      "source": [
        "## 😶 **_How to comment on a code cell?_**\n",
        "\n",
        "- In Python, the # symbol is used to indicate a comment. A comment is a line of text in a code that is ignored by the Python interpreter and is used to provide explanations or notes for the reader of the code."
      ],
      "metadata": {
        "id": "xZv9R8I8ZWvt"
      }
    },
    {
      "cell_type": "code",
      "source": [
        "# This is a comment in Python\n",
        "# Short cut key to switch code and comment line: Ctrl + /\n",
        "\n",
        "x = 10 # this is also a comment"
      ],
      "metadata": {
        "id": "7UJmbmmTaFx9"
      },
      "execution_count": null,
      "outputs": []
    },
    {
      "cell_type": "code",
      "source": [
        "# Reading an error message is also important!\n",
        "\n",
        "y = x * 5      # x is defined previously\n",
        "k = \"Welcome!\"\n",
        "\n",
        "print(z)\n",
        "print(k*2)"
      ],
      "metadata": {
        "colab": {
          "base_uri": "https://localhost:8080/",
          "height": 193
        },
        "id": "Ivc72tB0X_TS",
        "outputId": "523d0d43-5deb-4108-c8af-ade57b92715e"
      },
      "execution_count": null,
      "outputs": [
        {
          "output_type": "error",
          "ename": "NameError",
          "evalue": "name 'z' is not defined",
          "traceback": [
            "\u001b[0;31m---------------------------------------------------------------------------\u001b[0m",
            "\u001b[0;31mNameError\u001b[0m                                 Traceback (most recent call last)",
            "\u001b[0;32m<ipython-input-6-43ede8e2eace>\u001b[0m in \u001b[0;36m<cell line: 6>\u001b[0;34m()\u001b[0m\n\u001b[1;32m      4\u001b[0m \u001b[0mk\u001b[0m \u001b[0;34m=\u001b[0m \u001b[0;34m\"Welcome!\"\u001b[0m\u001b[0;34m\u001b[0m\u001b[0;34m\u001b[0m\u001b[0m\n\u001b[1;32m      5\u001b[0m \u001b[0;34m\u001b[0m\u001b[0m\n\u001b[0;32m----> 6\u001b[0;31m \u001b[0mprint\u001b[0m\u001b[0;34m(\u001b[0m\u001b[0mz\u001b[0m\u001b[0;34m)\u001b[0m\u001b[0;34m\u001b[0m\u001b[0;34m\u001b[0m\u001b[0m\n\u001b[0m\u001b[1;32m      7\u001b[0m \u001b[0mprint\u001b[0m\u001b[0;34m(\u001b[0m\u001b[0mk\u001b[0m\u001b[0;34m*\u001b[0m\u001b[0;36m2\u001b[0m\u001b[0;34m)\u001b[0m\u001b[0;34m\u001b[0m\u001b[0;34m\u001b[0m\u001b[0m\n",
            "\u001b[0;31mNameError\u001b[0m: name 'z' is not defined"
          ]
        }
      ]
    },
    {
      "cell_type": "markdown",
      "source": [
        "### Note: built-in functions (As the class progresses, you will learn about one built-in function at a time as needed.)\n",
        "\n",
        "+ print()\n",
        "+ input()"
      ],
      "metadata": {
        "id": "Mk6_F5CVKTPF"
      }
    },
    {
      "cell_type": "code",
      "source": [
        "#@markdown More code sample: Word guessing game\n",
        "\n",
        "# Define a word and its hints\n",
        "word = \"apple\"\n",
        "hints = [\n",
        "    \"It's a type of fruit.\",\n",
        "    \"It can be red, green, or yellow.\",\n",
        "    \"It's often associated with the story of Isaac Newton.\",\n",
        "    \"This fruit's name starts with 'A'.\"\n",
        "]\n",
        "\n",
        "print(\"Welcome to the Progressive Hint Quiz!\")\n",
        "print(\"*\"*30)\n",
        "print(\"Try to guess the word. You'll receive up to 4 hints. Type 'exit' to quit.\")\n",
        "\n",
        "# User guess loop\n",
        "for hint in hints:\n",
        "    print(hint)  # Show the next hint\n",
        "    print(\"*\"*30)\n",
        "    guess = input(\"Your guess: \").strip().lower()  # Get user's guess, stripped of whitespace and converted to lowercase\n",
        "\n",
        "    if guess == \"exit\":\n",
        "        print(\"Thanks for playing! Goodbye.\")\n",
        "        break\n",
        "    elif guess == word:\n",
        "        print(\"Congratulations! You've guessed the word correctly.\")\n",
        "        break\n",
        "else:  # If the loop completes without a correct guess or exit\n",
        "    print(f\"Out of hints! The correct word was '{word}'. Better luck next time!\")\n",
        "\n"
      ],
      "metadata": {
        "cellView": "form",
        "colab": {
          "base_uri": "https://localhost:8080/"
        },
        "id": "VaCwpP7mLRrS",
        "outputId": "37f84454-9fce-4b8f-fc9e-e007077f35c9"
      },
      "execution_count": null,
      "outputs": [
        {
          "output_type": "stream",
          "name": "stdout",
          "text": [
            "Welcome to the Progressive Hint Quiz!\n",
            "******************************\n",
            "Try to guess the word. You'll receive up to 4 hints. Type 'exit' to quit.\n",
            "It's a type of fruit.\n",
            "******************************\n",
            "Your guess: banana\n",
            "It can be red, green, or yellow.\n",
            "******************************\n",
            "Your guess: grape\n",
            "It's often associated with the story of Isaac Newton.\n",
            "******************************\n",
            "Your guess: apple\n",
            "Congratulations! You've guessed the word correctly.\n"
          ]
        }
      ]
    },
    {
      "cell_type": "markdown",
      "source": [
        "# **3.2 Input vs. Output**"
      ],
      "metadata": {
        "id": "ZXbZsNpwa0-0"
      }
    },
    {
      "cell_type": "markdown",
      "source": [
        "### 🔸**Input:**\n",
        "+ Definition: Input refers to any information or data that is sent to a computer for processing. This information can come from various sources, such as a keyboard, mouse, microphone, or even an internet connection. Examples:\n",
        "\n",
        "  + Typing text on a keyboard.\n",
        "  + Clicking or moving a mouse.\n",
        "  + Speaking into a microphone.\n",
        "  + Uploading a file or entering data through a website.\n",
        "+ Importance in Coding: Understanding input is crucial because it determines how a program will respond or behave. For instance, a program might react differently to a click than it would to a keyboard press.\n",
        "\n",
        "### 🔸**Output:**\n",
        "+ Definition: Output is the result produced by a computer after processing the input. This output can be displayed in various forms like text on a screen, sound through speakers, or even a printed document. Examples:\n",
        "\n",
        "  + Displaying text or images on a screen.\n",
        "  + Playing sound or music through speakers or headphones.\n",
        "  + Sending a document to a printer.\n",
        "  + Saving a file or sending data over the internet.\n",
        "+ Importance in Coding: Output is the way a program communicates the results of its computations or actions. It can be as simple as displaying a message like \"Hello World!\" or as complex as rendering a detailed graphical report."
      ],
      "metadata": {
        "id": "t8MOM-nDeXq9"
      }
    },
    {
      "cell_type": "markdown",
      "source": [
        "### 💦 **Multi-modality**\n",
        "\n",
        "|Input ➡️ |Codes| ➡️ Output|\n",
        "|--|--|--|\n",
        "|Text|  | Text|\n",
        "|Audio||Audio|\n",
        "|Image||Image|\n",
        "|Video||Vidio|\n",
        "\n",
        "[Multi-modality samples](https://github.com/MK316/Spring2024/blob/main/Multimodality.ipynb)"
      ],
      "metadata": {
        "id": "YcnboBYksXqf"
      }
    },
    {
      "cell_type": "markdown",
      "source": [
        "# **3.3 Variables**"
      ],
      "metadata": {
        "id": "93gQaEo1RX63"
      }
    },
    {
      "cell_type": "markdown",
      "source": [
        "+ **A variable** is a named storage location that holds a value. (e.g., x = 3 \"The value '3' is assigned to a variable 'x')\n",
        "+ Variables can be used **to store values** such as numbers, strings, lists, or other data types.\n",
        "+ The value of a variable can change throughout the execution of a program.\n",
        "+ To declare a variable in Python, you need to **assign a value** to it using the 📌 **equal (=) sign.**\n",
        "+ Rules to create a variable name [click here](https://github.com/MK316/Coding4ET/blob/main/Lessons/Lesson03.md#Variables)"
      ],
      "metadata": {
        "id": "jJT4hD1teuJr"
      }
    },
    {
      "cell_type": "code",
      "source": [
        "x = 10                # Assign the value '10' to the variable 'x'\n",
        "y = \"Hello, class!\"   # Assign the text 'Hello, class!' to the variable 'y'"
      ],
      "metadata": {
        "id": "Xes87bY2X45M"
      },
      "execution_count": 3,
      "outputs": []
    },
    {
      "cell_type": "markdown",
      "source": [
        "↗️ In the above example, 'x' is assigned the value of 10 (integer), 'y' is assigned the value of \"Hello, World!\" (text)."
      ],
      "metadata": {
        "id": "ulw6QsP5ZiKp"
      }
    },
    {
      "cell_type": "code",
      "source": [
        "x = x - 5\n",
        "\n",
        "print(x)\n",
        "print(y)"
      ],
      "metadata": {
        "colab": {
          "base_uri": "https://localhost:8080/"
        },
        "id": "d0PaIhYqB0Qf",
        "outputId": "92b63a9b-3aaf-4ca8-aa51-a5b2fc46c75e"
      },
      "execution_count": 4,
      "outputs": [
        {
          "output_type": "stream",
          "name": "stdout",
          "text": [
            "5\n",
            "Hello, class!\n"
          ]
        }
      ]
    },
    {
      "cell_type": "code",
      "source": [
        "k = [1, 2, \"Hello\"] # multiple items (e.g., list)\n",
        "k[0] # [0] is how to access to the data using index"
      ],
      "metadata": {
        "colab": {
          "base_uri": "https://localhost:8080/"
        },
        "id": "1G9xsbMfvQ6V",
        "outputId": "46c4be01-164b-40dd-deff-ae067c6f8b72"
      },
      "execution_count": 6,
      "outputs": [
        {
          "output_type": "execute_result",
          "data": {
            "text/plain": [
              "1"
            ]
          },
          "metadata": {},
          "execution_count": 6
        }
      ]
    },
    {
      "cell_type": "markdown",
      "source": [
        "### Notes on Python index:\n",
        "\n",
        "Python Index: Indexing in Python is a way to access individual items.\n",
        "\n",
        "e.g., k = [1, 2, 3]\n",
        "\n",
        "Q1. How to access to the first item of k?\n",
        "\n",
        "> k[0]\n",
        "\n",
        "Q2. What is the index of the value 3 in k?\n",
        "> 2\n",
        "\n",
        " 📌 Important: **Python index begins with '0'.** Python uses zero-based indexing. This means the first element is accessed with index 0, the second with 1, and so on."
      ],
      "metadata": {
        "id": "JKyUbhADHHbD"
      }
    },
    {
      "cell_type": "markdown",
      "source": [
        "### Instruction\n",
        "\n",
        "1. Follow the link and save it as csv file on your local drive.\n",
        "[sample file: csv file](https://github.com/MK316/Spring2023/blob/main/data/att_sample.csv)\n",
        "\n",
        "2. Upload the file on colab (left panel)\n",
        "3. Let's read the csv file on colab."
      ],
      "metadata": {
        "id": "3n2wMVFXQj5y"
      }
    },
    {
      "cell_type": "code",
      "source": [
        "# Reading a csv file on colab\n",
        "\n"
      ],
      "metadata": {
        "id": "3UdoAHKBwwv_"
      },
      "execution_count": null,
      "outputs": []
    },
    {
      "cell_type": "code",
      "source": [
        "# We can assign a link or a function\n",
        "import pandas as pd\n",
        "url = \"https://github.com/MK316/Spring2023/raw/main/data/att_sample.csv\"\n",
        "data = pd.read_csv(url)\n",
        "data"
      ],
      "metadata": {
        "id": "_7bvpJt2aQmg",
        "colab": {
          "base_uri": "https://localhost:8080/",
          "height": 489
        },
        "outputId": "baed297f-bc07-478f-a696-01a931d5b26a"
      },
      "execution_count": null,
      "outputs": [
        {
          "output_type": "execute_result",
          "data": {
            "text/plain": [
              "      Names\n",
              "0      Mary\n",
              "1      John\n",
              "2       Tim\n",
              "3       Bob\n",
              "4     Sarah\n",
              "5      Kate\n",
              "6     Marie\n",
              "7   Johnson\n",
              "8      Mike\n",
              "9     Harry\n",
              "10      Jin\n",
              "11      Sam\n",
              "12     Paul\n",
              "13  Natalie"
            ],
            "text/html": [
              "\n",
              "  <div id=\"df-37f9ed00-2c01-473e-b342-fe5e3d67e313\" class=\"colab-df-container\">\n",
              "    <div>\n",
              "<style scoped>\n",
              "    .dataframe tbody tr th:only-of-type {\n",
              "        vertical-align: middle;\n",
              "    }\n",
              "\n",
              "    .dataframe tbody tr th {\n",
              "        vertical-align: top;\n",
              "    }\n",
              "\n",
              "    .dataframe thead th {\n",
              "        text-align: right;\n",
              "    }\n",
              "</style>\n",
              "<table border=\"1\" class=\"dataframe\">\n",
              "  <thead>\n",
              "    <tr style=\"text-align: right;\">\n",
              "      <th></th>\n",
              "      <th>Names</th>\n",
              "    </tr>\n",
              "  </thead>\n",
              "  <tbody>\n",
              "    <tr>\n",
              "      <th>0</th>\n",
              "      <td>Mary</td>\n",
              "    </tr>\n",
              "    <tr>\n",
              "      <th>1</th>\n",
              "      <td>John</td>\n",
              "    </tr>\n",
              "    <tr>\n",
              "      <th>2</th>\n",
              "      <td>Tim</td>\n",
              "    </tr>\n",
              "    <tr>\n",
              "      <th>3</th>\n",
              "      <td>Bob</td>\n",
              "    </tr>\n",
              "    <tr>\n",
              "      <th>4</th>\n",
              "      <td>Sarah</td>\n",
              "    </tr>\n",
              "    <tr>\n",
              "      <th>5</th>\n",
              "      <td>Kate</td>\n",
              "    </tr>\n",
              "    <tr>\n",
              "      <th>6</th>\n",
              "      <td>Marie</td>\n",
              "    </tr>\n",
              "    <tr>\n",
              "      <th>7</th>\n",
              "      <td>Johnson</td>\n",
              "    </tr>\n",
              "    <tr>\n",
              "      <th>8</th>\n",
              "      <td>Mike</td>\n",
              "    </tr>\n",
              "    <tr>\n",
              "      <th>9</th>\n",
              "      <td>Harry</td>\n",
              "    </tr>\n",
              "    <tr>\n",
              "      <th>10</th>\n",
              "      <td>Jin</td>\n",
              "    </tr>\n",
              "    <tr>\n",
              "      <th>11</th>\n",
              "      <td>Sam</td>\n",
              "    </tr>\n",
              "    <tr>\n",
              "      <th>12</th>\n",
              "      <td>Paul</td>\n",
              "    </tr>\n",
              "    <tr>\n",
              "      <th>13</th>\n",
              "      <td>Natalie</td>\n",
              "    </tr>\n",
              "  </tbody>\n",
              "</table>\n",
              "</div>\n",
              "    <div class=\"colab-df-buttons\">\n",
              "\n",
              "  <div class=\"colab-df-container\">\n",
              "    <button class=\"colab-df-convert\" onclick=\"convertToInteractive('df-37f9ed00-2c01-473e-b342-fe5e3d67e313')\"\n",
              "            title=\"Convert this dataframe to an interactive table.\"\n",
              "            style=\"display:none;\">\n",
              "\n",
              "  <svg xmlns=\"http://www.w3.org/2000/svg\" height=\"24px\" viewBox=\"0 -960 960 960\">\n",
              "    <path d=\"M120-120v-720h720v720H120Zm60-500h600v-160H180v160Zm220 220h160v-160H400v160Zm0 220h160v-160H400v160ZM180-400h160v-160H180v160Zm440 0h160v-160H620v160ZM180-180h160v-160H180v160Zm440 0h160v-160H620v160Z\"/>\n",
              "  </svg>\n",
              "    </button>\n",
              "\n",
              "  <style>\n",
              "    .colab-df-container {\n",
              "      display:flex;\n",
              "      gap: 12px;\n",
              "    }\n",
              "\n",
              "    .colab-df-convert {\n",
              "      background-color: #E8F0FE;\n",
              "      border: none;\n",
              "      border-radius: 50%;\n",
              "      cursor: pointer;\n",
              "      display: none;\n",
              "      fill: #1967D2;\n",
              "      height: 32px;\n",
              "      padding: 0 0 0 0;\n",
              "      width: 32px;\n",
              "    }\n",
              "\n",
              "    .colab-df-convert:hover {\n",
              "      background-color: #E2EBFA;\n",
              "      box-shadow: 0px 1px 2px rgba(60, 64, 67, 0.3), 0px 1px 3px 1px rgba(60, 64, 67, 0.15);\n",
              "      fill: #174EA6;\n",
              "    }\n",
              "\n",
              "    .colab-df-buttons div {\n",
              "      margin-bottom: 4px;\n",
              "    }\n",
              "\n",
              "    [theme=dark] .colab-df-convert {\n",
              "      background-color: #3B4455;\n",
              "      fill: #D2E3FC;\n",
              "    }\n",
              "\n",
              "    [theme=dark] .colab-df-convert:hover {\n",
              "      background-color: #434B5C;\n",
              "      box-shadow: 0px 1px 3px 1px rgba(0, 0, 0, 0.15);\n",
              "      filter: drop-shadow(0px 1px 2px rgba(0, 0, 0, 0.3));\n",
              "      fill: #FFFFFF;\n",
              "    }\n",
              "  </style>\n",
              "\n",
              "    <script>\n",
              "      const buttonEl =\n",
              "        document.querySelector('#df-37f9ed00-2c01-473e-b342-fe5e3d67e313 button.colab-df-convert');\n",
              "      buttonEl.style.display =\n",
              "        google.colab.kernel.accessAllowed ? 'block' : 'none';\n",
              "\n",
              "      async function convertToInteractive(key) {\n",
              "        const element = document.querySelector('#df-37f9ed00-2c01-473e-b342-fe5e3d67e313');\n",
              "        const dataTable =\n",
              "          await google.colab.kernel.invokeFunction('convertToInteractive',\n",
              "                                                    [key], {});\n",
              "        if (!dataTable) return;\n",
              "\n",
              "        const docLinkHtml = 'Like what you see? Visit the ' +\n",
              "          '<a target=\"_blank\" href=https://colab.research.google.com/notebooks/data_table.ipynb>data table notebook</a>'\n",
              "          + ' to learn more about interactive tables.';\n",
              "        element.innerHTML = '';\n",
              "        dataTable['output_type'] = 'display_data';\n",
              "        await google.colab.output.renderOutput(dataTable, element);\n",
              "        const docLink = document.createElement('div');\n",
              "        docLink.innerHTML = docLinkHtml;\n",
              "        element.appendChild(docLink);\n",
              "      }\n",
              "    </script>\n",
              "  </div>\n",
              "\n",
              "\n",
              "<div id=\"df-6c96a0b7-2584-4ebe-90b5-193dfbdb6167\">\n",
              "  <button class=\"colab-df-quickchart\" onclick=\"quickchart('df-6c96a0b7-2584-4ebe-90b5-193dfbdb6167')\"\n",
              "            title=\"Suggest charts\"\n",
              "            style=\"display:none;\">\n",
              "\n",
              "<svg xmlns=\"http://www.w3.org/2000/svg\" height=\"24px\"viewBox=\"0 0 24 24\"\n",
              "     width=\"24px\">\n",
              "    <g>\n",
              "        <path d=\"M19 3H5c-1.1 0-2 .9-2 2v14c0 1.1.9 2 2 2h14c1.1 0 2-.9 2-2V5c0-1.1-.9-2-2-2zM9 17H7v-7h2v7zm4 0h-2V7h2v10zm4 0h-2v-4h2v4z\"/>\n",
              "    </g>\n",
              "</svg>\n",
              "  </button>\n",
              "\n",
              "<style>\n",
              "  .colab-df-quickchart {\n",
              "      --bg-color: #E8F0FE;\n",
              "      --fill-color: #1967D2;\n",
              "      --hover-bg-color: #E2EBFA;\n",
              "      --hover-fill-color: #174EA6;\n",
              "      --disabled-fill-color: #AAA;\n",
              "      --disabled-bg-color: #DDD;\n",
              "  }\n",
              "\n",
              "  [theme=dark] .colab-df-quickchart {\n",
              "      --bg-color: #3B4455;\n",
              "      --fill-color: #D2E3FC;\n",
              "      --hover-bg-color: #434B5C;\n",
              "      --hover-fill-color: #FFFFFF;\n",
              "      --disabled-bg-color: #3B4455;\n",
              "      --disabled-fill-color: #666;\n",
              "  }\n",
              "\n",
              "  .colab-df-quickchart {\n",
              "    background-color: var(--bg-color);\n",
              "    border: none;\n",
              "    border-radius: 50%;\n",
              "    cursor: pointer;\n",
              "    display: none;\n",
              "    fill: var(--fill-color);\n",
              "    height: 32px;\n",
              "    padding: 0;\n",
              "    width: 32px;\n",
              "  }\n",
              "\n",
              "  .colab-df-quickchart:hover {\n",
              "    background-color: var(--hover-bg-color);\n",
              "    box-shadow: 0 1px 2px rgba(60, 64, 67, 0.3), 0 1px 3px 1px rgba(60, 64, 67, 0.15);\n",
              "    fill: var(--button-hover-fill-color);\n",
              "  }\n",
              "\n",
              "  .colab-df-quickchart-complete:disabled,\n",
              "  .colab-df-quickchart-complete:disabled:hover {\n",
              "    background-color: var(--disabled-bg-color);\n",
              "    fill: var(--disabled-fill-color);\n",
              "    box-shadow: none;\n",
              "  }\n",
              "\n",
              "  .colab-df-spinner {\n",
              "    border: 2px solid var(--fill-color);\n",
              "    border-color: transparent;\n",
              "    border-bottom-color: var(--fill-color);\n",
              "    animation:\n",
              "      spin 1s steps(1) infinite;\n",
              "  }\n",
              "\n",
              "  @keyframes spin {\n",
              "    0% {\n",
              "      border-color: transparent;\n",
              "      border-bottom-color: var(--fill-color);\n",
              "      border-left-color: var(--fill-color);\n",
              "    }\n",
              "    20% {\n",
              "      border-color: transparent;\n",
              "      border-left-color: var(--fill-color);\n",
              "      border-top-color: var(--fill-color);\n",
              "    }\n",
              "    30% {\n",
              "      border-color: transparent;\n",
              "      border-left-color: var(--fill-color);\n",
              "      border-top-color: var(--fill-color);\n",
              "      border-right-color: var(--fill-color);\n",
              "    }\n",
              "    40% {\n",
              "      border-color: transparent;\n",
              "      border-right-color: var(--fill-color);\n",
              "      border-top-color: var(--fill-color);\n",
              "    }\n",
              "    60% {\n",
              "      border-color: transparent;\n",
              "      border-right-color: var(--fill-color);\n",
              "    }\n",
              "    80% {\n",
              "      border-color: transparent;\n",
              "      border-right-color: var(--fill-color);\n",
              "      border-bottom-color: var(--fill-color);\n",
              "    }\n",
              "    90% {\n",
              "      border-color: transparent;\n",
              "      border-bottom-color: var(--fill-color);\n",
              "    }\n",
              "  }\n",
              "</style>\n",
              "\n",
              "  <script>\n",
              "    async function quickchart(key) {\n",
              "      const quickchartButtonEl =\n",
              "        document.querySelector('#' + key + ' button');\n",
              "      quickchartButtonEl.disabled = true;  // To prevent multiple clicks.\n",
              "      quickchartButtonEl.classList.add('colab-df-spinner');\n",
              "      try {\n",
              "        const charts = await google.colab.kernel.invokeFunction(\n",
              "            'suggestCharts', [key], {});\n",
              "      } catch (error) {\n",
              "        console.error('Error during call to suggestCharts:', error);\n",
              "      }\n",
              "      quickchartButtonEl.classList.remove('colab-df-spinner');\n",
              "      quickchartButtonEl.classList.add('colab-df-quickchart-complete');\n",
              "    }\n",
              "    (() => {\n",
              "      let quickchartButtonEl =\n",
              "        document.querySelector('#df-6c96a0b7-2584-4ebe-90b5-193dfbdb6167 button');\n",
              "      quickchartButtonEl.style.display =\n",
              "        google.colab.kernel.accessAllowed ? 'block' : 'none';\n",
              "    })();\n",
              "  </script>\n",
              "</div>\n",
              "\n",
              "  <div id=\"id_60c46abc-99c4-4676-aa27-c36af345d814\">\n",
              "    <style>\n",
              "      .colab-df-generate {\n",
              "        background-color: #E8F0FE;\n",
              "        border: none;\n",
              "        border-radius: 50%;\n",
              "        cursor: pointer;\n",
              "        display: none;\n",
              "        fill: #1967D2;\n",
              "        height: 32px;\n",
              "        padding: 0 0 0 0;\n",
              "        width: 32px;\n",
              "      }\n",
              "\n",
              "      .colab-df-generate:hover {\n",
              "        background-color: #E2EBFA;\n",
              "        box-shadow: 0px 1px 2px rgba(60, 64, 67, 0.3), 0px 1px 3px 1px rgba(60, 64, 67, 0.15);\n",
              "        fill: #174EA6;\n",
              "      }\n",
              "\n",
              "      [theme=dark] .colab-df-generate {\n",
              "        background-color: #3B4455;\n",
              "        fill: #D2E3FC;\n",
              "      }\n",
              "\n",
              "      [theme=dark] .colab-df-generate:hover {\n",
              "        background-color: #434B5C;\n",
              "        box-shadow: 0px 1px 3px 1px rgba(0, 0, 0, 0.15);\n",
              "        filter: drop-shadow(0px 1px 2px rgba(0, 0, 0, 0.3));\n",
              "        fill: #FFFFFF;\n",
              "      }\n",
              "    </style>\n",
              "    <button class=\"colab-df-generate\" onclick=\"generateWithVariable('data')\"\n",
              "            title=\"Generate code using this dataframe.\"\n",
              "            style=\"display:none;\">\n",
              "\n",
              "  <svg xmlns=\"http://www.w3.org/2000/svg\" height=\"24px\"viewBox=\"0 0 24 24\"\n",
              "       width=\"24px\">\n",
              "    <path d=\"M7,19H8.4L18.45,9,17,7.55,7,17.6ZM5,21V16.75L18.45,3.32a2,2,0,0,1,2.83,0l1.4,1.43a1.91,1.91,0,0,1,.58,1.4,1.91,1.91,0,0,1-.58,1.4L9.25,21ZM18.45,9,17,7.55Zm-12,3A5.31,5.31,0,0,0,4.9,8.1,5.31,5.31,0,0,0,1,6.5,5.31,5.31,0,0,0,4.9,4.9,5.31,5.31,0,0,0,6.5,1,5.31,5.31,0,0,0,8.1,4.9,5.31,5.31,0,0,0,12,6.5,5.46,5.46,0,0,0,6.5,12Z\"/>\n",
              "  </svg>\n",
              "    </button>\n",
              "    <script>\n",
              "      (() => {\n",
              "      const buttonEl =\n",
              "        document.querySelector('#id_60c46abc-99c4-4676-aa27-c36af345d814 button.colab-df-generate');\n",
              "      buttonEl.style.display =\n",
              "        google.colab.kernel.accessAllowed ? 'block' : 'none';\n",
              "\n",
              "      buttonEl.onclick = () => {\n",
              "        google.colab.notebook.generateWithVariable('data');\n",
              "      }\n",
              "      })();\n",
              "    </script>\n",
              "  </div>\n",
              "\n",
              "    </div>\n",
              "  </div>\n"
            ],
            "application/vnd.google.colaboratory.intrinsic+json": {
              "type": "dataframe",
              "variable_name": "data",
              "summary": "{\n  \"name\": \"data\",\n  \"rows\": 14,\n  \"fields\": [\n    {\n      \"column\": \"Names\",\n      \"properties\": {\n        \"dtype\": \"string\",\n        \"num_unique_values\": 14,\n        \"samples\": [\n          \"Harry\",\n          \"Sam\",\n          \"Mary\"\n        ],\n        \"semantic_type\": \"\",\n        \"description\": \"\"\n      }\n    }\n  ]\n}"
            }
          },
          "metadata": {},
          "execution_count": 12
        }
      ]
    },
    {
      "cell_type": "code",
      "source": [
        "data[6] # What is the output?"
      ],
      "metadata": {
        "id": "PqVWK-gSILzM"
      },
      "execution_count": null,
      "outputs": []
    },
    {
      "cell_type": "markdown",
      "source": [
        "# **3.4 Operators**\n",
        "\n",
        "* Symbols that perform operations on values and variables.\n",
        "* They are used to perform arithmetic and logical operations, and they can also be used to manipulate and compare values.\n",
        "* Arithmetic Operators:\n",
        "  + [addition] +\n",
        "  + [subtraction] -\n",
        "  + [multiplication] *\n",
        "  + [Division] /\n",
        "  + [Exponentiation] **"
      ],
      "metadata": {
        "id": "5JgA2T2dRft5"
      }
    },
    {
      "cell_type": "markdown",
      "source": [
        "Example)"
      ],
      "metadata": {
        "id": "NJBgu_O4bczL"
      }
    },
    {
      "cell_type": "code",
      "source": [
        "x = 2; y = 5\n",
        "\n",
        "a1 = x + y\n",
        "a2 = x - y\n",
        "a3 = x * y\n",
        "a4 = x / y\n",
        "a5 = x ** y"
      ],
      "metadata": {
        "id": "dXT3pIzobUHU"
      },
      "execution_count": null,
      "outputs": []
    },
    {
      "cell_type": "markdown",
      "source": [
        "print(variable) or print(\"text\")"
      ],
      "metadata": {
        "id": "T02W7cGdecwZ"
      }
    },
    {
      "cell_type": "code",
      "source": [
        "print(a1, a2, a3, a4, a5)\n",
        "print(\"The answer of a1, a2, a3, a4, a5:\", a1, a2, a3, a4, a5)"
      ],
      "metadata": {
        "id": "_m3JBsOKd6Uv"
      },
      "execution_count": null,
      "outputs": []
    },
    {
      "cell_type": "markdown",
      "source": [
        "# 🔢 Calculator\n",
        "\n",
        "+ [Online app](https://mrkim21.github.io/calculator.html)"
      ],
      "metadata": {
        "id": "Cx1NyWUAybc8"
      }
    },
    {
      "cell_type": "code",
      "source": [
        "# This function adds two numbers\n",
        "def add(x, y):\n",
        "    return x + y\n",
        "\n",
        "# This function subtracts two numbers\n",
        "def subtract(x, y):\n",
        "    return x - y\n",
        "\n",
        "# This function multiplies two numbers\n",
        "def multiply(x, y):\n",
        "    return x * y\n",
        "\n",
        "# This function divides two numbers\n",
        "def divide(x, y):\n",
        "    return x / y\n",
        "\n",
        "func = \"subtract\" #@param = [\"add\",\"subtract\",\"multiply\",\"divide\"]\n",
        "digits = input(\"Type two numbers: (e.g., 3,4)\")\n",
        "digitsplit = digits.split(',')\n",
        "d1 = int(digitsplit[0])\n",
        "d2 = int(digitsplit[1])\n",
        "\n",
        "if func == \"add\":\n",
        "  result = add(d1,d2)\n",
        "  text = \"The addition of %d and %d equals %d\"%(d1,d2,result)\n",
        "elif func == \"subtract\":\n",
        "  result = subtract(d1,d2)\n",
        "  text = \"If you subtract %d from %d, you get %d\"%(d2,d1,result)\n",
        "elif func == \"divide\":\n",
        "  result = divide(d1,d2)\n",
        "  text = \"When you divide %d by %d, you get %d\"%(d1,d2,result)\n",
        "elif func == \"multiply\":\n",
        "  result = multiply(d1,d2)\n",
        "  text = \"%d multiplied by %d is %d\"%(d1,d2,result)\n",
        "\n",
        "print(text)\n",
        "\n"
      ],
      "metadata": {
        "cellView": "form",
        "id": "Dod3_zgYdsWe",
        "colab": {
          "base_uri": "https://localhost:8080/"
        },
        "outputId": "f4fbd96b-3ed7-4648-c82f-cc1f83b8fe47"
      },
      "execution_count": null,
      "outputs": [
        {
          "output_type": "stream",
          "name": "stdout",
          "text": [
            "Type two numbers: (e.g., 3,4)3,4\n",
            "If you subtract 4 from 3, you get -1\n"
          ]
        }
      ]
    },
    {
      "cell_type": "code",
      "source": [
        "#@markdown Calculator app\n",
        "import ipywidgets as widgets\n",
        "from IPython.display import display\n",
        "\n",
        "# Create the output widget to display the results\n",
        "output = widgets.Output()\n",
        "\n",
        "# Create the text widget for displaying the expression\n",
        "expression = widgets.Text(value='', placeholder='Type something', description='Calculation:', disabled=False)\n",
        "\n",
        "def on_button_clicked(b):\n",
        "    with output:\n",
        "        output.clear_output()\n",
        "        if b.description == \"=\":\n",
        "            # Replace the Unicode operators with Python operators\n",
        "            current_expression = expression.value.replace('×', '*').replace('÷', '/')\n",
        "            # Evaluate the expression and handle errors\n",
        "            try:\n",
        "                expression.value = str(eval(current_expression))\n",
        "            except Exception as e:\n",
        "                expression.value = 'Error'\n",
        "        elif b.description == \"Clear\":  # Changed from \"C\" to \"Clear\"\n",
        "            # Clear the expression\n",
        "            expression.value = ''\n",
        "        else:\n",
        "            # Append the button description (number or operator) to the expression\n",
        "            expression.value += b.description\n",
        "\n",
        "\n",
        "# Create buttons using a loop and store them in a list\n",
        "buttons = []\n",
        "button_layout = widgets.Layout(width='75px', height='75px', margin='5px')  # Increased width and height, added margin\n",
        "button_style = {'button_color': 'orange'}  # Set the button color to orange\n",
        "\n",
        "operators = [['7', '8', '9', '÷'],\n",
        "             ['4', '5', '6', '×'],\n",
        "             ['1', '2', '3', '-'],\n",
        "             ['0', '.', '=', '+'],\n",
        "             ['Clear']]  # 'C' button for clearing the input\n",
        "\n",
        "for row in operators:\n",
        "    row_buttons = []\n",
        "    for button_label in row:\n",
        "        button = widgets.Button(description=button_label, layout=button_layout, style=button_style)\n",
        "        button.on_click(on_button_clicked)\n",
        "        row_buttons.append(button)\n",
        "    buttons.append(widgets.HBox(row_buttons))\n",
        "\n",
        "# Display all the widgets\n",
        "all_buttons = widgets.VBox([expression] + buttons)\n",
        "display(output, all_buttons)\n",
        "\n",
        "\n",
        "# Add a clear button\n",
        "clear_button = widgets.Button(description=\"C\", layout=button_layout)\n",
        "clear_button.on_click(on_button_clicked)\n",
        "buttons.append(widgets.HBox([clear_button]))\n",
        "\n",
        "# # Display all the widgets\n",
        "# all_buttons = widgets.VBox([expression] + buttons)\n",
        "# display(output, all_buttons)"
      ],
      "metadata": {
        "cellView": "form",
        "colab": {
          "base_uri": "https://localhost:8080/",
          "height": 475,
          "referenced_widgets": [
            "e4b16f9ffe5e4b03bea360c2c674c6c8",
            "75f8f3fe61324ee3978ad1e03bf22681",
            "55e3b7e66bf14747b88a452ed2907dcf",
            "8950578c78ea41a2b79d90558fac7285",
            "7a6ad9632b8744e1a6fddbc60d39c83f",
            "dafc05d0acc14ba181bda768cb22c062",
            "15400dfece0d4100948fc399fc8422e4",
            "246a5c511fc94e3587f6f687cc73160d",
            "5acc7e51cd7d47dd87ca9af6a8c8f267",
            "220e5840d26140a4a5bbb6a2e4cf2b68",
            "cb896d5b51354a60b63ba97e5ac3bbdf",
            "d929de9683944634af636ccc8316e8ef",
            "52e47498f55c4bf3bdc1c0a8e6d0229c",
            "942933118a5c488c81b82e3c202c8323",
            "26388ef5cc724d3da0ce41b09b9abc37",
            "22918fbbda0947d1b1ecdadf62e768b5",
            "3b76dc3b2369439f9293213ddf2bb82e",
            "e115f5d75ca8432fbca23a932613e187",
            "7d133544cdc74bcfb36f6108ab9714fd",
            "45ac5d89d6284d50a54c1b07400aa813",
            "ac3933e4af8743ccb18713997d3e8752",
            "48128f87fc7f44d59b19e9f59b9eef65",
            "07357325fe2f419592d60bb2f9996846",
            "2ae19fee4ce842fda437eb6bdf7ae145",
            "781435bdac5146b6b9847151d61e9b2a",
            "1e0e46bba0b5449c831bc99c90495e1b",
            "67726c8c31fc4ca1a5070de7c6d4a1ff",
            "d09f5f02a6f4410a85af6eabe2fc8ebf",
            "419ecd0d346e46cea600f5ed108adf2b",
            "54ce17347f6c457d883968b6e89babf6",
            "02efab635f104c87b885f32484d0efed",
            "9efab56fc4184c93b24e55841eaa092f",
            "1ec6923596c246a79b93f49f2fa796d0",
            "5763e14faff340d1ade97203bef2c1e0",
            "021c78dbce734688bd92bb738094d19c",
            "fe844796a1834ff5b3dcf317a4d5c21a",
            "ec0d86623bea474f9fad7e829f842253",
            "c8bcda07e5eb4ea2a77050608799eb36",
            "6a4381106a954277b14f8c98f89b662c",
            "acd3b66f300f44818dc3b347d82f76c9",
            "b8ff9634a47e488bb0aa83592d76ac90",
            "ed0395ae98a54ad9a735324fd36869cd",
            "a6e25ea25a1d4c83b169be46cc51934e",
            "8deb328d31544d56b237eaf833ff49ff",
            "8aa5fab4e5eb4f4eb9f976c5bf57897a",
            "7702e99d9c5b43e3b562fdbe3d8ae0f7",
            "514406c02f794410802f216895a013e8",
            "68ff3293bd6342c08b0bfa504e99cf17",
            "749afdd22cdf4bd2b5f3ccb392f618b2",
            "042f47c078c14272b377378555c2d9c5",
            "233ddc3c71ef49c4aa7e4930f9f0aedc",
            "41e7bda5a8284f2481f6c339564681f9"
          ]
        },
        "id": "bCBS-TdWTtxZ",
        "outputId": "b3aa42b6-579a-4475-e46b-9595e96fe03b"
      },
      "execution_count": null,
      "outputs": [
        {
          "output_type": "display_data",
          "data": {
            "text/plain": [
              "Output()"
            ],
            "application/vnd.jupyter.widget-view+json": {
              "version_major": 2,
              "version_minor": 0,
              "model_id": "e4b16f9ffe5e4b03bea360c2c674c6c8"
            }
          },
          "metadata": {}
        },
        {
          "output_type": "display_data",
          "data": {
            "text/plain": [
              "VBox(children=(Text(value='', description='Calculation:', placeholder='Type something'), HBox(children=(Button…"
            ],
            "application/vnd.jupyter.widget-view+json": {
              "version_major": 2,
              "version_minor": 0,
              "model_id": "55e3b7e66bf14747b88a452ed2907dcf"
            }
          },
          "metadata": {}
        }
      ]
    },
    {
      "cell_type": "markdown",
      "source": [
        "More operators (for later): <br>\n",
        "* Comparison Operators: ==, !=, <, >, <=, >= <br>\n",
        "* Assignment Operators: =, +=, -=, *=, /=, %= <br>\n",
        "* Logical Operators: and, or, not <br>\n",
        "* Identity Operators: is, is not <br>\n",
        "* Membership Operators: in, not in"
      ],
      "metadata": {
        "id": "sfubu24UbqjH"
      }
    },
    {
      "cell_type": "markdown",
      "source": [
        "# **3.5 Functions**\n",
        "\n",
        "## Creating a Function in Python\n",
        "\n",
        "In Python, a function is defined using the `def` keyword, followed by a function name, a set of parentheses `()`, and a colon `:`. The indented block of code following the `:` is executed whenever the function is called.\n",
        "\n",
        "### Example:\n",
        "\n",
        "Here's a simple function that takes two numbers and returns their sum:\n",
        "\n",
        "```python\n",
        "def add_numbers(num1, num2):\n",
        "    result = num1 + num2\n",
        "    return result\n"
      ],
      "metadata": {
        "id": "MoUYg0HeW6oF"
      }
    },
    {
      "cell_type": "code",
      "source": [
        "#@markdown Define yesno(sentence) function to make a statement to a yesno question.\n",
        "def yesno(sentence):\n",
        "    # Remove the period if it's at the end of the sentence\n",
        "    sentence = sentence.rstrip('.')\n",
        "\n",
        "    # Split the sentence into words\n",
        "    words = sentence.split()\n",
        "    # Define a list of 'be' verbs\n",
        "    be_verbs = ['is', 'are', 'am', 'was', 'were']\n",
        "\n",
        "    # Find the position of the 'be' verb\n",
        "    for i, word in enumerate(words):\n",
        "        if word in be_verbs and i != 0:  # Ensure the 'be' verb is not the first word\n",
        "            # Invert the subject and the 'be' verb\n",
        "            # Assuming the subject is the first word\n",
        "            subject = words[0].lower()  # Convert subject to lowercase\n",
        "            verb = words[i]\n",
        "            # Reconstruct the sentence as a yes-no question\n",
        "            remaining = words[1:i] + words[i+1:]\n",
        "            question = f\"{verb.capitalize()} {subject} \" + \" \".join(remaining).strip() + \"?\"\n",
        "            return question\n",
        "\n",
        "    # If no 'be' verb is found, or it's the first word, return the original sentence\n",
        "    return \"Not a simple 'be' verb sentence, already a question, or 'be' verb is the first word.\"\n",
        "\n",
        "# Example usage\n",
        "\n",
        "yoursentence = input(\"Type a simple sentence including be verb.\")\n",
        "yesno(yoursentence)\n"
      ],
      "metadata": {
        "cellView": "form",
        "id": "aeT6u0h7XbXW",
        "outputId": "8f45e1a5-4f85-43f4-8207-5efb6e4654d0",
        "colab": {
          "base_uri": "https://localhost:8080/",
          "height": 53
        }
      },
      "execution_count": null,
      "outputs": [
        {
          "name": "stdout",
          "output_type": "stream",
          "text": [
            "Type a simple sentence including be verb.He is happy.\n"
          ]
        },
        {
          "output_type": "execute_result",
          "data": {
            "text/plain": [
              "'Is he happy?'"
            ],
            "application/vnd.google.colaboratory.intrinsic+json": {
              "type": "string"
            }
          },
          "metadata": {},
          "execution_count": 6
        }
      ]
    },
    {
      "cell_type": "markdown",
      "source": [
        "💜 **Understanding Error message**"
      ],
      "metadata": {
        "id": "HBmc1OntiM7U"
      }
    },
    {
      "cell_type": "markdown",
      "source": [],
      "metadata": {
        "id": "p2SCk0SpiMr2"
      }
    },
    {
      "cell_type": "code",
      "source": [
        "# Install gradio library using !pip install"
      ],
      "metadata": {
        "id": "GTYk9znFgQaH"
      },
      "execution_count": null,
      "outputs": []
    },
    {
      "cell_type": "code",
      "source": [
        "import gradio as gr\n",
        "\n",
        "# Define function yesno()\n",
        "\n",
        "def yesno(sentence):\n",
        "    sentence = sentence.rstrip('.')\n",
        "    words = sentence.split()\n",
        "    be_verbs = ['is', 'are', 'am', 'was', 'were']\n",
        "\n",
        "    for i, word in enumerate(words):\n",
        "        if word in be_verbs and i != 0:\n",
        "            subject = words[0].lower()\n",
        "            verb = words[i]\n",
        "            remaining = words[1:i] + words[i+1:]\n",
        "            question = f\"{verb.capitalize()} {subject} \" + \" \".join(remaining).strip() + \"?\"\n",
        "            return question\n",
        "\n",
        "    return \"Not a simple 'be' verb sentence, already a question, or 'be' verb is the first word.\"\n",
        "\n",
        "# Gradio interface\n",
        "\n",
        "iface = gr.Interface(\n",
        "    fn=yesno,\n",
        "    inputs=gr.Textbox(lines=2, placeholder=\"Enter a sentence\"),\n",
        "    outputs=\"text\",\n",
        "    title=\"Yes-No Question Converter (with be-verb only)\",\n",
        "    description=\"Enter a sentence and this app will convert it into a yes-no question.\"\n",
        ")\n",
        "\n",
        "iface.launch()\n"
      ],
      "metadata": {
        "id": "XkDCRhqNaqOE",
        "outputId": "8892e4b6-260c-40c0-fe3b-12fb4ab3c0f4",
        "colab": {
          "base_uri": "https://localhost:8080/",
          "height": 393
        }
      },
      "execution_count": null,
      "outputs": [
        {
          "output_type": "error",
          "ename": "ModuleNotFoundError",
          "evalue": "No module named 'gradio'",
          "traceback": [
            "\u001b[0;31m---------------------------------------------------------------------------\u001b[0m",
            "\u001b[0;31mModuleNotFoundError\u001b[0m                       Traceback (most recent call last)",
            "\u001b[0;32m<ipython-input-7-682f22fd3fc3>\u001b[0m in \u001b[0;36m<cell line: 1>\u001b[0;34m()\u001b[0m\n\u001b[0;32m----> 1\u001b[0;31m \u001b[0;32mimport\u001b[0m \u001b[0mgradio\u001b[0m \u001b[0;32mas\u001b[0m \u001b[0mgr\u001b[0m\u001b[0;34m\u001b[0m\u001b[0;34m\u001b[0m\u001b[0m\n\u001b[0m\u001b[1;32m      2\u001b[0m \u001b[0;34m\u001b[0m\u001b[0m\n\u001b[1;32m      3\u001b[0m \u001b[0;32mdef\u001b[0m \u001b[0myesno\u001b[0m\u001b[0;34m(\u001b[0m\u001b[0msentence\u001b[0m\u001b[0;34m)\u001b[0m\u001b[0;34m:\u001b[0m\u001b[0;34m\u001b[0m\u001b[0;34m\u001b[0m\u001b[0m\n\u001b[1;32m      4\u001b[0m     \u001b[0msentence\u001b[0m \u001b[0;34m=\u001b[0m \u001b[0msentence\u001b[0m\u001b[0;34m.\u001b[0m\u001b[0mrstrip\u001b[0m\u001b[0;34m(\u001b[0m\u001b[0;34m'.'\u001b[0m\u001b[0;34m)\u001b[0m\u001b[0;34m\u001b[0m\u001b[0;34m\u001b[0m\u001b[0m\n\u001b[1;32m      5\u001b[0m     \u001b[0mwords\u001b[0m \u001b[0;34m=\u001b[0m \u001b[0msentence\u001b[0m\u001b[0;34m.\u001b[0m\u001b[0msplit\u001b[0m\u001b[0;34m(\u001b[0m\u001b[0;34m)\u001b[0m\u001b[0;34m\u001b[0m\u001b[0;34m\u001b[0m\u001b[0m\n",
            "\u001b[0;31mModuleNotFoundError\u001b[0m: No module named 'gradio'",
            "",
            "\u001b[0;31m---------------------------------------------------------------------------\u001b[0;32m\nNOTE: If your import is failing due to a missing package, you can\nmanually install dependencies using either !pip or !apt.\n\nTo view examples of installing some common dependencies, click the\n\"Open Examples\" button below.\n\u001b[0;31m---------------------------------------------------------------------------\u001b[0m\n"
          ],
          "errorDetails": {
            "actions": [
              {
                "action": "open_url",
                "actionText": "Open Examples",
                "url": "/notebooks/snippets/importing_libraries.ipynb"
              }
            ]
          }
        }
      ]
    },
    {
      "cell_type": "code",
      "source": [
        "!pip install gtts gradio"
      ],
      "metadata": {
        "id": "35WqtLTvb1Ep"
      },
      "execution_count": null,
      "outputs": []
    },
    {
      "cell_type": "code",
      "source": [
        "#@markdown Yes-No converter app (using Gradio)\n",
        "import gradio as gr\n",
        "from gtts import gTTS\n",
        "import os\n",
        "\n",
        "def yesno_with_audio(sentence):\n",
        "    # Your existing yesno function\n",
        "    def yesno(sentence):\n",
        "        sentence = sentence.rstrip('.')\n",
        "        words = sentence.split()\n",
        "        be_verbs = ['is', 'are', 'am', 'was', 'were']\n",
        "\n",
        "        for i, word in enumerate(words):\n",
        "            if word in be_verbs and i != 0:\n",
        "                subject = words[0].lower()\n",
        "                verb = words[i]\n",
        "                remaining = words[1:i] + words[i+1:]\n",
        "                question = f\"{verb.capitalize()} {subject} \" + \" \".join(remaining).strip() + \"?\"\n",
        "                return question\n",
        "\n",
        "        return \"Not a simple 'be' verb sentence, already a question, or 'be' verb is the first word.\"\n",
        "\n",
        "    # Generate the yes-no question\n",
        "    question = yesno(sentence)\n",
        "\n",
        "    # Generate audio from the question\n",
        "    tts = gTTS(question, lang='en')\n",
        "    audio_file = 'output_audio.mp3'\n",
        "    tts.save(audio_file)\n",
        "\n",
        "    return question, audio_file\n",
        "\n",
        "iface = gr.Interface(\n",
        "    fn=yesno_with_audio,\n",
        "    inputs=gr.Textbox(lines=2, placeholder=\"Enter a sentence\"),\n",
        "    outputs=[\"text\", \"audio\"],\n",
        "    title=\"Yes-No Question Generator with Audio\",\n",
        "    description=\"Enter a sentence and this app will convert it into a yes-no question and read it aloud.\"\n",
        ")\n",
        "\n",
        "iface.launch()\n"
      ],
      "metadata": {
        "cellView": "form",
        "id": "PvmI4XQ2bSkY",
        "outputId": "4b2e1e71-5bd9-4dbf-a6a3-0fa68b1140e3",
        "colab": {
          "base_uri": "https://localhost:8080/",
          "height": 625
        }
      },
      "execution_count": null,
      "outputs": [
        {
          "output_type": "stream",
          "name": "stdout",
          "text": [
            "Setting queue=True in a Colab notebook requires sharing enabled. Setting `share=True` (you can turn this off by setting `share=False` in `launch()` explicitly).\n",
            "\n",
            "Colab notebook detected. To show errors in colab notebook, set debug=True in launch()\n",
            "Running on public URL: https://3af9eb3ce87a19ead2.gradio.live\n",
            "\n",
            "This share link expires in 72 hours. For free permanent hosting and GPU upgrades, run `gradio deploy` from Terminal to deploy to Spaces (https://huggingface.co/spaces)\n"
          ]
        },
        {
          "output_type": "display_data",
          "data": {
            "text/plain": [
              "<IPython.core.display.HTML object>"
            ],
            "text/html": [
              "<div><iframe src=\"https://3af9eb3ce87a19ead2.gradio.live\" width=\"100%\" height=\"500\" allow=\"autoplay; camera; microphone; clipboard-read; clipboard-write;\" frameborder=\"0\" allowfullscreen></iframe></div>"
            ]
          },
          "metadata": {}
        },
        {
          "output_type": "execute_result",
          "data": {
            "text/plain": []
          },
          "metadata": {},
          "execution_count": 23
        }
      ]
    },
    {
      "cell_type": "markdown",
      "source": [
        "# ⏰ Todo:"
      ],
      "metadata": {
        "id": "9D7U7633g0S_"
      }
    },
    {
      "cell_type": "markdown",
      "source": [
        "Review Python basics [Coding4ET Lesson 3](https://github.com/MK316/Coding4ET/blob/main/README.md)"
      ],
      "metadata": {
        "id": "mSpge9tenu6I"
      }
    },
    {
      "cell_type": "markdown",
      "source": [
        "\n",
        "\n",
        "---\n",
        "# The End\n"
      ],
      "metadata": {
        "id": "3cZjH9xIiN4_"
      }
    }
  ]
}