{
  "nbformat": 4,
  "nbformat_minor": 0,
  "metadata": {
    "colab": {
      "private_outputs": true,
      "provenance": [],
      "authorship_tag": "ABX9TyMN6NTxR7FAoBLF9sBa1Y00",
      "include_colab_link": true
    },
    "kernelspec": {
      "name": "python3",
      "display_name": "Python 3"
    },
    "language_info": {
      "name": "python"
    }
  },
  "cells": [
    {
      "cell_type": "markdown",
      "metadata": {
        "id": "view-in-github",
        "colab_type": "text"
      },
      "source": [
        "<a href=\"https://colab.research.google.com/github/MK316/Spring2024/blob/main/apps/Demo01.ipynb\" target=\"_parent\"><img src=\"https://colab.research.google.com/assets/colab-badge.svg\" alt=\"Open In Colab\"/></a>"
      ]
    },
    {
      "cell_type": "markdown",
      "source": [
        "# 💦 Demo 1: Word Frequency Analyzer:\n",
        "\n",
        "**Description:** This application analyzes a text and displays the frequency of words used. It helps students understand word usage patterns in English literature or sotries.\n",
        "\n",
        "**Learning Objective:** Enhance vocabulary and comprehension skills by identifying commonly used words in different contexts.\n",
        "\n",
        "**Python Concepts:** File handling, string manipulation, data visualization."
      ],
      "metadata": {
        "id": "qCa2_Kmr7DB-"
      }
    },
    {
      "cell_type": "markdown",
      "source": [
        "[sample text (story01.txt)](https://raw.githubusercontent.com/MK316/Spring2024/main/data/story01.txt)\n",
        "\n",
        "[Web source](https://www.k5learning.com/reading-comprehension-worksheets/fifth-grade-5/childrens-stories)"
      ],
      "metadata": {
        "id": "5LpjMBnE7p8j"
      }
    },
    {
      "cell_type": "code",
      "execution_count": null,
      "metadata": {
        "id": "Lt9-EYv27BhJ"
      },
      "outputs": [],
      "source": [
        "import collections\n",
        "import re\n",
        "\n",
        "def word_frequency_analyzer(text):\n",
        "    words = re.findall(r'\\w+', text.lower())\n",
        "    return collections.Counter(words)\n",
        "\n",
        "text = input()\n",
        "print(word_frequency_analyzer(text))\n"
      ]
    },
    {
      "cell_type": "markdown",
      "source": [
        "## Arrange the word frequency as table"
      ],
      "metadata": {
        "id": "BMV14lKh8F-G"
      }
    },
    {
      "cell_type": "code",
      "source": [
        "import pandas as pd\n",
        "import collections\n",
        "import re\n",
        "\n",
        "def word_frequency_analyzer(text):\n",
        "    words = re.findall(r'\\w+', text.lower())\n",
        "    word_counts = collections.Counter(words)\n",
        "    df = pd.DataFrame(word_counts.items(), columns=['Word', 'Frequency'])\n",
        "    return df.sort_values(by='Frequency', ascending=False)\n",
        "\n",
        "# Replace the text below with any English text of your choice\n",
        "text = input()\n",
        "df = word_frequency_analyzer(text)\n",
        "\n",
        "# Display the DataFrame\n",
        "print(df)\n",
        "\n",
        "# Save to CSV file\n",
        "csv_file_path = '/content/wordlist.csv'\n",
        "df.to_csv(csv_file_path, index=False)\n",
        "print(f\"Saved as '{csv_file_path}'\")\n"
      ],
      "metadata": {
        "id": "pHuMW1FI86G-"
      },
      "execution_count": null,
      "outputs": []
    },
    {
      "cell_type": "markdown",
      "source": [
        "# Live link for the app"
      ],
      "metadata": {
        "id": "qVSmoIL--XxQ"
      }
    },
    {
      "cell_type": "code",
      "source": [
        "%%capture\n",
        "!pip install gradio"
      ],
      "metadata": {
        "id": "pp6XwNPE-Z1Y"
      },
      "execution_count": null,
      "outputs": []
    },
    {
      "cell_type": "code",
      "source": [
        "import gradio as gr\n",
        "import collections\n",
        "import re\n",
        "\n",
        "def word_frequency_analyzer(text):\n",
        "    words = re.findall(r'\\w+', text.lower())\n",
        "    return collections.Counter(words)\n",
        "\n",
        "# Set up the Gradio interface\n",
        "iface = gr.Interface(\n",
        "    fn=word_frequency_analyzer,\n",
        "    inputs=gr.Textbox(lines=2, placeholder=\"Enter Text Here...\"),\n",
        "    outputs=\"text\",\n",
        "    title=\"Word Frequency Analyzer\",\n",
        "    description=\"Enter a text to analyze the frequency of each word.\"\n",
        ")\n",
        "\n",
        "# Launch the interface and get a live link\n",
        "iface.launch()\n"
      ],
      "metadata": {
        "id": "r-0lI1D6BDCG"
      },
      "execution_count": null,
      "outputs": []
    },
    {
      "cell_type": "code",
      "source": [
        "#@markdown App link (output in a dataframe format)\n",
        "import gradio as gr\n",
        "import collections\n",
        "import re\n",
        "import pandas as pd\n",
        "\n",
        "def word_frequency_analyzer(text):\n",
        "    words = re.findall(r'\\w+', text.lower())\n",
        "    word_counts = collections.Counter(words)\n",
        "\n",
        "    # Convert Counter to DataFrame\n",
        "    df = pd.DataFrame(word_counts.items(), columns=['Word', 'Count'])\n",
        "    return df.sort_values(by='Count', ascending=False)  # Sorting by count for better readability\n",
        "\n",
        "# Set up the Gradio interface\n",
        "iface = gr.Interface(\n",
        "    fn=word_frequency_analyzer,\n",
        "    inputs=gr.Textbox(lines=2, placeholder=\"Enter Text Here...\"),\n",
        "    outputs=gr.Dataframe(),\n",
        "    title=\"Word Frequency Analyzer\",\n",
        "    description=\"Enter a text to analyze the frequency of each word.\"\n",
        ")\n",
        "\n",
        "# Launch the interface and get a live link\n",
        "iface.launch()\n"
      ],
      "metadata": {
        "cellView": "form",
        "id": "CRX6qe0aCATC"
      },
      "execution_count": null,
      "outputs": []
    },
    {
      "cell_type": "code",
      "source": [
        "#@markdown App link with options (alphabetically or by frequency)\n",
        "import gradio as gr\n",
        "import collections\n",
        "import re\n",
        "import pandas as pd\n",
        "\n",
        "def word_frequency_analyzer(text, sort_by):\n",
        "    words = re.findall(r'\\w+', text.lower())\n",
        "    word_counts = collections.Counter(words)\n",
        "\n",
        "    # Convert Counter to DataFrame\n",
        "    df = pd.DataFrame(word_counts.items(), columns=['Word', 'Count'])\n",
        "\n",
        "    # Sort DataFrame based on the selected option\n",
        "    if sort_by == 'Alphabetically':\n",
        "        df = df.sort_values(by='Word')\n",
        "    else:  # 'By Frequency'\n",
        "        df = df.sort_values(by='Count', ascending=False)\n",
        "\n",
        "    return df\n",
        "\n",
        "# Set up the Gradio interface\n",
        "iface = gr.Interface(\n",
        "    fn=word_frequency_analyzer,\n",
        "    inputs=[\n",
        "        gr.Textbox(lines=2, placeholder=\"Enter Text Here...\"),\n",
        "        gr.Radio(choices=['Alphabetically', 'By Frequency'], label=\"Sort results:\")\n",
        "    ],\n",
        "    outputs=gr.Dataframe(),\n",
        "    title=\"Word Frequency Analyzer\",\n",
        "    description=\"Enter a text to analyze the frequency of each word. Choose how to sort the results.\"\n",
        ")\n",
        "\n",
        "# Launch the interface and get a live link\n",
        "iface.launch()\n"
      ],
      "metadata": {
        "cellView": "form",
        "id": "-v7pCpotDJ6z"
      },
      "execution_count": null,
      "outputs": []
    },
    {
      "cell_type": "markdown",
      "source": [
        "# QR code to share the link"
      ],
      "metadata": {
        "id": "yMCjSJDxFBVZ"
      }
    },
    {
      "cell_type": "code",
      "source": [
        "%%capture\n",
        "!pip install pyqrcode"
      ],
      "metadata": {
        "id": "NKpbXqKqFEAW"
      },
      "execution_count": null,
      "outputs": []
    },
    {
      "cell_type": "code",
      "source": [
        "#@markdown Enter the link, save it as a file, and display\n",
        "import pyqrcode\n",
        "from IPython.display import Image, display\n",
        "\n",
        "# Input for the link\n",
        "s = input(\"Paste the link: \")\n",
        "\n",
        "# Generate QR code\n",
        "url = pyqrcode.create(s)\n",
        "\n",
        "# Create and save the png file naming \"myqr.png\"\n",
        "file_name = \"myqrcode.png\"\n",
        "url.png(file_name, scale=10)\n",
        "\n",
        "# Display the PNG file\n",
        "def show_png(file):\n",
        "    display(Image(file))\n",
        "\n",
        "show_png(file_name)\n"
      ],
      "metadata": {
        "cellView": "form",
        "id": "-F6ybAGuF4dN"
      },
      "execution_count": null,
      "outputs": []
    }
  ]
}