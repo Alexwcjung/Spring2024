{
  "nbformat": 4,
  "nbformat_minor": 0,
  "metadata": {
    "colab": {
      "private_outputs": true,
      "provenance": [],
      "authorship_tag": "ABX9TyMr/JW1N6i5gPVQZUSgJZCM",
      "include_colab_link": true
    },
    "kernelspec": {
      "name": "python3",
      "display_name": "Python 3"
    },
    "language_info": {
      "name": "python"
    }
  },
  "cells": [
    {
      "cell_type": "markdown",
      "metadata": {
        "id": "view-in-github",
        "colab_type": "text"
      },
      "source": [
        "<a href=\"https://colab.research.google.com/github/MK316/Spring2024/blob/main/apps/QRpng.ipynb\" target=\"_parent\"><img src=\"https://colab.research.google.com/assets/colab-badge.svg\" alt=\"Open In Colab\"/></a>"
      ]
    },
    {
      "cell_type": "markdown",
      "source": [
        "# QR code to share your link"
      ],
      "metadata": {
        "id": "yMCjSJDxFBVZ"
      }
    },
    {
      "cell_type": "code",
      "source": [
        "%%capture\n",
        "!pip install pyqrcode"
      ],
      "metadata": {
        "id": "NKpbXqKqFEAW"
      },
      "execution_count": null,
      "outputs": []
    },
    {
      "cell_type": "code",
      "source": [
        "#@markdown Enter a link, save it as a png image file, and display\n",
        "import pyqrcode\n",
        "from IPython.display import Image, display\n",
        "\n",
        "# Input for the link\n",
        "s = input(\"Paste the link: \")\n",
        "\n",
        "# Generate QR code\n",
        "url = pyqrcode.create(s)\n",
        "\n",
        "# Create and save the png file naming \"myqr.png\"\n",
        "file_name = \"myqrcode.png\"\n",
        "url.png(file_name, scale=10)\n",
        "\n",
        "# Display the PNG file\n",
        "def show_png(file):\n",
        "    display(Image(file))\n",
        "\n",
        "show_png(file_name)\n"
      ],
      "metadata": {
        "cellView": "form",
        "id": "-F6ybAGuF4dN"
      },
      "execution_count": null,
      "outputs": []
    }
  ]
}