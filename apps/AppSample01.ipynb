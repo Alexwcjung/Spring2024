{
  "nbformat": 4,
  "nbformat_minor": 0,
  "metadata": {
    "colab": {
      "private_outputs": true,
      "provenance": [],
      "authorship_tag": "ABX9TyM0k/tPztdQeMhiDPslE1fi",
      "include_colab_link": true
    },
    "kernelspec": {
      "name": "python3",
      "display_name": "Python 3"
    },
    "language_info": {
      "name": "python"
    }
  },
  "cells": [
    {
      "cell_type": "markdown",
      "metadata": {
        "id": "view-in-github",
        "colab_type": "text"
      },
      "source": [
        "<a href=\"https://colab.research.google.com/github/MK316/Spring2024/blob/main/apps/AppSample01.ipynb\" target=\"_parent\"><img src=\"https://colab.research.google.com/assets/colab-badge.svg\" alt=\"Open In Colab\"/></a>"
      ]
    },
    {
      "cell_type": "markdown",
      "source": [
        "# Demo"
      ],
      "metadata": {
        "id": "7KxTGplTf2ye"
      }
    },
    {
      "cell_type": "markdown",
      "source": [
        "# [1] Story dataframe for the app design"
      ],
      "metadata": {
        "id": "RdK1lqV2XN2t"
      }
    },
    {
      "cell_type": "code",
      "source": [
        "# Sample story\n",
        "\n",
        "import pandas as pd\n",
        "\n",
        "# Sample DataFrame setup\n",
        "data = {\n",
        "    'Introduction': [\n",
        "        \"Once upon a time in a faraway land, there was a mysterious forest.\",\n",
        "        \"In a bustling city on the edge of the world, a hidden alley held secrets.\",\n",
        "        \"Deep under the sea, a forgotten city lay, full of untold stories.\"\n",
        "    ],\n",
        "    'Question': [\n",
        "        \"Do you want to explore the castle or the forest?\",\n",
        "        \"Do you investigate the curious bookstore or the ancient café?\",\n",
        "        \"Do you explore the coral palace or the sunken gardens?\"\n",
        "    ],\n",
        "    'Choice1': [\n",
        "        \"Explore the castle\",\n",
        "        \"Investigate the curious bookstore\",\n",
        "        \"Explore the coral palace\"\n",
        "    ],\n",
        "    'Choice2': [\n",
        "        \"Explore the forest\",\n",
        "        \"Investigate the ancient café\",\n",
        "        \"Explore the sunken gardens\"\n",
        "    ],\n",
        "    'Ending': [\n",
        "        \"You explored the castle and found a hidden treasure.\",\n",
        "        \"You discovered a secret world behind the bookstore.\",\n",
        "        \"You uncovered the mysteries of the ancient underwater city.\"\n",
        "    ]\n",
        "}\n",
        "\n",
        "df = pd.DataFrame(data)\n",
        "# df.index = ['Story1', 'Story2', 'Story3'] # row labels"
      ],
      "metadata": {
        "id": "dSXZktPCbea9"
      },
      "execution_count": null,
      "outputs": []
    },
    {
      "cell_type": "markdown",
      "source": [
        "# [2] Story making codes"
      ],
      "metadata": {
        "id": "W3w8Db_xfgKV"
      }
    },
    {
      "cell_type": "code",
      "source": [
        "while True:\n",
        "    choice = input(\"Type 1, 2, 3 to choose a story, or 'q' to quit: \")\n",
        "\n",
        "    if choice.lower() == 'q':\n",
        "        print(\"Quitting the story game. Goodbye!\")\n",
        "        break\n",
        "\n",
        "    if choice in ['1', '2', '3']:\n",
        "        story_idx = int(choice) - 1  # Adjust for zero-based index\n",
        "        if story_idx < len(df):\n",
        "            print(\"\\nIntroduction:\")\n",
        "            print(df.loc[story_idx, 'Introduction'])\n",
        "\n",
        "            print(\"\\nQuestion:\")\n",
        "            print(df.loc[story_idx, 'Question'])\n",
        "            print(f\"1) {df.loc[story_idx, 'Choice1']}\")\n",
        "            print(f\"2) {df.loc[story_idx, 'Choice2']}\")\n",
        "\n",
        "            input(\"Choose an option (1 or 2): \")  # Placeholder for user choice\n",
        "\n",
        "            print(\"\\nEnding:\")\n",
        "            print(df.loc[story_idx, 'Ending'])\n",
        "            print(\"*\"*30)\n",
        "        else:\n",
        "            print(\"Invalid story choice. Please try again.\")\n",
        "    else:\n",
        "        print(\"Invalid input. Please type 1, 2, 3, or 'q' to choose a story or to quit.\")\n"
      ],
      "metadata": {
        "id": "SHxCf7a7bF1V"
      },
      "execution_count": null,
      "outputs": []
    },
    {
      "cell_type": "markdown",
      "source": [
        "# Arrange words to make a sentence\n",
        "\n",
        "+ sample sentence:\n",
        "\n",
        "Here's the continuation and completion of the code"
      ],
      "metadata": {
        "id": "W66pwB9Lo9mK"
      }
    },
    {
      "cell_type": "code",
      "source": [
        "#@markdown Sentence into 3 parts\n",
        "import ipywidgets as widgets\n",
        "from IPython.display import display, clear_output\n",
        "import random\n",
        "\n",
        "# Function to split the user's sentence into three parts\n",
        "def split_sentence_into_three(sentence):\n",
        "    words = sentence.split()\n",
        "    length = len(words)\n",
        "    part1_length = length // 3\n",
        "    part2_length = 2 * (length // 3)\n",
        "\n",
        "    # Split the sentence into three parts\n",
        "    part1 = ' '.join(words[:part1_length])\n",
        "    part2 = ' '.join(words[part1_length:part2_length])\n",
        "    part3 = ' '.join(words[part2_length:])\n",
        "\n",
        "    return [part1, part2, part3]\n",
        "\n",
        "# Initialize global variables\n",
        "parts = []\n",
        "correct_order = \"\"\n",
        "\n",
        "# Function to display the parts and ask for user input\n",
        "def display_parts_and_ask(sentence=None, message=None):\n",
        "    global parts, correct_order\n",
        "\n",
        "    # Only split and shuffle the sentence parts if a new sentence is provided\n",
        "    if sentence is not None:\n",
        "        parts = split_sentence_into_three(sentence)\n",
        "\n",
        "    # Shuffle the parts and calculate the correct order\n",
        "    randomized_parts = parts.copy()\n",
        "    random.shuffle(randomized_parts)\n",
        "    correct_order = ''.join(str(parts.index(part) + 1) for part in randomized_parts)\n",
        "\n",
        "    clear_output(wait=True)\n",
        "    if message:\n",
        "        print(message)\n",
        "    print(\"Rearrange the parts of the sentence by typing the correct order (e.g., '231'):\\n\")\n",
        "    for i, part in enumerate(randomized_parts, start=1):\n",
        "        print(f\"{i}: {part}\")\n",
        "\n",
        "    # Create a text input widget for user response\n",
        "    order_input = widgets.Text(\n",
        "        value='',\n",
        "        placeholder='Type the order here',\n",
        "        description='Order:',\n",
        "        disabled=False\n",
        "    )\n",
        "\n",
        "    # Button to submit the answer\n",
        "    submit_button = widgets.Button(description=\"Submit\")\n",
        "\n",
        "\n",
        "    # Function to check the answer\n",
        "    def check_order(b):\n",
        "        # Use the global keyword to ensure we modify the global variable\n",
        "        global correct_order\n",
        "        if order_input.value == correct_order:\n",
        "            clear_output()\n",
        "            print(\"Congratulations, that's correct!\")\n",
        "        else:\n",
        "            # If incorrect, display the parts again with a message\n",
        "            display_parts_and_ask(message=\"That's not correct. Try again.\")\n",
        "\n",
        "    # Display the widgets\n",
        "    display(order_input, submit_button)\n",
        "    # Set the on_click event for the submit button\n",
        "    submit_button.on_click(check_order)\n",
        "    # Set the on_submit event for the order_input to also check the answer when 'Enter' is pressed\n",
        "    order_input.on_submit(check_order)\n",
        "\n",
        "# Function to start the game or reset it with a new sentence\n",
        "def start_or_reset_game():\n",
        "    # Create a text input widget for the sentence\n",
        "    sentence_input = widgets.Text(\n",
        "        value='',\n",
        "        placeholder='Type a sentence here',\n",
        "        description='Sentence:',\n",
        "        disabled=False\n",
        "    )\n",
        "\n",
        "    # Function to handle sentence submission\n",
        "    def on_submit_sentence(b):\n",
        "        # Start the game with the provided sentence\n",
        "        display_parts_and_ask(sentence=sentence_input.value)\n",
        "\n",
        "    # Display the sentence input widget and wait for user input\n",
        "    display(sentence_input)\n",
        "    # Set the on_submit event for the sentence_input to handle the sentence submission\n",
        "    sentence_input.on_submit(on_submit_sentence)\n",
        "\n",
        "# Call the function to display the sentence input widget\n",
        "start_or_reset_game()\n"
      ],
      "metadata": {
        "cellView": "form",
        "id": "lGW3Tkl40NW2"
      },
      "execution_count": null,
      "outputs": []
    }
  ]
}