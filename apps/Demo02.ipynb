{
  "nbformat": 4,
  "nbformat_minor": 0,
  "metadata": {
    "colab": {
      "private_outputs": true,
      "provenance": [],
      "authorship_tag": "ABX9TyMc+j/gUrJmkCmohASyiFfe",
      "include_colab_link": true
    },
    "kernelspec": {
      "name": "python3",
      "display_name": "Python 3"
    },
    "language_info": {
      "name": "python"
    }
  },
  "cells": [
    {
      "cell_type": "markdown",
      "metadata": {
        "id": "view-in-github",
        "colab_type": "text"
      },
      "source": [
        "<a href=\"https://colab.research.google.com/github/MK316/Spring2024/blob/main/apps/Demo02.ipynb\" target=\"_parent\"><img src=\"https://colab.research.google.com/assets/colab-badge.svg\" alt=\"Open In Colab\"/></a>"
      ]
    },
    {
      "cell_type": "markdown",
      "source": [
        "# 🌀 Demo02: Grammar Quiz"
      ],
      "metadata": {
        "id": "1bstr0H5L-lv"
      }
    },
    {
      "cell_type": "markdown",
      "source": [
        "## [1] Illustration"
      ],
      "metadata": {
        "id": "Jo982QqbMadi"
      }
    },
    {
      "cell_type": "code",
      "execution_count": null,
      "metadata": {
        "cellView": "form",
        "id": "Ykz7sywALChO"
      },
      "outputs": [],
      "source": [
        "#@markdown - Define a list of questions. Each question is a dictionary with the question text, options, and the correct answer.\n",
        "questions = [\n",
        "    {\"text\": \"What is the correct form of the verb 'to be' in present simple, first person singular?\",\n",
        "     \"options\": [\"am\", \"is\", \"are\"], \"answer\": \"am\"},\n",
        "    {\"text\": \"Choose the correct form of the indefinite article for 'umbrella'.\",\n",
        "     \"options\": [\"a\", \"an\", \"the\"], \"answer\": \"an\"},\n",
        "    # Add more questions as needed\n",
        "]\n",
        "\n",
        "def ask_question(question):\n",
        "    print(question[\"text\"])\n",
        "    for i, option in enumerate(question[\"options\"], 1):\n",
        "        print(f\"{i}. {option}\")\n",
        "    user_answer = input(\"Enter the number of your answer: \")\n",
        "    if question[\"options\"][int(user_answer) - 1] == question[\"answer\"]:\n",
        "        print(\"Correct!\")\n",
        "        return True\n",
        "    else:\n",
        "        print(f\"Incorrect! The correct answer is '{question['answer']}'.\")\n",
        "        return False\n",
        "\n",
        "def run_quiz(questions):\n",
        "    score = 0\n",
        "    for question in questions:\n",
        "        if ask_question(question):\n",
        "            score += 1\n",
        "    print(f\"Your final score is {score}/{len(questions)}\")\n",
        "\n",
        "# Run the quiz\n",
        "run_quiz(questions)\n"
      ]
    },
    {
      "cell_type": "markdown",
      "source": [
        "## [2] Randomize the options"
      ],
      "metadata": {
        "id": "LVXN4tiEMZ1D"
      }
    },
    {
      "cell_type": "code",
      "source": [
        "#@markdown Randomized options with the same questions\n",
        "import random\n",
        "\n",
        "# Define a list of questions. Each question is a dictionary with the question text, options, and the correct answer.\n",
        "questions = [\n",
        "    {\"text\": \"What is the correct form of the verb 'to be' in present simple, first person singular?\",\n",
        "     \"options\": [\"am\", \"is\", \"are\"], \"answer\": \"am\"},\n",
        "    {\"text\": \"Choose the correct form of the indefinite article for 'umbrella'.\",\n",
        "     \"options\": [\"a\", \"an\", \"the\"], \"answer\": \"an\"},\n",
        "    # Add more questions as needed\n",
        "]\n",
        "\n",
        "def ask_question(question):\n",
        "    shuffled_options = question[\"options\"].copy()\n",
        "    random.shuffle(shuffled_options)\n",
        "    correct_answer_index = shuffled_options.index(question[\"answer\"]) + 1\n",
        "\n",
        "    print(question[\"text\"])\n",
        "    for i, option in enumerate(shuffled_options, 1):\n",
        "        print(f\"{i}. {option}\")\n",
        "    user_answer = input(\"Enter the number of your answer: \")\n",
        "\n",
        "    if int(user_answer) == correct_answer_index:\n",
        "        print(\"Correct!\")\n",
        "        return True\n",
        "    else:\n",
        "        print(f\"Incorrect! The correct answer is '{question['answer']}'.\")\n",
        "        return False\n",
        "\n",
        "def run_quiz(questions):\n",
        "    score = 0\n",
        "    for question in questions:\n",
        "        if ask_question(question):\n",
        "            score += 1\n",
        "    print(f\"Your final score is {score}/{len(questions)}\")\n",
        "\n",
        "# Run the quiz\n",
        "run_quiz(questions)\n"
      ],
      "metadata": {
        "cellView": "form",
        "id": "jVdfRjo_NFzi"
      },
      "execution_count": null,
      "outputs": []
    },
    {
      "cell_type": "markdown",
      "source": [
        "# [3] Chage questions and options"
      ],
      "metadata": {
        "id": "I1EQQRiZNlY1"
      }
    },
    {
      "cell_type": "code",
      "source": [
        "# Define a list of questions. Each question is a dictionary with the question text, options, and the correct answer.\n",
        "questions = [\n",
        "    {\"text\": \"What is the correct form of the verb 'to be' in present simple: He _____ smart.\",\n",
        "     \"options\": [\"am\", \"is\", \"are\"], \"answer\": \"am\"},\n",
        "    {\"text\": \"What is the correct form of an indefinite article in: He has ___ unbrella.\",\n",
        "     \"options\": [\"a\", \"an\", \"the\"], \"answer\": \"an\"}\n",
        "    ]\n",
        "    # Add more questions as needed"
      ],
      "metadata": {
        "id": "sxTFTGBPNonI"
      },
      "execution_count": null,
      "outputs": []
    },
    {
      "cell_type": "code",
      "source": [
        "import random\n",
        "\n",
        "def ask_question(question):\n",
        "    shuffled_options = question[\"options\"].copy()\n",
        "    random.shuffle(shuffled_options)\n",
        "    correct_answer_index = shuffled_options.index(question[\"answer\"]) + 1\n",
        "\n",
        "    print(question[\"text\"])\n",
        "    for i, option in enumerate(shuffled_options, 1):\n",
        "        print(f\"{i}. {option}\")\n",
        "    user_answer = input(\"Enter the number of your answer: \")\n",
        "\n",
        "    if int(user_answer) == correct_answer_index:\n",
        "        print(\"Correct!\")\n",
        "        return True\n",
        "    else:\n",
        "        print(f\"Incorrect! The correct answer is '{question['answer']}'.\")\n",
        "        return False\n",
        "\n",
        "def run_quiz(questions):\n",
        "    score = 0\n",
        "    for question in questions:\n",
        "        if ask_question(question):\n",
        "            score += 1\n",
        "    print(f\"Your final score is {score}/{len(questions)}\")\n",
        "\n",
        "# Run the quiz\n",
        "run_quiz(questions)"
      ],
      "metadata": {
        "id": "G_EXRAb3Ntn1"
      },
      "execution_count": null,
      "outputs": []
    },
    {
      "cell_type": "markdown",
      "source": [
        "## [4] Make a file to write questions and options"
      ],
      "metadata": {
        "id": "i_xyzMm-OVPB"
      }
    },
    {
      "cell_type": "markdown",
      "source": [
        "[data csv](https://raw.githubusercontent.com/MK316/Spring2024/main/data/demo02.csv)"
      ],
      "metadata": {
        "id": "hmRKD6xsQGSd"
      }
    },
    {
      "cell_type": "code",
      "source": [
        "import requests\n",
        "import csv\n",
        "import random\n",
        "\n",
        "# URL of the raw CSV file in the GitHub repository\n",
        "url = 'https://raw.githubusercontent.com/MK316/Spring2024/main/data/demo02.csv'"
      ],
      "metadata": {
        "id": "6WHd6fz9Po7x"
      },
      "execution_count": null,
      "outputs": []
    },
    {
      "cell_type": "code",
      "source": [
        "#@markdown Play quiz\n",
        "import pandas as pd\n",
        "import random\n",
        "\n",
        "# Function to ask a question\n",
        "def ask_question(question):\n",
        "    # Splitting options and trimming whitespace\n",
        "    shuffled_options = [option.strip() for option in question[\"Options\"].split(\",\")]\n",
        "    random.shuffle(shuffled_options)\n",
        "\n",
        "    # Ensuring consistent casing\n",
        "    correct_answer = question[\"Answer\"].strip()\n",
        "    try:\n",
        "        correct_answer_index = shuffled_options.index(correct_answer) + 1\n",
        "    except ValueError:\n",
        "        print(f\"Error: Answer '{correct_answer}' not found in options for question '{question['Question']}'\")\n",
        "        return False\n",
        "\n",
        "    print(question[\"Questions\"])\n",
        "    for i, option in enumerate(shuffled_options, 1):\n",
        "        print(f\"{i}. {option}\")\n",
        "    user_answer = input(\"Enter the number of your answer: \")\n",
        "\n",
        "    if int(user_answer) == correct_answer_index:\n",
        "        print(\"Correct!\")\n",
        "        return True\n",
        "    else:\n",
        "        print(f\"Incorrect! The correct answer is '{correct_answer}'.\")\n",
        "        return False\n",
        "\n",
        "\n",
        "\n",
        "# Function to run the quiz\n",
        "def run_quiz(questions):\n",
        "    score = 0\n",
        "    for question in questions:\n",
        "        if ask_question(question):\n",
        "            score += 1\n",
        "    print(f\"Your final score is {score}/{len(questions)}\")\n",
        "\n",
        "# Read the CSV file\n",
        "df = pd.read_csv(url)\n",
        "\n",
        "# Convert the DataFrame to a list of dictionaries\n",
        "questions = df.to_dict('records')\n",
        "\n",
        "# Run the quiz\n",
        "run_quiz(questions)\n"
      ],
      "metadata": {
        "cellView": "form",
        "id": "OsEHfyOdT7hu"
      },
      "execution_count": null,
      "outputs": []
    },
    {
      "cell_type": "markdown",
      "source": [
        "# Error from here (as of 0109)"
      ],
      "metadata": {
        "id": "2iZAd7k6cB4N"
      }
    },
    {
      "cell_type": "markdown",
      "source": [
        "# Gradio: getting a live link"
      ],
      "metadata": {
        "id": "gL1JXQxRW7xO"
      }
    },
    {
      "cell_type": "code",
      "source": [
        "%%capture\n",
        "!pip install gradio"
      ],
      "metadata": {
        "id": "oPfD8bNrW_BJ"
      },
      "execution_count": null,
      "outputs": []
    },
    {
      "cell_type": "code",
      "source": [
        "import gradio as gr\n",
        "import pandas as pd\n",
        "import random\n",
        "\n",
        "# Function to ask a question\n",
        "def ask_question(questions, question_index, user_answer):\n",
        "    question = questions[question_index]\n",
        "    shuffled_options = [option.strip() for option in question[\"Options\"].split(\",\")]\n",
        "    random.shuffle(shuffled_options)\n",
        "\n",
        "    correct_answer = question[\"Answer\"].strip()\n",
        "    correct_answer_index = shuffled_options.index(correct_answer) + 1\n",
        "\n",
        "    if int(user_answer) == correct_answer_index:\n",
        "        return \"Correct!\", question_index + 1\n",
        "    else:\n",
        "        return f\"Incorrect! The correct answer is '{correct_answer}'.\", question_index + 1\n",
        "\n",
        "# Load the questions from CSV (replace 'url' with your CSV file's URL)\n",
        "# URL of the raw CSV file in the GitHub repository\n",
        "url = 'https://raw.githubusercontent.com/MK316/Spring2024/main/data/demo02.csv'\n",
        "df = pd.read_csv(url)\n",
        "questions = df.to_dict('records')\n",
        "\n",
        "# Gradio function to run one question at a time\n",
        "def run_one_question(question_index=0, user_answer=\"1\"):\n",
        "    if question_index < len(questions):\n",
        "        return ask_question(questions, question_index, user_answer)\n",
        "    else:\n",
        "        return \"Quiz Completed!\", -1\n",
        "\n",
        "# Gradio interface\n",
        "iface = gr.Interface(\n",
        "    fn=run_one_question,\n",
        "    inputs=[gr.Number(label=\"Question Index\"), gr.Textbox(label=\"Your Answer\")],\n",
        "    outputs=[gr.Textbox(label=\"Result\"), gr.Number(label=\"Next Question Index\")],\n",
        "    live=True\n",
        ")\n",
        "\n",
        "\n",
        "# Run the app\n",
        "iface.launch()\n"
      ],
      "metadata": {
        "id": "KqPG0YMfXCZc"
      },
      "execution_count": null,
      "outputs": []
    },
    {
      "cell_type": "code",
      "source": [
        "import gradio as gr\n",
        "import pandas as pd\n",
        "\n",
        "# Load the questions from CSV\n",
        "url = 'https://raw.githubusercontent.com/MK316/Spring2024/main/data/demo02.csv'\n",
        "df = pd.read_csv(url)\n",
        "questions = df.to_dict('records')\n",
        "\n",
        "# Function to display the question and process the answer\n",
        "def quiz_interface(question_index, user_answer):\n",
        "    # Adjust the index since users might input 1 for the first question\n",
        "    adjusted_index = question_index - 1\n",
        "    if adjusted_index < 0 or adjusted_index >= len(questions):\n",
        "        return \"Invalid question index\", \"\"\n",
        "\n",
        "    question = questions[adjusted_index]\n",
        "    correct_answer = question[\"Answer\"].strip()\n",
        "\n",
        "    # Display the question\n",
        "    question_text = question[\"Questions\"]  # Use the correct column name for the questions\n",
        "\n",
        "    # Process the answer\n",
        "    if str(user_answer).strip() == correct_answer:\n",
        "        return f\"Correct! {question_text}\", question_index + 1\n",
        "    else:\n",
        "        return f\"Incorrect! The correct answer is '{correct_answer}'. {question_text}\", question_index + 1\n",
        "\n",
        "# Define the Gradio interface\n",
        "iface = gr.Interface(\n",
        "    fn=quiz_interface,\n",
        "    inputs=[\n",
        "        gr.Number(label=\"Question Index\"),\n",
        "        gr.Textbox(label=\"Your Answer\")\n",
        "    ],\n",
        "    outputs=[\n",
        "        gr.Textbox(label=\"Result\"),\n",
        "        gr.Number(label=\"Next Question Index\")\n",
        "    ],\n",
        "    live=True\n",
        ")\n",
        "\n",
        "# Launch the app\n",
        "iface.launch()\n"
      ],
      "metadata": {
        "id": "0w2nMcribKKZ"
      },
      "execution_count": null,
      "outputs": []
    }
  ]
}