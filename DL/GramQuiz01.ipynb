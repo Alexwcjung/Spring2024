{
  "nbformat": 4,
  "nbformat_minor": 0,
  "metadata": {
    "colab": {
      "private_outputs": true,
      "provenance": [],
      "authorship_tag": "ABX9TyOskUOKTrLc5ITUq5u0Zwju",
      "include_colab_link": true
    },
    "kernelspec": {
      "name": "python3",
      "display_name": "Python 3"
    },
    "language_info": {
      "name": "python"
    }
  },
  "cells": [
    {
      "cell_type": "markdown",
      "metadata": {
        "id": "view-in-github",
        "colab_type": "text"
      },
      "source": [
        "<a href=\"https://colab.research.google.com/github/MK316/Spring2024/blob/main/DL/GramQuiz01.ipynb\" target=\"_parent\"><img src=\"https://colab.research.google.com/assets/colab-badge.svg\" alt=\"Open In Colab\"/></a>"
      ]
    },
    {
      "cell_type": "markdown",
      "source": [
        "# Grammar Quiz 01\n",
        "\n",
        "+ Middle School level"
      ],
      "metadata": {
        "id": "rYRCpQmb5wRX"
      }
    },
    {
      "cell_type": "code",
      "execution_count": null,
      "metadata": {
        "id": "izDtL2Y7uy9c"
      },
      "outputs": [],
      "source": [
        "import pandas as pd\n",
        "\n",
        "# Creating a list of grammar questions, options, and answers\n",
        "grammar_questions = [\n",
        "    {\n",
        "        \"Question\": \"Choose the correct form of the verb: She _____ to the store every day.\",\n",
        "        \"Options\": \"goes - go - went - going\",\n",
        "        \"Answer\": \"goes\"\n",
        "    },\n",
        "    {\n",
        "        \"Question\": \"Fill in the blank with the correct pronoun: This book is _____ (belonging to Mark).\",\n",
        "        \"Options\": \"his - her - theirs - ours\",\n",
        "        \"Answer\": \"his\"\n",
        "    },\n",
        "    {\n",
        "        \"Question\": \"Which sentence is in the past tense?\",\n",
        "        \"Options\": \"She will run a marathon - She is running a marathon - She ran a marathon - She runs a marathon\",\n",
        "        \"Answer\": \"She ran a marathon\"\n",
        "    },\n",
        "    {\n",
        "        \"Question\": \"Choose the correct preposition: We will meet you _____ the library.\",\n",
        "        \"Options\": \"in - on - at - to\",\n",
        "        \"Answer\": \"at\"\n",
        "    },\n",
        "    {\n",
        "        \"Question\": \"Identify the adverb in the sentence: He quickly ran to the store.\",\n",
        "        \"Options\": \"He - quickly - ran - store\",\n",
        "        \"Answer\": \"quickly\"\n",
        "    },\n",
        "    {\n",
        "        \"Question\": \"Choose the correct conjunction: I want to play outside, _____ it is raining.\",\n",
        "        \"Options\": \"and - but - or - so\",\n",
        "        \"Answer\": \"but\"\n",
        "    },\n",
        "    {\n",
        "        \"Question\": \"Select the correct plural form: One mouse, two _____.\",\n",
        "        \"Options\": \"mouses - mice - mouse - mousees\",\n",
        "        \"Answer\": \"mice\"\n",
        "    },\n",
        "    {\n",
        "        \"Question\": \"Fill in the blank with the correct form of 'be': They _____ happy.\",\n",
        "        \"Options\": \"am - is - are - be\",\n",
        "        \"Answer\": \"are\"\n",
        "    },\n",
        "    {\n",
        "        \"Question\": \"Choose the sentence with correct subject-verb agreement: \",\n",
        "        \"Options\": \"The dogs barks loudly - The dog bark loudly - The dogs bark loudly - The dog barking loudly\",\n",
        "        \"Answer\": \"The dogs bark loudly\"\n",
        "    },\n",
        "    {\n",
        "        \"Question\": \"Identify the adjective in the sentence: The apple is delicious.\",\n",
        "        \"Options\": \"The - apple - is - delicious\",\n",
        "        \"Answer\": \"delicious\"\n",
        "    }\n",
        "]\n",
        "\n",
        "# Converting the list to a DataFrame\n",
        "df = pd.DataFrame(grammar_questions)\n",
        "\n",
        "df\n",
        "\n"
      ]
    },
    {
      "cell_type": "code",
      "source": [
        "import pandas as pd\n",
        "import random\n",
        "\n",
        "def grammar_quiz(df):\n",
        "    questions = df.to_dict('records')\n",
        "    score = 0\n",
        "    asked_questions = []\n",
        "\n",
        "    while score < len(questions):\n",
        "        question = random.choice([q for q in questions if q not in asked_questions])\n",
        "        asked_questions.append(question)\n",
        "\n",
        "        print(question[\"Question\"])\n",
        "        options = question[\"Options\"].split(\" - \")\n",
        "        for idx, option in enumerate(options, start=1):\n",
        "            print(f\"{idx}. {option}\")\n",
        "\n",
        "        try:\n",
        "            user_answer = int(input(\"Choose the correct option (1-4): \"))\n",
        "            if 1 <= user_answer <= 4:\n",
        "                if options[user_answer - 1] == question[\"Answer\"]:\n",
        "                    print(\"Correct!\\n\")\n",
        "                    score += 1\n",
        "                else:\n",
        "                    print(\"Incorrect. Try again.\\n\")\n",
        "                    asked_questions.remove(question)\n",
        "            else:\n",
        "                print(\"Invalid option. Please choose a number between 1 and 4.\\n\")\n",
        "        except ValueError:\n",
        "            print(\"Invalid input. Please enter a number.\\n\")\n",
        "\n",
        "    print(f\"Congratulations! You've answered all questions correctly. Your score is {score}.\")\n",
        "\n",
        "# Read the quiz data from a CSV file\n",
        "df_quiz = pd.read_csv('/content/drill01.csv')\n",
        "\n",
        "# Start the quiz\n",
        "grammar_quiz(df_quiz)\n"
      ],
      "metadata": {
        "id": "XKIWcF99wevr"
      },
      "execution_count": null,
      "outputs": []
    }
  ]
}