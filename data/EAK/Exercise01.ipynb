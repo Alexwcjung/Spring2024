{
  "nbformat": 4,
  "nbformat_minor": 0,
  "metadata": {
    "colab": {
      "private_outputs": true,
      "provenance": [],
      "authorship_tag": "ABX9TyNUtbfrMohGMm2vpkkTjFpp",
      "include_colab_link": true
    },
    "kernelspec": {
      "name": "python3",
      "display_name": "Python 3"
    },
    "language_info": {
      "name": "python"
    }
  },
  "cells": [
    {
      "cell_type": "markdown",
      "metadata": {
        "id": "view-in-github",
        "colab_type": "text"
      },
      "source": [
        "<a href=\"https://colab.research.google.com/github/MK316/Spring2024/blob/main/data/EAK/Exercise01.ipynb\" target=\"_parent\"><img src=\"https://colab.research.google.com/assets/colab-badge.svg\" alt=\"Open In Colab\"/></a>"
      ]
    },
    {
      "cell_type": "markdown",
      "source": [
        "# 🌀 **Exercise #01**"
      ],
      "metadata": {
        "id": "7UvedgUJjRrE"
      }
    },
    {
      "cell_type": "markdown",
      "source": [
        "# **Question 1. Variable and operators**"
      ],
      "metadata": {
        "id": "uzhrhB2Qja0t"
      }
    },
    {
      "cell_type": "markdown",
      "source": [
        "**Python Exercise: Exploring Basic Arithmetic Operations**\n",
        "\n",
        "In this exercise, you'll practice the four basic arithmetic operations: addition, subtraction, multiplication, and division. Follow these steps to create a simple program that performs these operations with two numbers and displays the results.\n",
        "\n",
        "\n",
        "##✴️ **Instruction**\n",
        "\n",
        "🚩**Note: Write all codes in a single cell.**\n",
        "\n",
        "1. Start with a Comment: Begin by opening a new code cell. At the top of the cell, add a comment that says # The basic four operations. This helps identify the purpose of the code cell.\n",
        "\n",
        "2. Initialize Variables: Assign the integer 51 to a variable named x and the integer 72 to another variable named y. These will be the numbers you use in the arithmetic operations.\n",
        "\n",
        "3. Perform Arithmetic Operations: Now, calculate the results of adding, subtracting, multiplying, and dividing x and y. Assign these results to variables named a1, a2, a3, and a4, respectively. Here's what each variable will represent:\n",
        "\n",
        "+ a1: The result of adding x and y.\n",
        "+ a2: The result of subtracting y from x.\n",
        "+ a3: The result of multiplying x and y.\n",
        "+ a4: The result of dividing x by y.\n",
        "\n",
        "4. Display the Results: Use the print() function to show the results of each operation. For each operation, include a description of what you did and the outcome. For example, for addition, you could write: print('Addition: 51 plus 72 equals', a1). Do this for each operation, replacing a1 with a2, a3, and a4 for subtraction, multiplication, and division, respectively.\n",
        "\n",
        "By following these steps, you'll create a program that not only performs basic arithmetic operations but also clearly displays what each operation does and its result. This is a great way to get familiar with using variables and performing calculations in Python.\n",
        "\n",
        "## ✅ Output should be:\n",
        "```\n",
        "Addition: 51 plus 72 becomes 123\n",
        "Subtraction: 51 minus 72 becomes -21\n",
        "Multiplication: 51 times 72 becomes 3672\n",
        "Division: 51 divided by 72 becomes 0.7083333333333334\n",
        "```"
      ],
      "metadata": {
        "id": "pqf2vC3-kAHT"
      }
    },
    {
      "cell_type": "code",
      "execution_count": null,
      "metadata": {
        "id": "8Qgtk9mojNgk"
      },
      "outputs": [],
      "source": []
    },
    {
      "cell_type": "markdown",
      "source": [
        "# **Question 2.  Counting Characters in a Sentence**"
      ],
      "metadata": {
        "id": "VKhCOFyNmaC1"
      }
    },
    {
      "cell_type": "markdown",
      "source": [
        "**Objective:** Write a Python program to count the number of characters in a given sentence.\n",
        "\n",
        "##✴️ **Instructions:**\n",
        "\n",
        "1. Start a new code cell with a comment: # Counting characters.\n",
        "2. Assign the sentence \"Learning Python is fun!\" to a variable named sentence.\n",
        "3. Use the len() function to calculate the length of the sentence.\n",
        "4. Using the print() function, display the output with a description. For example, \"The sentence has 23 characters.\"\n",
        "\n",
        "## ✅ Output should be:\n",
        "\n",
        "```\n",
        "The sentence has 23 characters.\n",
        "```"
      ],
      "metadata": {
        "id": "XjIg-dZznpW7"
      }
    },
    {
      "cell_type": "code",
      "source": [],
      "metadata": {
        "id": "Mj2EMEm0n1l3"
      },
      "execution_count": null,
      "outputs": []
    },
    {
      "cell_type": "markdown",
      "source": [
        "# **Question 3.  Calculating Average Word Length**"
      ],
      "metadata": {
        "id": "ZPNdkqLOoALN"
      }
    },
    {
      "cell_type": "markdown",
      "source": [
        "Objective: Write a Python program to calculate the average word length in a sentence.\n",
        "\n",
        "##✴️ **Instructions:**\n",
        "\n",
        "1. Start a new code cell with a comment: # Average word length.\n",
        "2. Assign the sentence \"Python makes text processing easy.\" to a variable named text.\n",
        "3. Split the sentence into words using the split() method.\n",
        "4. Calculate the total length of all words combined and then divide by the number of words to find the average length.\n",
        "5. Use the print() function to display the average word length with a description.\n",
        "\n",
        "\n",
        "## ✅ Output should be:\n",
        "\n",
        "```\n",
        "The average word length is: 6.0\n",
        "```"
      ],
      "metadata": {
        "id": "GwgSqxcjoJP-"
      }
    },
    {
      "cell_type": "code",
      "source": [],
      "metadata": {
        "id": "emNLpgo3oZu2"
      },
      "execution_count": null,
      "outputs": []
    },
    {
      "cell_type": "markdown",
      "source": [
        "# **Question 4.  Vocabulary Word Counter**"
      ],
      "metadata": {
        "id": "gymvZaNdpP9-"
      }
    },
    {
      "cell_type": "markdown",
      "source": [
        "**Objective:** Create a Python program that counts the number of words in a sentence input by the user. This could be useful for language teachers when analyzing text complexity.\n",
        "\n",
        "##✴️ **Instructions:**\n",
        "\n",
        "1. Open a new code cell.\n",
        "2. Start with a comment saying # Count words in a sentence.\n",
        "3. Prompt the user to input a sentence by using the input() function and assign this input to a variable named sentence.\n",
        "4. Use the split() method to divide the sentence into words, and assign the list of words to a variable called words.\n",
        "5. Calculate the number of words by using the len() function on words. Assign this number to a variable named word_count.\n",
        "6. Display the word count and the original sentence using the print() function. The output should look like: Your sentence: \"I love teaching.\" Word count: 3.\n",
        "\n",
        "## ✅ Output should be:\n",
        "\n",
        "```\n",
        "Please type a sentence: I love teaching.\n",
        "Your sentence: \"I love teaching.\" Word count: 3\n",
        "```"
      ],
      "metadata": {
        "id": "lGmOq3TFpWdt"
      }
    },
    {
      "cell_type": "code",
      "source": [],
      "metadata": {
        "id": "sIvgfdmxphl0"
      },
      "execution_count": null,
      "outputs": []
    },
    {
      "cell_type": "markdown",
      "source": [
        "# **Question 5.  Grading system**"
      ],
      "metadata": {
        "id": "eck3nQn8pygG"
      }
    },
    {
      "cell_type": "markdown",
      "source": [
        "**Objective:** Write a Python program that converts numerical grades into letter grades (A, B, C, D, F) for classroom use.\n",
        "\n",
        "##✴️ **Instructions:**\n",
        "\n",
        "1. Start a new code cell.\n",
        "2. Add a comment at the top saying # Convert numerical grades to letter grades.\n",
        "3. Prompt the user to input a numerical grade (0-100) by using the input() function. Convert this input to an integer and assign it to a variable named grade.\n",
        "4. Use if-elif-else statements to determine the letter grade based on the numerical grade:\n",
        "+ 90 and above is an \"A\"\n",
        "+ 80 to 89 is a \"B\"\n",
        "+ 70 to 79 is a \"C\"\n",
        "+ 60 to 69 is a \"D\"\n",
        "+ Below 60 is an \"F\"\n",
        "5. Assign the letter grade to a variable named letter_grade.\n",
        "6. Use the print() function to display the letter grade with a description. For example: Your grade: A.\n",
        "\n",
        "\n",
        "## ✅ Output should be:\n",
        "\n",
        "```\n",
        "Please enter your grade (0-100): 83\n",
        "Your grade: B\n",
        "```"
      ],
      "metadata": {
        "id": "d6ZuAw5Op3QV"
      }
    },
    {
      "cell_type": "code",
      "source": [],
      "metadata": {
        "id": "MEO5H34mqJ6E"
      },
      "execution_count": null,
      "outputs": []
    },
    {
      "cell_type": "markdown",
      "source": [
        "---\n",
        "**The END**"
      ],
      "metadata": {
        "id": "T7GOSjMZqQZ4"
      }
    }
  ]
}