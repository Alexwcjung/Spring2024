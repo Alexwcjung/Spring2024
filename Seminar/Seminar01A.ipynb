{
  "nbformat": 4,
  "nbformat_minor": 0,
  "metadata": {
    "colab": {
      "private_outputs": true,
      "provenance": [],
      "authorship_tag": "ABX9TyPlxoiNppwtbdO93QpGMOBt",
      "include_colab_link": true
    },
    "kernelspec": {
      "name": "python3",
      "display_name": "Python 3"
    },
    "language_info": {
      "name": "python"
    }
  },
  "cells": [
    {
      "cell_type": "markdown",
      "metadata": {
        "id": "view-in-github",
        "colab_type": "text"
      },
      "source": [
        "<a href=\"https://colab.research.google.com/github/MK316/Spring2024/blob/main/Seminar/Seminar01A.ipynb\" target=\"_parent\"><img src=\"https://colab.research.google.com/assets/colab-badge.svg\" alt=\"Open In Colab\"/></a>"
      ]
    },
    {
      "cell_type": "markdown",
      "source": [
        "# 🌱 Seminar 01\n",
        "---\n",
        "\n",
        "\n",
        "1. Introduction:\n",
        "+ 1.1 Why statistics?\n",
        "+ 1.2 Steps of statistical approach\n",
        "+ 1.3 **Types of data**\n",
        "+ 1.4 Software\n",
        "\n",
        "2. Descriptive statistics overview: Coding"
      ],
      "metadata": {
        "id": "Pzmqs9_Hj3oz"
      }
    },
    {
      "cell_type": "markdown",
      "source": [
        "## **1.3 Types of data**\n",
        "\n",
        "1. Categorical:\n",
        "  + Nominal\n",
        "  + Ordinal\n",
        "\n",
        "2. Numerical\n",
        "  + Interval\n",
        "  + Ratio"
      ],
      "metadata": {
        "id": "4HIOE0jxkwfB"
      }
    },
    {
      "cell_type": "markdown",
      "source": [
        "### [1] Nominal data\n",
        "\n",
        "+ Sample data description: A research team conducted a study to investigate the relationship between the colors of cars in a parking lot and the satisfaction levels of the owners of those cars.\n",
        "\n",
        "> **Color:** Red, Blue, Green, White, Black, Yellow\n",
        "\n",
        "> **Satisfaction:**\n",
        "> + 1 = Very Dissatisfied\n",
        "> + 2 = Dissatisfied\n",
        "> + 3 = Neutral\n",
        "> + 4 = Satisfied\n",
        "> + 5 = Very Satisfied"
      ],
      "metadata": {
        "id": "ntTjIeKflEPb"
      }
    },
    {
      "cell_type": "code",
      "source": [
        "#@markdown Generate the data (df1 = data01.csv)\n",
        "import pandas as pd\n",
        "\n",
        "# Create the nominal data DataFrame\n",
        "nominal_data = pd.DataFrame({\n",
        "    'CarID': range(1, 101),\n",
        "    'Color': ['Red', 'Blue', 'Green', 'Red', 'White', 'Blue', 'Green', 'Black', 'White', 'Yellow'] * 10\n",
        "})\n",
        "\n",
        "# Create the ordinal data DataFrame\n",
        "ordinal_data = pd.DataFrame({\n",
        "    'CustomerID': range(1, 101),\n",
        "    'Satisfaction': [4, 3, 5, 2, 4, 3, 4, 1, 5, 2, 4, 3, 4, 2, 5, 4, 2, 3, 5, 1,\n",
        "                     4, 3, 4, 2, 5, 4, 2, 3, 5, 1, 4, 3, 4, 2, 5, 4, 2, 3, 5, 1,\n",
        "                     4, 3, 4, 2, 5, 4, 2, 3, 5, 1, 4, 3, 4, 2, 5, 4, 2, 3, 5, 1,\n",
        "                     4, 3, 4, 2, 5, 4, 2, 3, 5, 1, 4, 3, 4, 2, 5, 4, 2, 3, 5, 1,\n",
        "                     4, 3, 4, 2, 5, 4, 2, 3, 5, 1, 4, 3, 4, 2, 5, 4, 2, 3, 5, 1]\n",
        "})\n",
        "\n",
        "# Combine the two DataFrames on a common key (for example, CarID and CustomerID)\n",
        "combined_data = pd.merge(nominal_data, ordinal_data, left_on='CarID', right_on='CustomerID')\n",
        "\n",
        "# Drop the redundant key (CustomerID)\n",
        "combined_data = combined_data.drop(columns=['CustomerID'])\n",
        "\n",
        "# Save the combined dataset to a CSV file\n",
        "combined_data.to_csv(\"data01.csv\", index=False)\n",
        "\n"
      ],
      "metadata": {
        "cellView": "form",
        "id": "TZyNorRwm0mY"
      },
      "execution_count": null,
      "outputs": []
    },
    {
      "cell_type": "code",
      "source": [
        "df1 = pd.read_csv(\"data01.csv\")\n",
        "\n",
        "df1.tail()"
      ],
      "metadata": {
        "id": "Kws8_QYwoJHE"
      },
      "execution_count": null,
      "outputs": []
    },
    {
      "cell_type": "markdown",
      "source": [
        "### [2] Numeric data\n",
        "\n",
        "+ Sample data description: Collect data on monthly electricity consumption (unit in kWH, ratio data) in households and the number of occupants (interval data). Investigate how household size affects energy usage.\n",
        "\n",
        "> + **Area**: Urban, Rural\n",
        "> + **Electricity**: in kWH\n",
        "> + **Occupants**: integer (ratio data)\n",
        "> + **Daily indoor Temperature**: in Celsius (interval data)\n",
        "\n",
        "+ [Related article](https://www.treehugger.com/urban-or-rural-which-is-more-energy-efficient-4863586)"
      ],
      "metadata": {
        "id": "3o2CC7HAlHm8"
      }
    },
    {
      "cell_type": "code",
      "source": [
        "#@markdown Data to generate (df2= data02.csv)\n",
        "import pandas as pd\n",
        "import random\n",
        "\n",
        "# Create a list of areas (50 city and 50 rural)\n",
        "areas = [\"Urban\"] * 50 + [\"Rural\"] * 50\n",
        "\n",
        "# Generate random occupants data\n",
        "occupants = [random.randint(1, 5) for _ in range(100)]  # Random values between 1 and 5 occupants\n",
        "\n",
        "# Generate electricity consumption data with a tendency for rural areas to use more electricity\n",
        "electricity = []\n",
        "\n",
        "for area, occupant in zip(areas, occupants):\n",
        "    if area == \"Urban\":\n",
        "        # Generate electricity consumption for the city (lower range)\n",
        "        consumption = random.uniform(200, 400) + 50 * occupant  # Random values between 200 and 400 kWh, with occupancy effect\n",
        "    else:\n",
        "        # Generate electricity consumption for rural areas (higher range)\n",
        "        consumption = random.uniform(300, 600) + 75 * occupant  # Random values between 300 and 600 kWh, with occupancy effect\n",
        "\n",
        "    electricity.append(consumption)\n",
        "\n",
        "# Generate daily temperature data in Celsius with a positive correlation to occupants\n",
        "daily_temperature = [20 + 1.5 * occupant + random.uniform(-2, 2) for occupant in occupants]\n",
        "daily_temperature_rounded = [round(temp, 1) for temp in daily_temperature]\n",
        "\n",
        "# Create a DataFrame\n",
        "data = pd.DataFrame({'Area': areas, 'Electricity': electricity, 'Occupants': occupants, 'Daily Temperature (°C)': daily_temperature_rounded})\n",
        "\n",
        "# Save the DataFrame to 'data02.csv' file\n",
        "data.to_csv('data02.csv', index=False)\n"
      ],
      "metadata": {
        "cellView": "form",
        "id": "o39xqVPOtfnS"
      },
      "execution_count": null,
      "outputs": []
    },
    {
      "cell_type": "code",
      "source": [
        "df2 = pd.read_csv('/content/data02.csv')\n",
        "df2"
      ],
      "metadata": {
        "id": "z4OjfZCQthPu"
      },
      "execution_count": null,
      "outputs": []
    },
    {
      "cell_type": "markdown",
      "source": [
        "---\n",
        "# 🌀 **2. Descriptive statistics**\n",
        "\n",
        "Summarizing the data\n"
      ],
      "metadata": {
        "id": "MbefBB1r9eSu"
      }
    },
    {
      "cell_type": "markdown",
      "source": [
        "### [1] Descriptive stat for categorical data\n",
        "> 🔵 data.describe() # This is for numerical data\n",
        "\n",
        "Currently, data = df1, df2"
      ],
      "metadata": {
        "id": "ObR5k8sLpKk0"
      }
    },
    {
      "cell_type": "code",
      "source": [
        "df1.describe()"
      ],
      "metadata": {
        "id": "s_8ZxN5ipJ6u"
      },
      "execution_count": null,
      "outputs": []
    },
    {
      "cell_type": "code",
      "source": [
        "df2.describe()"
      ],
      "metadata": {
        "id": "f1eOUIHSAK7v"
      },
      "execution_count": null,
      "outputs": []
    },
    {
      "cell_type": "markdown",
      "source": [
        "For categorical data: Count data\n",
        "\n",
        "> 🔵 variable = df['Color'].value_counts() # This is for count data"
      ],
      "metadata": {
        "id": "MH494KRvpotU"
      }
    },
    {
      "cell_type": "code",
      "source": [
        "# Count the occurrences of each color\n",
        "color_counts = df1['Color'].value_counts()\n",
        "color_counts"
      ],
      "metadata": {
        "id": "VEhxpGjCrhES"
      },
      "execution_count": null,
      "outputs": []
    },
    {
      "cell_type": "markdown",
      "source": [
        "_Note:_ 'int64': This indicates that the data in the column consists of 64-bit integers"
      ],
      "metadata": {
        "id": "kgO4JhhaqPTV"
      }
    },
    {
      "cell_type": "code",
      "source": [
        "# Count the occurrences of each satisfaction level\n",
        "satisfaction_counts = df1['Satisfaction'].value_counts()\n",
        "print(satisfaction_counts)"
      ],
      "metadata": {
        "id": "QfO0DgBtpuke"
      },
      "execution_count": null,
      "outputs": []
    },
    {
      "cell_type": "markdown",
      "source": [
        "### [2] Descriptive stat for Numerical data\n",
        "\n"
      ],
      "metadata": {
        "id": "ORicOZmlk4a5"
      }
    },
    {
      "cell_type": "code",
      "source": [
        "df2.describe()"
      ],
      "metadata": {
        "id": "C1UrcXv4ue0U"
      },
      "execution_count": null,
      "outputs": []
    },
    {
      "cell_type": "markdown",
      "source": [
        "e.g., Describe by Area\n",
        "\n",
        "> data.groupby('Area').describe()"
      ],
      "metadata": {
        "id": "Hk4dY0Lo_TkO"
      }
    },
    {
      "cell_type": "code",
      "execution_count": null,
      "metadata": {
        "id": "1wQF-JJwj1oK"
      },
      "outputs": [],
      "source": [
        "summary_by_area = df2.groupby('Area').describe()\n",
        "\n",
        "# Display the summary statistics\n",
        "print(summary_by_area)\n"
      ]
    }
  ]
}