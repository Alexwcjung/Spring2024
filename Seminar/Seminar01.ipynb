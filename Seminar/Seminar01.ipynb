{
  "nbformat": 4,
  "nbformat_minor": 0,
  "metadata": {
    "colab": {
      "private_outputs": true,
      "provenance": [],
      "authorship_tag": "ABX9TyN6nnVMGcfGKd7LAPQ40azg",
      "include_colab_link": true
    },
    "kernelspec": {
      "name": "python3",
      "display_name": "Python 3"
    },
    "language_info": {
      "name": "python"
    }
  },
  "cells": [
    {
      "cell_type": "markdown",
      "metadata": {
        "id": "view-in-github",
        "colab_type": "text"
      },
      "source": [
        "<a href=\"https://colab.research.google.com/github/MK316/Spring2024/blob/main/Seminar/Seminar01.ipynb\" target=\"_parent\"><img src=\"https://colab.research.google.com/assets/colab-badge.svg\" alt=\"Open In Colab\"/></a>"
      ]
    },
    {
      "cell_type": "markdown",
      "source": [
        "# Seminar Lecture #1\n",
        "\n",
        "**Statistics introduction**\n",
        "\n",
        "1. Our focus\n",
        "2. Steps of statistical methods\n",
        "3. Basic concepts\n",
        "4. **Statistics with Python coding**\n"
      ],
      "metadata": {
        "id": "8lQtT_q6y2is"
      }
    },
    {
      "cell_type": "markdown",
      "source": [
        "## Introduction slides\n",
        "\n",
        "1. Our focus"
      ],
      "metadata": {
        "id": "gQLTMgi5zh3m"
      }
    },
    {
      "cell_type": "code",
      "execution_count": null,
      "metadata": {
        "id": "QScmqPpCyxL3"
      },
      "outputs": [],
      "source": []
    }
  ]
}