{
  "nbformat": 4,
  "nbformat_minor": 0,
  "metadata": {
    "colab": {
      "private_outputs": true,
      "provenance": [],
      "authorship_tag": "ABX9TyPA8SxkQCN60B27gL2vZ1//",
      "include_colab_link": true
    },
    "kernelspec": {
      "name": "python3",
      "display_name": "Python 3"
    },
    "language_info": {
      "name": "python"
    }
  },
  "cells": [
    {
      "cell_type": "markdown",
      "metadata": {
        "id": "view-in-github",
        "colab_type": "text"
      },
      "source": [
        "<a href=\"https://colab.research.google.com/github/MK316/Spring2024/blob/main/Seminar/Seminar01C.ipynb\" target=\"_parent\"><img src=\"https://colab.research.google.com/assets/colab-badge.svg\" alt=\"Open In Colab\"/></a>"
      ]
    },
    {
      "cell_type": "markdown",
      "source": [
        "##😘 **2.3 Real data for practice**"
      ],
      "metadata": {
        "id": "9YO-WyLwDe0G"
      }
    },
    {
      "cell_type": "markdown",
      "source": [
        "* import packages: this is not a complete list, so you need to install and/or import packages when additional packages are used in later codes."
      ],
      "metadata": {
        "id": "O6GkmJjsqrPV"
      }
    },
    {
      "cell_type": "code",
      "source": [
        "import numpy as np\n",
        "import pandas as pd\n",
        "from scipy import stats\n",
        "import matplotlib.pyplot as plt"
      ],
      "metadata": {
        "id": "wJy_4auKqeUe"
      },
      "execution_count": null,
      "outputs": []
    },
    {
      "cell_type": "markdown",
      "source": [
        "### 1. Histogram, Density Graph, Normality Test"
      ],
      "metadata": {
        "id": "v5krM29RoJGK"
      }
    },
    {
      "cell_type": "code",
      "execution_count": null,
      "metadata": {
        "id": "g_CbuagVCI4H"
      },
      "outputs": [],
      "source": [
        "import numpy as np\n",
        "\n",
        "# Generate normally distributed heights of 500 individuals\n",
        "heights = np.random.normal(170, 10, 500)  # mean=170cm, std=10cm\n"
      ]
    },
    {
      "cell_type": "markdown",
      "source": [
        "### 2. Box Plot"
      ],
      "metadata": {
        "id": "kovLqFvgoQKs"
      }
    },
    {
      "cell_type": "code",
      "source": [
        "import numpy as np\n",
        "\n",
        "# Exam scores in 4 different subjects for 50 students\n",
        "scores_math = np.random.randint(50, 100, 50)\n",
        "scores_science = np.random.randint(55, 100, 50)\n",
        "scores_history = np.random.randint(40, 100, 50)\n",
        "scores_english = np.random.randint(60, 100, 50)\n"
      ],
      "metadata": {
        "id": "eL1kO-uSoSSV"
      },
      "execution_count": null,
      "outputs": []
    },
    {
      "cell_type": "markdown",
      "source": [
        "### 3. Scatter Plot"
      ],
      "metadata": {
        "id": "-8DkG4xWoUF3"
      }
    },
    {
      "cell_type": "code",
      "source": [
        "import numpy as np\n",
        "\n",
        "# Height and Weight of 100 individuals\n",
        "height = np.random.normal(170, 10, 100)  # Height in cm\n",
        "weight = height * 0.5 + np.random.normal(0, 5, 100)  # Weight in kg\n"
      ],
      "metadata": {
        "id": "Jy0SRMYeoYFk"
      },
      "execution_count": null,
      "outputs": []
    },
    {
      "cell_type": "markdown",
      "source": [
        "### 4. Bar Plot"
      ],
      "metadata": {
        "id": "fC3e2JkmoZMx"
      }
    },
    {
      "cell_type": "code",
      "source": [
        "import numpy as np\n",
        "\n",
        "# Average monthly sales data for a year\n",
        "months = ['Jan', 'Feb', 'Mar', 'Apr', 'May', 'Jun', 'Jul', 'Aug', 'Sep', 'Oct', 'Nov', 'Dec']\n",
        "sales = np.random.randint(1000, 5000, 12)  # Sales in units\n"
      ],
      "metadata": {
        "id": "O81rsFq6obEq"
      },
      "execution_count": null,
      "outputs": []
    },
    {
      "cell_type": "markdown",
      "source": [
        "5. Pie Chart"
      ],
      "metadata": {
        "id": "wgDYbYt9ocBG"
      }
    },
    {
      "cell_type": "code",
      "source": [
        "import numpy as np\n",
        "\n",
        "# Market share of 5 companies\n",
        "companies = ['Company A', 'Company B', 'Company C', 'Company D', 'Company E']\n",
        "market_share = np.random.rand(5)\n",
        "market_share /= market_share.sum()\n"
      ],
      "metadata": {
        "id": "b50SLEyQodEC"
      },
      "execution_count": null,
      "outputs": []
    },
    {
      "cell_type": "markdown",
      "source": [
        "### 6. Line Graph"
      ],
      "metadata": {
        "id": "Qp3_KjQfoeTo"
      }
    },
    {
      "cell_type": "code",
      "source": [
        "import numpy as np\n",
        "\n",
        "# Yearly average temperature for 10 years\n",
        "years = np.arange(2010, 2020)\n",
        "temperature = np.random.uniform(14, 20, len(years))  # Temperature in Celsius\n"
      ],
      "metadata": {
        "id": "17Pgy_Uvog5_"
      },
      "execution_count": null,
      "outputs": []
    },
    {
      "cell_type": "markdown",
      "source": [
        "### 7. Radar Chart"
      ],
      "metadata": {
        "id": "Z6-mYXekoh4p"
      }
    },
    {
      "cell_type": "code",
      "source": [
        "import numpy as np\n",
        "\n",
        "# Performance metrics for 3 employees in 5 areas\n",
        "labels=np.array(['Efficiency', 'Quality', 'Commitment', 'Responsibility', 'Teamwork'])\n",
        "performance_A = np.random.randint(1, 5, 5)\n",
        "performance_B = np.random.randint(1, 5, 5)\n",
        "performance_C = np.random.randint(1, 5, 5)\n"
      ],
      "metadata": {
        "id": "T_UGYfO_okMA"
      },
      "execution_count": null,
      "outputs": []
    },
    {
      "cell_type": "markdown",
      "source": [
        "### 8. Heatmap"
      ],
      "metadata": {
        "id": "OMwy9jXlolSU"
      }
    },
    {
      "cell_type": "code",
      "source": [
        "import numpy as np\n",
        "\n",
        "# Correlation matrix for 6 variables\n",
        "correlation_matrix = np.random.uniform(-1, 1, (6, 6))\n",
        "correlation_matrix = (correlation_matrix + correlation_matrix.T) / 2  # Making it symmetric\n",
        "np.fill_diagonal(correlation_matrix, 1)  # Fill diagonal with 1s for correlation\n"
      ],
      "metadata": {
        "id": "yWUWyYdxom_3"
      },
      "execution_count": null,
      "outputs": []
    },
    {
      "cell_type": "markdown",
      "source": [
        "### 9. Violin Plot"
      ],
      "metadata": {
        "id": "YcmwyerZoomI"
      }
    },
    {
      "cell_type": "code",
      "source": [
        "import numpy as np\n",
        "\n",
        "# Three different groups of data\n",
        "group1 = np.random.normal(20, 5, 100)\n",
        "group2 = np.random.normal(30, 10, 100)\n",
        "group3 = np.random.normal(40, 15, 100)\n"
      ],
      "metadata": {
        "id": "4-Zpe8pQoqY9"
      },
      "execution_count": null,
      "outputs": []
    },
    {
      "cell_type": "markdown",
      "source": [
        "### 10. Pareto Plot"
      ],
      "metadata": {
        "id": "EDjS20_gorJS"
      }
    },
    {
      "cell_type": "code",
      "source": [
        "import numpy as np\n",
        "\n",
        "# Complaint types and their frequencies\n",
        "complaint_types = ['Type A', 'Type B', 'Type C', 'Type D', 'Type E']\n",
        "frequencies = np.random.randint(10, 100, len(complaint_types))\n"
      ],
      "metadata": {
        "id": "dOlXKZriotKT"
      },
      "execution_count": null,
      "outputs": []
    },
    {
      "cell_type": "markdown",
      "source": [
        "### 11. Stem-and-Leaf Plot"
      ],
      "metadata": {
        "id": "d1D4faQ6ot3f"
      }
    },
    {
      "cell_type": "code",
      "source": [
        "import numpy as np\n",
        "\n",
        "# Random integers representing some measurement\n",
        "measurements = np.random.randint(10, 99, 50)\n"
      ],
      "metadata": {
        "id": "4_oEK3-bowPe"
      },
      "execution_count": null,
      "outputs": []
    },
    {
      "cell_type": "markdown",
      "source": [
        "### 12. Time Series Plot"
      ],
      "metadata": {
        "id": "J_v866zLoxOv"
      }
    },
    {
      "cell_type": "code",
      "source": [
        "import numpy as np\n",
        "import pandas as pd\n",
        "\n",
        "# Daily stock prices for a month\n",
        "dates = pd.date_range(start='2023-01-01', end='2023-01-31')\n",
        "stock_prices = np.random.uniform(low=100, high=200, size=len(dates))\n"
      ],
      "metadata": {
        "id": "3ZzI2LFrozU9"
      },
      "execution_count": null,
      "outputs": []
    },
    {
      "cell_type": "markdown",
      "source": [
        "### 13. Frequency Polygon"
      ],
      "metadata": {
        "id": "mTbKZp-Po1k5"
      }
    },
    {
      "cell_type": "code",
      "source": [
        "import numpy as np\n",
        "\n",
        "# Test scores for a group of students\n",
        "test_scores = np.random.randint(0, 100, 100)\n"
      ],
      "metadata": {
        "id": "uUmuS-Buo2kO"
      },
      "execution_count": null,
      "outputs": []
    },
    {
      "cell_type": "markdown",
      "source": [
        "#The END"
      ],
      "metadata": {
        "id": "woHB9-3uo3lD"
      }
    }
  ]
}