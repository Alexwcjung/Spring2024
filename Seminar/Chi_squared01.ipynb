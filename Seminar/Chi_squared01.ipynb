{
  "nbformat": 4,
  "nbformat_minor": 0,
  "metadata": {
    "colab": {
      "private_outputs": true,
      "provenance": [],
      "authorship_tag": "ABX9TyM3X7YYCgI/N1tgQrmHG8Za",
      "include_colab_link": true
    },
    "kernelspec": {
      "name": "python3",
      "display_name": "Python 3"
    },
    "language_info": {
      "name": "python"
    }
  },
  "cells": [
    {
      "cell_type": "markdown",
      "metadata": {
        "id": "view-in-github",
        "colab_type": "text"
      },
      "source": [
        "<a href=\"https://colab.research.google.com/github/MK316/Spring2024/blob/main/Seminar/Chi_squared01.ipynb\" target=\"_parent\"><img src=\"https://colab.research.google.com/assets/colab-badge.svg\" alt=\"Open In Colab\"/></a>"
      ]
    },
    {
      "cell_type": "markdown",
      "source": [
        "# Chi-squared test\n",
        "\n",
        "**[1] Goodness of fit test**  \n",
        "\n",
        "**[2] Independence test**"
      ],
      "metadata": {
        "id": "TDgvoCGT2UGF"
      }
    },
    {
      "cell_type": "markdown",
      "source": [
        "## [1] Goodness of Fit Test\n",
        "\n",
        "- Let's assume we have a dice-rolling experiment. We roll a six-sided die 60 times and record the frequency of each outcome. We want to test if the die is fair (i.e., each number has an equal chance of appearing)."
      ],
      "metadata": {
        "id": "S9pWMllD31D0"
      }
    },
    {
      "cell_type": "code",
      "execution_count": null,
      "metadata": {
        "id": "rhgJ-fC52Thg"
      },
      "outputs": [],
      "source": [
        "import pandas as pd\n",
        "from scipy.stats import chisquare\n",
        "\n",
        "# Observed frequencies from dice rolls (example data)\n",
        "observed_frequencies = [10, 9, 10, 8, 13, 10]  # Sum should be 60\n",
        "expected_frequencies = [10, 10, 10, 10, 10, 10]  # Fair die expectation\n",
        "\n",
        "# Conducting the chi-squared goodness of fit test\n",
        "chi_stat, p_value = chisquare(f_obs=observed_frequencies, f_exp=expected_frequencies)\n",
        "\n",
        "print(\"Chi-squared statistic:\", chi_stat)\n",
        "print(\"P-value:\", p_value)\n"
      ]
    },
    {
      "cell_type": "markdown",
      "source": [
        "* Result interpretation:\n",
        "\n",
        "> Chi-squared statistic: 1.4  \n",
        "> P-value: 0.924313272801667\n",
        "\n",
        "\n",
        "**Chi-squared statistic:** A higher value indicates a greater deviation from the expected frequencies.\n",
        "\n",
        "**P-value:** If this value is less than the chosen significance level (commonly 0.05), we reject the null hypothesis, suggesting the die might not be fair.\n"
      ],
      "metadata": {
        "id": "Ygfv4I5O4OlA"
      }
    },
    {
      "cell_type": "code",
      "source": [
        "# Data #2 600 times\n",
        "\n",
        "import pandas as pd\n",
        "from scipy.stats import chisquare\n",
        "\n",
        "# Observed frequencies from dice rolls (example data)\n",
        "observed_frequencies = [150, 80, 90, 85, 95, 100]  # Sum should be 60\n",
        "expected_frequencies = [100, 100, 100, 100, 100, 100]  # Fair die expectation\n",
        "\n",
        "# Conducting the chi-squared goodness of fit test\n",
        "chi_stat, p_value = chisquare(f_obs=observed_frequencies, f_exp=expected_frequencies)\n",
        "\n",
        "print(\"Chi-squared statistic:\", chi_stat)\n",
        "print(\"P-value:\", p_value)\n"
      ],
      "metadata": {
        "id": "U0BaEMib_OOk"
      },
      "execution_count": null,
      "outputs": []
    },
    {
      "cell_type": "markdown",
      "source": [
        "## [2] Independence test\n",
        "\n",
        "* Suppose we have data on 100 people, categorizing them by gender (Male, Female) and whether they prefer tea or coffee.\n",
        "* The null hypothesis: there is no association (i.e., independence) between the two categorical variables being tested."
      ],
      "metadata": {
        "id": "k__g4WSc4pbI"
      }
    },
    {
      "cell_type": "markdown",
      "source": [
        "DATA #1 (data size: Female 50, Male 50)"
      ],
      "metadata": {
        "id": "gxM0tPGb71_E"
      }
    },
    {
      "cell_type": "code",
      "source": [
        "from scipy.stats import chi2_contingency\n",
        "\n",
        "# Sample data in a contingency table\n",
        "data = {'Tea': [30, 20], 'Coffee': [20, 30]} # First row: Male, Second row: Female\n",
        "df = pd.DataFrame(data, index=['Male', 'Female'])\n",
        "\n",
        "# Conducting the chi-squared test of independence\n",
        "chi_stat, p_value, dof, expected = chi2_contingency(df)\n",
        "\n",
        "print(\"Chi-squared statistic:\", chi_stat)\n",
        "print(\"P-value:\", p_value)\n",
        "print(\"Degrees of Freedom:\", dof)\n",
        "print(\"Expected Frequencies:\\n\", expected)\n"
      ],
      "metadata": {
        "id": "mOQipRNa4zCH"
      },
      "execution_count": null,
      "outputs": []
    },
    {
      "cell_type": "markdown",
      "source": [
        "DATA #2 (data size: Female 500, Male 500)"
      ],
      "metadata": {
        "id": "2ySwTcrU8D-B"
      }
    },
    {
      "cell_type": "code",
      "source": [
        "from scipy.stats import chi2_contingency\n",
        "\n",
        "# Sample data in a contingency table\n",
        "data = {'Tea': [300, 200], 'Coffee': [200, 300]} # First row: Male, Second row: Female\n",
        "df = pd.DataFrame(data, index=['Male', 'Female'])\n",
        "\n",
        "# Conducting the chi-squared test of independence\n",
        "chi_stat, p_value, dof, expected = chi2_contingency(df)\n",
        "\n",
        "print(\"Chi-squared statistic:\", chi_stat)\n",
        "print(\"P-value:\", p_value)\n",
        "print(\"Degrees of Freedom:\", dof)\n",
        "print(\"Expected Frequencies:\\n\", expected)\n"
      ],
      "metadata": {
        "id": "AErtIf_M7hUF"
      },
      "execution_count": null,
      "outputs": []
    },
    {
      "cell_type": "code",
      "source": [
        "p_value = 3.817573261251463e-10\n",
        "print(f\"P-value: {p_value:.12f}\")"
      ],
      "metadata": {
        "id": "B2raLg5Z7vy-"
      },
      "execution_count": null,
      "outputs": []
    },
    {
      "cell_type": "markdown",
      "source": [
        "### **Interpretation:**\n",
        "\n",
        "* **Chi-squared statistic:** Measures how much the observed frequencies deviate from the expected frequencies if the two variables (gender and beverage preference) were independent.\n",
        "\n",
        "* **P-value:** If this is below our significance level (often 0.05), we reject the null hypothesis, indicating a significant association between gender and beverage preference.\n",
        "\n",
        "* **Degrees of Freedom:** Calculated based on the number of categories in each variable.\n",
        "Expected Frequencies: The frequencies we would expect if there were no association between the variables."
      ],
      "metadata": {
        "id": "PP2fTHJQ4_Ao"
      }
    },
    {
      "cell_type": "markdown",
      "source": [
        "# Visualization"
      ],
      "metadata": {
        "id": "BMp9iZSJ5dLW"
      }
    },
    {
      "cell_type": "markdown",
      "source": [],
      "metadata": {
        "id": "QBpc6jdS5eiT"
      }
    },
    {
      "cell_type": "code",
      "source": [
        "import matplotlib.pyplot as plt\n",
        "\n",
        "# Data\n",
        "categories = ['1', '2', '3', '4', '5', '6']\n",
        "observed_frequencies = [10, 9, 10, 8, 13, 10]\n",
        "expected_frequencies = [10, 10, 10, 10, 10, 10]\n",
        "\n",
        "# Plotting\n",
        "plt.figure(figsize=(8, 5))\n",
        "plt.bar(categories, observed_frequencies, alpha=0.7, label='Observed Frequencies')\n",
        "plt.plot(categories, expected_frequencies, color='red', marker='D', linestyle='--', label='Expected Frequencies')\n",
        "plt.xlabel('Dice Roll Outcome')\n",
        "plt.ylabel('Frequency')\n",
        "plt.title('Goodness of Fit - Dice Roll Frequencies')\n",
        "plt.legend()\n",
        "plt.show()\n"
      ],
      "metadata": {
        "id": "CX4_xHe85f-a"
      },
      "execution_count": null,
      "outputs": []
    },
    {
      "cell_type": "markdown",
      "source": [
        "Independence test"
      ],
      "metadata": {
        "id": "kxqpW0zf5oYw"
      }
    },
    {
      "cell_type": "code",
      "source": [
        "import numpy as np\n",
        "\n",
        "# Data\n",
        "categories = ['Male', 'Female']\n",
        "tea = [300, 200]  # Frequencies for tea preference\n",
        "coffee = [200, 300]  # Frequencies for coffee preference\n",
        "\n",
        "# Plotting\n",
        "bar_width = 0.35\n",
        "index = np.arange(len(categories))\n",
        "\n",
        "plt.figure(figsize=(8, 5))\n",
        "plt.bar(index, tea, bar_width, alpha=0.7, label='Tea')\n",
        "plt.bar(index + bar_width, coffee, bar_width, alpha=0.7, label='Coffee')\n",
        "plt.xlabel('Gender')\n",
        "plt.ylabel('Frequency')\n",
        "plt.title('Independence Test - Beverage Preferences by Gender')\n",
        "plt.xticks(index + bar_width / 2, categories)\n",
        "plt.legend()\n",
        "plt.show()\n"
      ],
      "metadata": {
        "id": "WWwch30s5mNz"
      },
      "execution_count": null,
      "outputs": []
    },
    {
      "cell_type": "markdown",
      "source": [
        "P value on the figure"
      ],
      "metadata": {
        "id": "1tYTg6icGoUI"
      }
    },
    {
      "cell_type": "code",
      "source": [
        "import numpy as np\n",
        "\n",
        "# Data\n",
        "categories = ['Male', 'Female']\n",
        "tea = [300, 200]  # Frequencies for tea preference\n",
        "coffee = [200, 300]  # Frequencies for coffee preference\n",
        "\n",
        "# Plotting\n",
        "bar_width = 0.35\n",
        "index = np.arange(len(categories))\n",
        "\n",
        "plt.figure(figsize=(8, 5))\n",
        "plt.bar(index, tea, bar_width, alpha=0.7, label='Tea')\n",
        "plt.bar(index + bar_width, coffee, bar_width, alpha=0.7, label='Coffee')\n",
        "plt.xlabel('Gender')\n",
        "plt.ylabel('Frequency')\n",
        "plt.title('Independence Test - Beverage Preferences by Gender')\n",
        "plt.xticks(index + bar_width / 2, categories)\n",
        "plt.legend()\n",
        "\n",
        "# Calculate and display the p-value\n",
        "p_value = 0.0  # Replace with the actual p-value from your independence test\n",
        "plt.text(0.6, max(max(tea), max(coffee)), f'p = {p_value:.3f}', ha='center', fontsize=12, color='red')\n",
        "\n",
        "\n",
        "plt.show()\n"
      ],
      "metadata": {
        "id": "X0WUMlNOFzvj"
      },
      "execution_count": null,
      "outputs": []
    },
    {
      "cell_type": "code",
      "source": [
        "import matplotlib.pyplot as plt\n",
        "import numpy as np\n",
        "\n",
        "# Observed Data\n",
        "categories = ['Male', 'Female']\n",
        "tea_observed = [300, 200]  # Observed frequencies for tea\n",
        "coffee_observed = [200, 300]  # Observed frequencies for coffee\n",
        "\n",
        "# Expected Data (assuming no difference between genders)\n",
        "total = np.sum(tea_observed + coffee_observed)\n",
        "tea_expected = [total / 4, total / 4]  # Evenly distributed\n",
        "coffee_expected = [total / 4, total / 4]  # Evenly distributed\n",
        "\n",
        "# Plotting\n",
        "bar_width = 0.35\n",
        "index = np.arange(len(categories))\n",
        "\n",
        "plt.figure(figsize=(10, 6))\n",
        "plt.bar(index, tea_observed, bar_width, alpha=0.7, label='Tea (Observed)')\n",
        "plt.bar(index, tea_expected, bar_width, alpha=0.3, color='blue', label='Tea (Expected)', hatch='//')\n",
        "plt.bar(index + bar_width, coffee_observed, bar_width, alpha=0.7, label='Coffee (Observed)')\n",
        "plt.bar(index + bar_width, coffee_expected, bar_width, alpha=0.3, color='orange', label='Coffee (Expected)', hatch='//')\n",
        "plt.xlabel('Gender')\n",
        "plt.ylabel('Frequency')\n",
        "plt.title('Comparison of Observed and Expected Frequencies by Beverage and Gender')\n",
        "plt.xticks(index + bar_width / 2, categories)\n",
        "plt.legend()\n",
        "\n",
        "# Calculate and display the p-value\n",
        "p_value = 0.0  # Replace with the actual p-value from your independence test\n",
        "y_center = np.mean(plt.ylim())  # Calculate the y-coordinate for the center of the plot's y-axis range\n",
        "plt.text(0.7, y_center, f'p = {p_value:.3f}', va='center', ha='center', fontsize=12, color='red')\n",
        "\n",
        "plt.show()\n"
      ],
      "metadata": {
        "id": "5bYNhkX26HMu"
      },
      "execution_count": null,
      "outputs": []
    },
    {
      "cell_type": "markdown",
      "source": [
        "## Association plot"
      ],
      "metadata": {
        "id": "OFRCDBxk9D5l"
      }
    },
    {
      "cell_type": "code",
      "source": [
        "!!pip install seaborn matplotlib"
      ],
      "metadata": {
        "id": "SnJ2R2mG82rZ"
      },
      "execution_count": null,
      "outputs": []
    },
    {
      "cell_type": "code",
      "source": [
        "import seaborn as sns\n",
        "import matplotlib.pyplot as plt\n",
        "import pandas as pd\n",
        "\n",
        "# Your Data\n",
        "categories = ['Male', 'Female']\n",
        "tea_observed = [300, 200]  # Observed frequencies for tea\n",
        "coffee_observed = [200, 300]  # Observed frequencies for coffee\n",
        "\n",
        "# Creating DataFrame\n",
        "data = pd.DataFrame({'Tea': tea_observed, 'Coffee': coffee_observed}, index=categories)\n",
        "\n",
        "# Create a pivot table for the assoc plot\n",
        "pivot_table = data.pivot_table(columns=categories)\n",
        "\n",
        "# Create the assoc plot\n",
        "sns.heatmap(pivot_table, annot=True, cmap=\"YlGnBu\")\n",
        "\n",
        "# Adding labels and title\n",
        "plt.title('Association Plot - Beverage Preferences by Gender')\n",
        "plt.ylabel('Beverage')\n",
        "plt.xlabel('Gender')\n",
        "plt.show()\n"
      ],
      "metadata": {
        "id": "tspNhHBy9HkY"
      },
      "execution_count": null,
      "outputs": []
    },
    {
      "cell_type": "code",
      "source": [
        "import matplotlib.pyplot as plt\n",
        "import pandas as pd\n",
        "import numpy as np\n",
        "\n",
        "# Your data\n",
        "categories = ['Male', 'Female']\n",
        "tea_observed = [300, 200]  # Observed frequencies for tea\n",
        "coffee_observed = [200, 300]  # Observed frequencies for coffee\n",
        "\n",
        "# Calculate the expected values assuming even distribution\n",
        "total = sum(tea_observed) + sum(coffee_observed)\n",
        "expected = total / (2 * len(categories))  # Evenly distributed among all categories\n",
        "\n",
        "# Calculate differences from expected values\n",
        "tea_diff = np.array(tea_observed) - expected\n",
        "coffee_diff = np.array(coffee_observed) - expected\n",
        "\n",
        "# Creating a DataFrame for plotting\n",
        "data = pd.DataFrame({'Tea': tea_diff, 'Coffee': coffee_diff}, index=categories)\n",
        "\n",
        "# Plotting\n",
        "data.plot(kind='bar', figsize=(10, 6))\n",
        "\n",
        "# Customizing the plot\n",
        "plt.axhline(y=0, color='k', linestyle='-')  # Adds a horizontal line at y=0\n",
        "plt.ylabel('Difference from Expected')\n",
        "plt.title('Difference in Beverage Preferences from Expected by Gender')\n",
        "plt.show()\n"
      ],
      "metadata": {
        "id": "OKs4cEaY9Z59"
      },
      "execution_count": null,
      "outputs": []
    },
    {
      "cell_type": "markdown",
      "source": [
        "# Reporting table"
      ],
      "metadata": {
        "id": "qeGK3Yom-WNZ"
      }
    },
    {
      "cell_type": "code",
      "source": [
        "# Goodness of fit test result (with data#2)\n",
        "\n",
        "from scipy.stats import chisquare\n",
        "import pandas as pd\n",
        "from tabulate import tabulate\n",
        "\n",
        "# Observed and expected frequencies\n",
        "observed_frequencies = [150, 80, 90, 85, 95, 100]\n",
        "expected_frequencies = [100, 100, 100, 100, 100, 100]\n",
        "\n",
        "# Conducting the chi-squared goodness of fit test\n",
        "chi_stat, p_value = chisquare(f_obs=observed_frequencies, f_exp=expected_frequencies)\n",
        "\n",
        "# Creating a DataFrame for the APA style table\n",
        "table_data = pd.DataFrame({\n",
        "    \"Statistic\": [\"Chi-Squared\", \"df\", \"p\"],\n",
        "    \"Value\": [chi_stat, len(observed_frequencies) - 1, \"{:.2e}\".format(p_value)]\n",
        "})\n",
        "\n",
        "# Formatting the table in APA style\n",
        "apa_table = tabulate(table_data, headers='keys', tablefmt='pipe', showindex=False)\n",
        "print(apa_table)\n"
      ],
      "metadata": {
        "id": "nKKZoQaYAK8x"
      },
      "execution_count": null,
      "outputs": []
    },
    {
      "cell_type": "markdown",
      "source": [
        "The results from your Chi-Squared Goodness of Fit test can be interpreted as follows:\n",
        "\n",
        "* Chi-Squared Statistic (32.5): This is a measure of how much the observed frequencies deviate from the expected frequencies. A value of 32.5 is relatively high, which suggests a significant discrepancy between what was observed and what was expected under the null hypothesis.\n",
        "\n",
        "* Degrees of Freedom (5): This value is determined by the number of categories minus one. In your case, it suggests that there were six categories in your test (since 6−1=5). Degrees of freedom are an important aspect in determining the critical value against which the chi-squared statistic is compared.\n",
        "\n",
        "* P-value (4.73e-06): The p-value is a probability that measures the evidence against the null hypothesis. A p-value of 4.73e-06 (which is equal to 0.00000473) is extremely small. This very low p-value indicates that the likelihood of observing such a deviation (or more extreme) from the expected frequencies, assuming the null hypothesis is true, is very low.\n",
        "\n",
        "**Interpretation of the Results**\n",
        "\n",
        "The very low p-value (far below the common alpha level of 0.05) provides strong evidence against the null hypothesis. This suggests that the observed frequencies significantly differ from the expected frequencies.\n",
        "Given these results, you would reject the null hypothesis. **This implies that the observed data do not fit the expected distribution, or, in the context of a dice roll example, it suggests that the die may not be fair.**"
      ],
      "metadata": {
        "id": "cSeqp3pDAQGi"
      }
    },
    {
      "cell_type": "markdown",
      "source": [
        "### The next step is often to examine which specific categories (or outcomes) are contributing most to this difference.\n",
        "\n",
        "1. Examining the Residuals\n",
        "Residuals in this context are the differences between the observed and expected frequencies. They can give you an idea of how each category contributes to the overall chi-squared statistic. The calculation is simple:\n",
        "\n",
        "Residual=Observed Frequency−Expected Frequency\n",
        "\n",
        "For a more standardized measure, you can calculate the standardized residuals:\n",
        "\n",
        "$$\n",
        "\\text{Standardized Residual} = \\frac{\\text{Observed Frequency} - \\text{Expected Frequency}}{\\sqrt{\\text{Expected Frequency}}}\n",
        "$$\n",
        "\n",
        "\n",
        "A larger absolute value of the standardized residual indicates a greater contribution to the overall chi-squared statistic."
      ],
      "metadata": {
        "id": "RL9NeI4OBqyT"
      }
    },
    {
      "cell_type": "code",
      "source": [
        "import pandas as pd\n",
        "import numpy as np\n",
        "\n",
        "# Example Data\n",
        "observed_frequencies = np.array([150, 80, 90, 85, 95, 100])\n",
        "expected_frequencies = np.array([100, 100, 100, 100, 100, 100])\n",
        "\n",
        "# Calculating Residuals\n",
        "residuals = observed_frequencies - expected_frequencies\n",
        "\n",
        "# Calculating Standardized Residuals\n",
        "standardized_residuals = residuals / np.sqrt(expected_frequencies)\n",
        "\n",
        "# Creating a DataFrame for Display\n",
        "residuals_table = pd.DataFrame({\n",
        "    'Category': ['1', '2', '3', '4', '5', '6'],\n",
        "    'Observed': observed_frequencies,\n",
        "    'Expected': expected_frequencies,\n",
        "    'Residual': residuals,\n",
        "    'Standardized Residual': standardized_residuals\n",
        "})\n",
        "\n",
        "print(residuals_table)\n"
      ],
      "metadata": {
        "id": "pATz7Sf1BuyM"
      },
      "execution_count": null,
      "outputs": []
    },
    {
      "cell_type": "markdown",
      "source": [
        "### Residual plot"
      ],
      "metadata": {
        "id": "jvlSDY9SC7we"
      }
    },
    {
      "cell_type": "code",
      "source": [
        "import pandas as pd\n",
        "import numpy as np\n",
        "import matplotlib.pyplot as plt\n",
        "\n",
        "# Example Data\n",
        "observed_frequencies = np.array([150, 80, 90, 85, 95, 100])\n",
        "expected_frequencies = np.array([100, 100, 100, 100, 100, 100])\n",
        "\n",
        "# Calculating Residuals\n",
        "residuals = observed_frequencies - expected_frequencies\n",
        "\n",
        "# Calculating Standardized Residuals\n",
        "standardized_residuals = residuals / np.sqrt(expected_frequencies)\n",
        "\n",
        "# Creating a DataFrame for Display\n",
        "residuals_table = pd.DataFrame({\n",
        "    'Category': ['1', '2', '3', '4', '5', '6'],\n",
        "    'Standardized Residual': standardized_residuals\n",
        "})\n",
        "\n",
        "# Creating a bar plot\n",
        "plt.figure(figsize=(10, 6))\n",
        "plt.bar(residuals_table['Category'], residuals_table['Standardized Residual'], color='blue')\n",
        "plt.xlabel('Category')\n",
        "plt.ylabel('Standardized Residual')\n",
        "plt.title('Standardized Residuals by Category')\n",
        "plt.axhline(y=0, color='black', linestyle='--', linewidth=0.8)  # Add a horizontal line at y=0 for reference\n",
        "plt.show()\n"
      ],
      "metadata": {
        "id": "Ka61rjrwBpcx"
      },
      "execution_count": null,
      "outputs": []
    },
    {
      "cell_type": "markdown",
      "source": [
        "Contribution plot:\n",
        "\n",
        "Contributions are calculated as follows for each category:\n",
        "\n",
        "Contribution = [(Standardized Residuals)^2]/Expected Frequency"
      ],
      "metadata": {
        "id": "upNNt66TDLg_"
      }
    },
    {
      "cell_type": "code",
      "source": [
        "import pandas as pd\n",
        "import numpy as np\n",
        "import matplotlib.pyplot as plt\n",
        "\n",
        "# Example Data\n",
        "observed_frequencies = np.array([150, 80, 90, 85, 95, 100])\n",
        "expected_frequencies = np.array([100, 100, 100, 100, 100, 100])\n",
        "\n",
        "# Calculating Residuals\n",
        "residuals = observed_frequencies - expected_frequencies\n",
        "\n",
        "# Calculating Standardized Residuals\n",
        "standardized_residuals = residuals / np.sqrt(expected_frequencies)\n",
        "\n",
        "# Calculating Contributions\n",
        "contributions = (standardized_residuals ** 2) / expected_frequencies\n",
        "\n",
        "# Creating a DataFrame for Display\n",
        "contributions_table = pd.DataFrame({\n",
        "    'Category': ['1', '2', '3', '4', '5', '6'],\n",
        "    'Contribution': contributions\n",
        "})\n",
        "\n",
        "# Creating a bar plot for contributions\n",
        "plt.figure(figsize=(10, 6))\n",
        "plt.bar(contributions_table['Category'], contributions_table['Contribution'], color='green')\n",
        "plt.xlabel('Category')\n",
        "plt.ylabel('Contribution')\n",
        "plt.title('Contributions to Chi-Squared Statistic by Category')\n",
        "plt.show()\n"
      ],
      "metadata": {
        "id": "vhSzSR11DKm_"
      },
      "execution_count": null,
      "outputs": []
    },
    {
      "cell_type": "markdown",
      "source": [
        "# Independence result report"
      ],
      "metadata": {
        "id": "wJGjDe5fBnT1"
      }
    },
    {
      "cell_type": "code",
      "source": [
        "# Goodness of fit test result\n",
        "\n",
        "import pandas as pd\n",
        "from tabulate import tabulate\n",
        "\n",
        "# Your test results\n",
        "chi_squared_statistic = 39.204  # updated value\n",
        "degrees_of_freedom = 1  # updated value\n",
        "p_value = 3.817573261251463e-10  # updated value\n",
        "expected_frequencies = [[250, 250], [250, 250]]  # updated value\n",
        "\n",
        "# Creating a DataFrame for the table\n",
        "table_data = pd.DataFrame({\n",
        "    \"Statistic\": [\"Chi-Squared\", \"df\", \"p\", \"Expected Frequencies\"],\n",
        "    \"Value\": [chi_squared_statistic, degrees_of_freedom, \"{:.2e}\".format(p_value), str(expected_frequencies)]\n",
        "})\n",
        "\n",
        "# Formatting the table in APA style\n",
        "print(tabulate(table_data, headers='keys', tablefmt='pipe', showindex=False))\n"
      ],
      "metadata": {
        "id": "tVXxAUe8-X6x"
      },
      "execution_count": null,
      "outputs": []
    }
  ]
}