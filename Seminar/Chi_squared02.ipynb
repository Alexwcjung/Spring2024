{
  "nbformat": 4,
  "nbformat_minor": 0,
  "metadata": {
    "colab": {
      "private_outputs": true,
      "provenance": [],
      "authorship_tag": "ABX9TyNq+LU8uccHPk7N51CffPl6",
      "include_colab_link": true
    },
    "kernelspec": {
      "name": "python3",
      "display_name": "Python 3"
    },
    "language_info": {
      "name": "python"
    }
  },
  "cells": [
    {
      "cell_type": "markdown",
      "metadata": {
        "id": "view-in-github",
        "colab_type": "text"
      },
      "source": [
        "<a href=\"https://colab.research.google.com/github/MK316/Spring2024/blob/main/Seminar/Chi_squared02.ipynb\" target=\"_parent\"><img src=\"https://colab.research.google.com/assets/colab-badge.svg\" alt=\"Open In Colab\"/></a>"
      ]
    },
    {
      "cell_type": "markdown",
      "source": [
        "[data set: Food Preferences by gender](https://raw.githubusercontent.com/MK316/Spring2024/main/Seminar/data/FoodPreference.txt)"
      ],
      "metadata": {
        "id": "2uZn2sd7KzDO"
      }
    },
    {
      "cell_type": "markdown",
      "source": [
        "## 🔵 Step 1: Read data (a csv file)\n",
        "\n",
        "1. Using url (online data: e.g., from your github)\n",
        "2. Upload a csv file on colab (folder shape icon on the left tab)\n",
        "3. Upload a csv file from your computer"
      ],
      "metadata": {
        "id": "6h04if8NMMO6"
      }
    },
    {
      "cell_type": "code",
      "execution_count": null,
      "metadata": {
        "id": "rX1IwkiXKwwh"
      },
      "outputs": [],
      "source": [
        "# 1. Using url\n",
        "import pandas as pd\n",
        "import scipy.stats as stats\n",
        "\n",
        "# URL of the raw dataset on GitHub\n",
        "url = 'https://raw.githubusercontent.com/MK316/Spring2024/main/Seminar/data/FoodPreference.csv'\n",
        "\n",
        "# Read the data into a pandas dataframe\n",
        "data = pd.read_csv(url, sep=',') # Update the separator if different\n",
        "\n",
        "# Displaying the first few rows of the dataframe to verify data loading\n",
        "data\n"
      ]
    },
    {
      "cell_type": "code",
      "source": [
        "# 2. Upload the file on colab\n",
        "\n",
        "data = pd.read_csv(\"/content/FoodPreference.csv\")\n",
        "data"
      ],
      "metadata": {
        "id": "KqxEJ3cJL5cl"
      },
      "execution_count": null,
      "outputs": []
    },
    {
      "cell_type": "code",
      "source": [
        "# 3. Upload the file from your computer\n",
        "\n",
        "from google.colab import files\n",
        "import io\n",
        "import pandas as pd\n",
        "\n",
        "# Upload file from your local file system\n",
        "uploaded = files.upload()\n",
        "\n",
        "# Assuming the uploaded file is a CSV, reading it into a DataFrame\n",
        "filename = next(iter(uploaded))\n",
        "df = pd.read_csv(io.BytesIO(uploaded[filename]))\n",
        "\n",
        "# Display the first few rows of the DataFrame\n",
        "print(df.head())\n"
      ],
      "metadata": {
        "id": "L-uf80LIM1Qo"
      },
      "execution_count": null,
      "outputs": []
    },
    {
      "cell_type": "markdown",
      "source": [
        "## 🔵 Step 2: Create a contingency table"
      ],
      "metadata": {
        "id": "qw8A1bXbNVvs"
      }
    },
    {
      "cell_type": "code",
      "source": [
        "# Creating a contingency table\n",
        "contingency_table = pd.crosstab(data['Gender'], data['FoodPreference'])\n",
        "\n",
        "# Displaying the contingency table\n",
        "print(\"Contingency Table:\\n\", contingency_table)"
      ],
      "metadata": {
        "id": "1nnAvbWkL4-e"
      },
      "execution_count": null,
      "outputs": []
    },
    {
      "cell_type": "markdown",
      "source": [
        "## 🔵 Step 3: Chi-squared test"
      ],
      "metadata": {
        "id": "-nXR-g2wNiN9"
      }
    },
    {
      "cell_type": "markdown",
      "source": [
        "Data#1"
      ],
      "metadata": {
        "id": "9oJxUoJtOQaa"
      }
    },
    {
      "cell_type": "code",
      "source": [
        "# Conducting the Chi-squared test\n",
        "chi2, p, dof, expected = stats.chi2_contingency(contingency_table)\n",
        "\n",
        "# Output the results\n",
        "print(f\"Chi-squared: {chi2}\")\n",
        "print(f\"P-value: {p}\")\n",
        "print(f\"Degrees of Freedom: {dof}\")\n",
        "print(\"Expected Frequencies:\\n\", expected)\n"
      ],
      "metadata": {
        "id": "L2GEfGwjLiZ7"
      },
      "execution_count": null,
      "outputs": []
    },
    {
      "cell_type": "markdown",
      "source": [
        "Data#2"
      ],
      "metadata": {
        "id": "lJAcHapfOT9w"
      }
    },
    {
      "cell_type": "code",
      "source": [
        "url = \"https://raw.githubusercontent.com/MK316/Spring2024/main/Seminar/data/FoodPreference2.csv\"\n",
        "data2 = pd.read_csv(url, sep=',')\n",
        "\n",
        "# Creating a contingency table\n",
        "contingency_table = pd.crosstab(data2['Gender'], data2['FoodPreference'])\n",
        "\n",
        "# Displaying the contingency table\n",
        "print(\"Contingency Table:\\n\", contingency_table)\n",
        "\n",
        "# Conducting the Chi-squared test\n",
        "chi2, p, dof, expected = stats.chi2_contingency(contingency_table)\n",
        "\n",
        "# Output the results\n",
        "print(f\"Chi-squared: {chi2}\")\n",
        "print(f\"P-value: {p}\")\n",
        "print(f\"Degrees of Freedom: {dof}\")\n",
        "print(\"Expected Frequencies:\\n\", expected)"
      ],
      "metadata": {
        "id": "SWblCfdtOX-m"
      },
      "execution_count": null,
      "outputs": []
    },
    {
      "cell_type": "markdown",
      "source": [
        "## 🔵 Step 4: Visual summary\n",
        "\n",
        "Choose effective plots for your descriptions of data and/or data result\n",
        "\n",
        "Current data: data (p>0.05), data2 (p<0.0)"
      ],
      "metadata": {
        "id": "ZqHYQAICN1yE"
      }
    },
    {
      "cell_type": "markdown",
      "source": [
        "## [1] Visualize the data with 'data'"
      ],
      "metadata": {
        "id": "ZayuEYWKQCQW"
      }
    },
    {
      "cell_type": "code",
      "source": [],
      "metadata": {
        "id": "4X8FCH9-QNKk"
      },
      "execution_count": null,
      "outputs": []
    },
    {
      "cell_type": "markdown",
      "source": [
        "## [2] Visualize the data with 'data2'"
      ],
      "metadata": {
        "id": "9i7N3w59QJgH"
      }
    },
    {
      "cell_type": "code",
      "source": [],
      "metadata": {
        "id": "5-FJYkD7N1RW"
      },
      "execution_count": null,
      "outputs": []
    }
  ]
}